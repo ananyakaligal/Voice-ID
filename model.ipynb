{
 "cells": [
  {
   "cell_type": "markdown",
   "metadata": {},
   "source": [
    "Format Histograms"
   ]
  },
  {
   "cell_type": "markdown",
   "metadata": {},
   "source": [
    "H-Voice\n"
   ]
  },
  {
   "cell_type": "code",
   "execution_count": 2,
   "metadata": {},
   "outputs": [
    {
     "name": "stdout",
     "output_type": "stream",
     "text": [
      "Found 4109 images belonging to 2 classes.\n",
      "Found 1728 images belonging to 2 classes.\n",
      "Found 836 images belonging to 2 classes.\n"
     ]
    }
   ],
   "source": [
    "from tensorflow.keras.preprocessing.image import ImageDataGenerator\n",
    "\n",
    "\n",
    "# ---------- Format training set ---------- #\n",
    "train_dir = 'E:\\DL-project\\Data\\H-Voice\\Training_Set'\n",
    "\n",
    "train_datagen = ImageDataGenerator(\n",
    "    rescale=1./255,        # Normalize pixel values to [0, 1]\n",
    "    horizontal_flip=True,  # Enable horizontal flip augmentation for training data\n",
    ")\n",
    "\n",
    "# Flow training images in batches of 32 using train_datagen generator\n",
    "train_generator_HVoice = train_datagen.flow_from_directory(\n",
    "    train_dir,              # Path to the training directory\n",
    "    target_size=(150, 150), # Resize images to 150x150 pixels\n",
    "    batch_size=32,\n",
    "    class_mode='binary'     # Assuming binary classification\n",
    ")\n",
    "\n",
    "\n",
    "# ---------- Format validation set ---------- #\n",
    "validation_dir = 'E:\\DL-project\\Data\\H-Voice\\Validation_Set'\n",
    "\n",
    "valid_datagen = ImageDataGenerator(\n",
    "    rescale=1./255,  # Normalize pixel values to [0, 1] for validation data\n",
    ")\n",
    "\n",
    "# Flow validation images in batches of 32 using valid_datagen generator\n",
    "valid_generator_HVoice = valid_datagen.flow_from_directory(\n",
    "    validation_dir,         # Path to the validation directory\n",
    "    target_size=(150, 150), # Resize images to 150x150 pixels\n",
    "    batch_size=32,\n",
    "    class_mode='binary'     # Assuming binary classification\n",
    ")\n",
    "\n",
    "\n",
    "# ---------- Format test set ---------- #\n",
    "test_dir = 'E:\\DL-project\\Data\\H-Voice\\Test_Set'\n",
    "\n",
    "test_datagen = ImageDataGenerator(\n",
    "    rescale=1./255,  # Normalize pixel values to [0, 1] for validation data\n",
    ")\n",
    "\n",
    "# Flow validation images in batches of 32 using valid_datagen generator\n",
    "test_generator_HVoice = test_datagen.flow_from_directory(\n",
    "    test_dir,         # Path to the validation directory\n",
    "    target_size=(150, 150), # Resize images to 150x150 pixels\n",
    "    batch_size=32,\n",
    "    class_mode='binary'     # Assuming binary classification\n",
    ")"
   ]
  },
  {
   "cell_type": "markdown",
   "metadata": {},
   "source": [
    "SiF-DeepVC - Regular"
   ]
  },
  {
   "cell_type": "code",
   "execution_count": 6,
   "metadata": {},
   "outputs": [
    {
     "name": "stdout",
     "output_type": "stream",
     "text": [
      "Found 7030 images belonging to 2 classes.\n",
      "Found 1357 images belonging to 2 classes.\n",
      "Found 1350 images belonging to 2 classes.\n",
      "Found 1000 images belonging to 1 classes.\n"
     ]
    }
   ],
   "source": [
    "from tensorflow.keras.preprocessing.image import ImageDataGenerator\n",
    "\n",
    "\n",
    "# ---------- Format training set ---------- #\n",
    "train_dir = 'E:\\DL-project\\Data\\SiF-DeepVC\\Training_Set'\n",
    "\n",
    "train_datagen = ImageDataGenerator(\n",
    "    rescale=1./255,        # Normalize pixel values to [0, 1]\n",
    "    horizontal_flip=True,  # Enable horizontal flip augmentation for training data\n",
    ")\n",
    "\n",
    "# Flow training images in batches of 32 using train_datagen generator\n",
    "train_generator_SiF_reg = train_datagen.flow_from_directory(\n",
    "    train_dir,              # Path to the training directory\n",
    "    target_size=(150, 150), # Resize images to 150x150 pixels\n",
    "    batch_size=32,\n",
    "    class_mode='binary'     # Assuming binary classification\n",
    ")\n",
    "\n",
    "\n",
    "# ---------- Format validation set ---------- #\n",
    "validation_dir = 'E:\\DL-project\\Data\\SiF-DeepVC\\Validation_Set'\n",
    "\n",
    "valid_datagen = ImageDataGenerator(\n",
    "    rescale=1./255,  # Normalize pixel values to [0, 1] for validation data\n",
    ")\n",
    "\n",
    "# Flow validation images in batches of 32 using valid_datagen generator\n",
    "valid_generator_SiF_reg = valid_datagen.flow_from_directory(\n",
    "    validation_dir,         # Path to the validation directory\n",
    "    target_size=(150, 150), # Resize images to 150x150 pixels\n",
    "    batch_size=32,\n",
    "    class_mode='binary'     # Assuming binary classification\n",
    ")\n",
    "\n",
    "\n",
    "# ---------- Format test set ---------- #\n",
    "test_dir = 'E:\\DL-project\\Data\\SiF-DeepVC\\Test_Set'\n",
    "\n",
    "test_datagen = ImageDataGenerator(\n",
    "    rescale=1./255,  # Normalize pixel values to [0, 1] for validation data\n",
    ")\n",
    "\n",
    "# Flow validation images in batches of 32 using valid_datagen generator\n",
    "test_generator_SiF_reg = test_datagen.flow_from_directory(\n",
    "    test_dir,         # Path to the validation directory\n",
    "    target_size=(150, 150), # Resize images to 150x150 pixels\n",
    "    batch_size=32,\n",
    "    class_mode='binary'     # Assuming binary classification\n",
    ")\n",
    "\n",
    "\n",
    "# ---------- Format deep4s test set ---------- #\n",
    "deep4s_dir = 'E:\\DL-project\\Data\\SiF-DeepVC\\Deep4SNet_Target_Test_Set'\n",
    "\n",
    "deep4s_datagen = ImageDataGenerator(\n",
    "    rescale=1./255,  # Normalize pixel values to [0, 1] for validation data\n",
    ")\n",
    "\n",
    "# Flow validation images in batches of 32 using valid_datagen generator\n",
    "deep4s_generator_SiF_reg = deep4s_datagen.flow_from_directory(\n",
    "    deep4s_dir,         # Path to the validation directory\n",
    "    target_size=(150, 150), # Resize images to 150x150 pixels\n",
    "    batch_size=32,\n",
    "    class_mode='binary'     # Assuming binary classification\n",
    ")"
   ]
  },
  {
   "cell_type": "markdown",
   "metadata": {},
   "source": [
    "SiF-DeepVC - Filtered"
   ]
  },
  {
   "cell_type": "code",
   "execution_count": 4,
   "metadata": {},
   "outputs": [
    {
     "name": "stdout",
     "output_type": "stream",
     "text": [
      "Found 6303 images belonging to 2 classes.\n",
      "Found 1351 images belonging to 2 classes.\n",
      "Found 1350 images belonging to 2 classes.\n",
      "Found 1000 images belonging to 1 classes.\n"
     ]
    }
   ],
   "source": [
    "from tensorflow.keras.preprocessing.image import ImageDataGenerator\n",
    "\n",
    "\n",
    "# ---------- Format training set ---------- #\n",
    "train_dir = 'E:\\DL-project\\Data\\SiF-DeepVC\\Training_Set_Filtered'\n",
    "\n",
    "train_datagen = ImageDataGenerator(\n",
    "    rescale=1./255,        # Normalize pixel values to [0, 1]\n",
    "    horizontal_flip=True,  # Enable horizontal flip augmentation for training data\n",
    ")\n",
    "\n",
    "# Flow training images in batches of 32 using train_datagen generator\n",
    "train_generator_SiF_filtered = train_datagen.flow_from_directory(\n",
    "    train_dir,              # Path to the training directory\n",
    "    target_size=(150, 150), # Resize images to 150x150 pixels\n",
    "    batch_size=32,\n",
    "    class_mode='binary'     # Assuming binary classification\n",
    ")\n",
    "\n",
    "\n",
    "# ---------- Format validation set ---------- #\n",
    "validation_dir = 'E:\\DL-project\\Data\\SiF-DeepVC\\Validation_Set_Filtered'\n",
    "\n",
    "valid_datagen = ImageDataGenerator(\n",
    "    rescale=1./255,  # Normalize pixel values to [0, 1] for validation data\n",
    ")\n",
    "\n",
    "# Flow validation images in batches of 32 using valid_datagen generator\n",
    "valid_generator_SiF_filtered = valid_datagen.flow_from_directory(\n",
    "    validation_dir,         # Path to the validation directory\n",
    "    target_size=(150, 150), # Resize images to 150x150 pixels\n",
    "    batch_size=32,\n",
    "    class_mode='binary'     # Assuming binary classification\n",
    ")\n",
    "\n",
    "\n",
    "# ---------- Format test set ---------- #\n",
    "test_dir = 'E:\\DL-project\\Data\\SiF-DeepVC\\Test_Set_Filtered'\n",
    "\n",
    "test_datagen = ImageDataGenerator(\n",
    "    rescale=1./255,  # Normalize pixel values to [0, 1] for validation data\n",
    ")\n",
    "\n",
    "# Flow validation images in batches of 32 using valid_datagen generator\n",
    "test_generator_SiF_filtered = test_datagen.flow_from_directory(\n",
    "    test_dir,         # Path to the validation directory\n",
    "    target_size=(150, 150), # Resize images to 150x150 pixels\n",
    "    batch_size=32,\n",
    "    class_mode='binary'     # Assuming binary classification\n",
    ")\n",
    "\n",
    "\n",
    "# ---------- Format deep4s test set ---------- #\n",
    "deep4s_dir = 'E:\\DL-project\\Data\\SiF-DeepVC\\Deep4SNet_Target_Test_Set_Filtered'\n",
    "\n",
    "deep4s_datagen = ImageDataGenerator(\n",
    "    rescale=1./255,  # Normalize pixel values to [0, 1] for validation data\n",
    ")\n",
    "\n",
    "# Flow validation images in batches of 32 using valid_datagen generator\n",
    "deep4s_generator_SiF_filtered = deep4s_datagen.flow_from_directory(\n",
    "    deep4s_dir,         # Path to the validation directory\n",
    "    target_size=(150, 150), # Resize images to 150x150 pixels\n",
    "    batch_size=32,\n",
    "    class_mode='binary'     # Assuming binary classification\n",
    ")"
   ]
  },
  {
   "cell_type": "markdown",
   "metadata": {},
   "source": [
    "H-Voice + SiF-DeepVC - Regular"
   ]
  },
  {
   "cell_type": "code",
   "execution_count": 5,
   "metadata": {},
   "outputs": [
    {
     "name": "stdout",
     "output_type": "stream",
     "text": [
      "Found 8300 images belonging to 2 classes.\n",
      "Found 3078 images belonging to 2 classes.\n",
      "Found 2186 images belonging to 2 classes.\n"
     ]
    }
   ],
   "source": [
    "from tensorflow.keras.preprocessing.image import ImageDataGenerator\n",
    "\n",
    "\n",
    "# ---------- Format training set ---------- #\n",
    "train_dir = 'E:\\DL-project\\Data\\H-Voice_SiF-Regular\\Training_Set'\n",
    "\n",
    "train_datagen = ImageDataGenerator(\n",
    "    rescale=1./255,        # Normalize pixel values to [0, 1]\n",
    "    horizontal_flip=True,  # Enable horizontal flip augmentation for training data\n",
    ")\n",
    "\n",
    "# Flow training images in batches of 32 using train_datagen generator\n",
    "train_generator_HVoice_SiF_Reg = train_datagen.flow_from_directory(\n",
    "    train_dir,              # Path to the training directory\n",
    "    target_size=(150, 150), # Resize images to 150x150 pixels\n",
    "    batch_size=32,\n",
    "    class_mode='binary'     # Assuming binary classification\n",
    ")\n",
    "\n",
    "\n",
    "# ---------- Format validation set ---------- #\n",
    "validation_dir = 'E:\\DL-project\\Data\\H-Voice_SiF-Regular\\Validation_Set'\n",
    "valid_datagen = ImageDataGenerator(\n",
    "    rescale=1./255,  # Normalize pixel values to [0, 1] for validation data\n",
    ")\n",
    "\n",
    "# Flow validation images in batches of 32 using valid_datagen generator\n",
    "valid_generator_HVoice_SiF_Reg = valid_datagen.flow_from_directory(\n",
    "    validation_dir,         # Path to the validation directory\n",
    "    target_size=(150, 150), # Resize images to 150x150 pixels\n",
    "    batch_size=32,\n",
    "    class_mode='binary'     # Assuming binary classification\n",
    ")\n",
    "\n",
    "\n",
    "# ---------- Format test set ---------- #\n",
    "test_dir = 'E:\\DL-project\\Data\\H-Voice_SiF-Regular\\Test_Set'\n",
    "\n",
    "test_datagen = ImageDataGenerator(\n",
    "    rescale=1./255,  # Normalize pixel values to [0, 1] for validation data\n",
    ")\n",
    "\n",
    "# Flow validation images in batches of 32 using valid_datagen generator\n",
    "test_generator_HVoice_SiF_Reg = test_datagen.flow_from_directory(\n",
    "    test_dir,         # Path to the validation directory\n",
    "    target_size=(150, 150), # Resize images to 150x150 pixels\n",
    "    batch_size=32,\n",
    "    class_mode='binary'     # Assuming binary classification\n",
    ")"
   ]
  },
  {
   "cell_type": "markdown",
   "metadata": {},
   "source": [
    "H-Voice + SiF-DeepVC (Filtered)"
   ]
  },
  {
   "cell_type": "code",
   "execution_count": 7,
   "metadata": {},
   "outputs": [
    {
     "name": "stdout",
     "output_type": "stream",
     "text": [
      "Found 8357 images belonging to 2 classes.\n",
      "Found 3078 images belonging to 2 classes.\n",
      "Found 2186 images belonging to 2 classes.\n"
     ]
    }
   ],
   "source": [
    "from tensorflow.keras.preprocessing.image import ImageDataGenerator\n",
    "\n",
    "\n",
    "# ---------- Format training set ---------- #\n",
    "train_dir = 'E:\\DL-project\\Data\\H-Voice_SiF-Filtered\\Training_Set'\n",
    "\n",
    "train_datagen = ImageDataGenerator(\n",
    "    rescale=1./255,        # Normalize pixel values to [0, 1]\n",
    "    horizontal_flip=True,  # Enable horizontal flip augmentation for training data\n",
    ")\n",
    "\n",
    "# Flow training images in batches of 32 using train_datagen generator\n",
    "train_generator_HVoice_SiF_Filtered = train_datagen.flow_from_directory(\n",
    "    train_dir,              # Path to the training directory\n",
    "    target_size=(150, 150), # Resize images to 150x150 pixels\n",
    "    batch_size=32,\n",
    "    class_mode='binary'     # Assuming binary classification\n",
    ")\n",
    "\n",
    "\n",
    "# ---------- Format validation set ---------- #\n",
    "validation_dir = 'E:\\DL-project\\Data\\H-Voice_SiF-Filtered\\Validation_Set'\n",
    "\n",
    "valid_datagen = ImageDataGenerator(\n",
    "    rescale=1./255,  # Normalize pixel values to [0, 1] for validation data\n",
    ")\n",
    "\n",
    "# Flow validation images in batches of 32 using valid_datagen generator\n",
    "valid_generator_HVoice_SiF_Filtered = valid_datagen.flow_from_directory(\n",
    "    validation_dir,         # Path to the validation directory\n",
    "    target_size=(150, 150), # Resize images to 150x150 pixels\n",
    "    batch_size=32,\n",
    "    class_mode='binary'     # Assuming binary classification\n",
    ")\n",
    "\n",
    "\n",
    "# ---------- Format test set ---------- #\n",
    "test_dir = 'E:\\DL-project\\Data\\H-Voice_SiF-Filtered\\Test_Set'\n",
    "\n",
    "test_datagen = ImageDataGenerator(\n",
    "    rescale=1./255,  # Normalize pixel values to [0, 1] for validation data\n",
    ")\n",
    "\n",
    "# Flow validation images in batches of 32 using valid_datagen generator\n",
    "test_generator_HVoice_SiF_Filtered = test_datagen.flow_from_directory(\n",
    "    test_dir,         # Path to the validation directory\n",
    "    target_size=(150, 150), # Resize images to 150x150 pixels\n",
    "    batch_size=32,\n",
    "    class_mode='binary'     # Assuming binary classification\n",
    ")"
   ]
  },
  {
   "cell_type": "markdown",
   "metadata": {},
   "source": [
    "Modeling (ONLY RUN ONCE)"
   ]
  },
  {
   "cell_type": "markdown",
   "metadata": {},
   "source": [
    "Run once to save the models as keras files"
   ]
  },
  {
   "cell_type": "code",
   "execution_count": 8,
   "metadata": {},
   "outputs": [],
   "source": [
    "import tensorflow as tf\n",
    "from tensorflow.keras.models import Sequential\n",
    "from tensorflow.keras.layers import Conv2D, MaxPooling2D, Flatten, Dense, Dropout\n",
    "from tensorflow.keras.optimizers import RMSprop\n",
    "\n",
    "# Define the Deep4SNet CNN model\n",
    "def create_cnn_model(input_shape, num_classes):\n",
    "    model = Sequential([\n",
    "        Conv2D(32, (3, 3), strides=(1, 1), padding='same', activation='relu', input_shape=input_shape, kernel_initializer='random_normal', bias_initializer='zeros'),\n",
    "        MaxPooling2D((2, 2), strides=(2, 2), padding='valid'),\n",
    "\n",
    "        Conv2D(32, (3, 3), strides=(1, 1), activation='relu'),\n",
    "        MaxPooling2D((2, 2), strides=(2, 2), padding='valid'),\n",
    "\n",
    "        Conv2D(64, (3, 3), strides=(1, 1), activation='relu'),\n",
    "        MaxPooling2D((2, 2), strides=(2, 2), padding='valid'),\n",
    "\n",
    "        Flatten(),\n",
    "        Dense(64, activation='relu'),\n",
    "        Dropout(0.2),\n",
    "        Dense(num_classes, activation='sigmoid')  # Output layer\n",
    "    ])\n",
    "    return model\n",
    "\n",
    "# Adjusted model with increased depth and dropout rates\n",
    "def increased_dropout(input_shape, num_classes):\n",
    "    model = Sequential([\n",
    "        Conv2D(64, (3, 3), strides=(1, 1), padding='same', activation='relu', input_shape=input_shape, kernel_initializer='random_normal', bias_initializer='zeros'),\n",
    "        MaxPooling2D((2, 2), strides=(2, 2), padding='valid'),\n",
    "        Dropout(0.3),  # Increased dropout rate\n",
    "\n",
    "        Conv2D(64, (3, 3), strides=(1, 1), activation='relu'),\n",
    "        MaxPooling2D((2, 2), strides=(2, 2), padding='valid'),\n",
    "        Dropout(0.4),  # Increased dropout rate\n",
    "\n",
    "        Conv2D(128, (3, 3), strides=(1, 1), activation='relu'),\n",
    "        MaxPooling2D((2, 2), strides=(2, 2), padding='valid'),\n",
    "        Dropout(0.4),  # Increased dropout rate\n",
    "\n",
    "        Flatten(),\n",
    "        Dense(128, activation='relu'),\n",
    "        Dropout(0.5),  # Keep dropout rate for the dense layer\n",
    "        Dense(num_classes, activation='sigmoid')\n",
    "    ])\n",
    "    return model\n",
    "\n",
    "# Adjusted model with increased depth\n",
    "def deeper_model(input_shape, num_classes):\n",
    "    model = Sequential([\n",
    "        Conv2D(32, (3, 3), strides=(1, 1), padding='same', activation='relu', input_shape=input_shape, kernel_initializer='random_normal', bias_initializer='zeros'),\n",
    "        Conv2D(32, (3, 3), strides=(1, 1), activation='relu'),\n",
    "        MaxPooling2D((2, 2), strides=(2, 2), padding='valid'),\n",
    "\n",
    "        Conv2D(64, (3, 3), strides=(1, 1), padding='same', activation='relu'),\n",
    "        Conv2D(64, (3, 3), strides=(1, 1), activation='relu'),\n",
    "        MaxPooling2D((2, 2), strides=(2, 2), padding='valid'),\n",
    "\n",
    "        Conv2D(128, (3, 3), strides=(1, 1), padding='same', activation='relu'),\n",
    "        Conv2D(128, (3, 3), strides=(1, 1), activation='relu'),\n",
    "        MaxPooling2D((2, 2), strides=(2, 2), padding='valid'),\n",
    "\n",
    "        Flatten(),\n",
    "        Dense(256, activation='relu'),\n",
    "        Dropout(0.5),\n",
    "        Dense(num_classes, activation='sigmoid')\n",
    "    ])\n",
    "    return model"
   ]
  },
  {
   "cell_type": "markdown",
   "metadata": {},
   "source": [
    "Original - H-Voice"
   ]
  },
  {
   "cell_type": "code",
   "execution_count": 16,
   "metadata": {},
   "outputs": [
    {
     "name": "stdout",
     "output_type": "stream",
     "text": [
      "Error loading model: Error when deserializing class 'Conv2D' using config={'name': 'conv2d', 'trainable': True, 'dtype': 'float32', 'filters': 32, 'kernel_size': [3, 3], 'strides': [1, 1], 'padding': 'valid', 'data_format': 'channels_last', 'dilation_rate': [1, 1], 'activation': 'relu', 'use_bias': True, 'kernel_initializer': {'class_name': 'GlorotUniform', 'config': {'seed': None, 'dtype': 'float32'}}, 'bias_initializer': {'class_name': 'Zeros', 'config': {'dtype': 'float32'}}, 'kernel_regularizer': None, 'bias_regularizer': None, 'activity_regularizer': None, 'kernel_constraint': None, 'bias_constraint': None, 'input_shape': [None, 150, 150, 3]}.\n",
      "\n",
      "Exception encountered: <keras.src.initializers.random_initializers.GlorotUniform object at 0x000001D12CF4C090> could not be deserialized properly. Please ensure that components that are Python object instances (layers, models, etc.) returned by `get_config()` are explicitly deserialized in the model's `from_config()` method.\n",
      "\n",
      "config={'class_name': 'GlorotUniform', 'config': {'seed': None, 'dtype': 'float32'}}.\n",
      "\n",
      "Exception encountered: GlorotUniform.__init__() got an unexpected keyword argument 'dtype'\n"
     ]
    },
    {
     "ename": "NameError",
     "evalue": "name 'model_original_HVoice' is not defined",
     "output_type": "error",
     "traceback": [
      "\u001b[1;31m---------------------------------------------------------------------------\u001b[0m",
      "\u001b[1;31mNameError\u001b[0m                                 Traceback (most recent call last)",
      "Cell \u001b[1;32mIn[16], line 24\u001b[0m\n\u001b[0;32m     21\u001b[0m     \u001b[38;5;28mprint\u001b[39m(\u001b[38;5;124mf\u001b[39m\u001b[38;5;124m\"\u001b[39m\u001b[38;5;124mError loading model: \u001b[39m\u001b[38;5;132;01m{\u001b[39;00me\u001b[38;5;132;01m}\u001b[39;00m\u001b[38;5;124m\"\u001b[39m)\n\u001b[0;32m     23\u001b[0m \u001b[38;5;66;03m# Save the model in a more compatible format\u001b[39;00m\n\u001b[1;32m---> 24\u001b[0m \u001b[43mmodel_original_HVoice\u001b[49m\u001b[38;5;241m.\u001b[39msave(\u001b[38;5;124mr\u001b[39m\u001b[38;5;124m'\u001b[39m\u001b[38;5;124mE:\u001b[39m\u001b[38;5;124m\\\u001b[39m\u001b[38;5;124mDL-project\u001b[39m\u001b[38;5;124m\\\u001b[39m\u001b[38;5;124mModels\u001b[39m\u001b[38;5;124m\\\u001b[39m\u001b[38;5;124mDeep4SNet-Original-HVoice.keras\u001b[39m\u001b[38;5;124m'\u001b[39m)\n",
      "\u001b[1;31mNameError\u001b[0m: name 'model_original_HVoice' is not defined"
     ]
    }
   ],
   "source": [
    "from tensorflow.keras.models import load_model\n",
    "from tensorflow.keras.initializers import GlorotUniform\n",
    "\n",
    "model_path = 'E:\\DL-project\\Models\\Deep4SNet-Original-HVoice\\model_Deep4SNet.h5'\n",
    "weights_path = 'E:\\DL-project\\Models\\Deep4SNet-Original-HVoice\\weights_Deep4SNet.h5'\n",
    "\n",
    "model_original_HVoice = load_model(model_path)\n",
    "model_original_HVoice.load_weights(weights_path)\n",
    "\n",
    "# Save as keras model for moving between computers\n",
    "model_original_HVoice.save('E:\\DL-project\\Models\\Deep4SNet-Original-HVoice.keras')"
   ]
  },
  {
   "cell_type": "code",
   "execution_count": null,
   "metadata": {},
   "outputs": [],
   "source": []
  }
 ],
 "metadata": {
  "kernelspec": {
   "display_name": "Python 3",
   "language": "python",
   "name": "python3"
  },
  "language_info": {
   "codemirror_mode": {
    "name": "ipython",
    "version": 3
   },
   "file_extension": ".py",
   "mimetype": "text/x-python",
   "name": "python",
   "nbconvert_exporter": "python",
   "pygments_lexer": "ipython3",
   "version": "3.11.0"
  }
 },
 "nbformat": 4,
 "nbformat_minor": 2
}
