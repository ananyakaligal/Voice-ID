{
 "cells": [
  {
   "cell_type": "markdown",
   "metadata": {},
   "source": [
    "Format Histograms"
   ]
  },
  {
   "cell_type": "markdown",
   "metadata": {},
   "source": [
    "H-Voice\n"
   ]
  },
  {
   "cell_type": "code",
   "execution_count": 2,
   "metadata": {},
   "outputs": [
    {
     "name": "stdout",
     "output_type": "stream",
     "text": [
      "Found 4109 images belonging to 2 classes.\n",
      "Found 1728 images belonging to 2 classes.\n",
      "Found 836 images belonging to 2 classes.\n"
     ]
    }
   ],
   "source": [
    "from tensorflow.keras.preprocessing.image import ImageDataGenerator\n",
    "\n",
    "\n",
    "# ---------- Format training set ---------- #\n",
    "train_dir = 'E:\\DL-project\\Data\\H-Voice\\Training_Set'\n",
    "\n",
    "train_datagen = ImageDataGenerator(\n",
    "    rescale=1./255,        # Normalize pixel values to [0, 1]\n",
    "    horizontal_flip=True,  # Enable horizontal flip augmentation for training data\n",
    ")\n",
    "\n",
    "# Flow training images in batches of 32 using train_datagen generator\n",
    "train_generator_HVoice = train_datagen.flow_from_directory(\n",
    "    train_dir,              # Path to the training directory\n",
    "    target_size=(150, 150), # Resize images to 150x150 pixels\n",
    "    batch_size=32,\n",
    "    class_mode='binary'     # Assuming binary classification\n",
    ")\n",
    "\n",
    "\n",
    "# ---------- Format validation set ---------- #\n",
    "validation_dir = 'E:\\DL-project\\Data\\H-Voice\\Validation_Set'\n",
    "\n",
    "valid_datagen = ImageDataGenerator(\n",
    "    rescale=1./255,  # Normalize pixel values to [0, 1] for validation data\n",
    ")\n",
    "\n",
    "# Flow validation images in batches of 32 using valid_datagen generator\n",
    "valid_generator_HVoice = valid_datagen.flow_from_directory(\n",
    "    validation_dir,         # Path to the validation directory\n",
    "    target_size=(150, 150), # Resize images to 150x150 pixels\n",
    "    batch_size=32,\n",
    "    class_mode='binary'     # Assuming binary classification\n",
    ")\n",
    "\n",
    "\n",
    "# ---------- Format test set ---------- #\n",
    "test_dir = 'E:\\DL-project\\Data\\H-Voice\\Test_Set'\n",
    "\n",
    "test_datagen = ImageDataGenerator(\n",
    "    rescale=1./255,  # Normalize pixel values to [0, 1] for validation data\n",
    ")\n",
    "\n",
    "# Flow validation images in batches of 32 using valid_datagen generator\n",
    "test_generator_HVoice = test_datagen.flow_from_directory(\n",
    "    test_dir,         # Path to the validation directory\n",
    "    target_size=(150, 150), # Resize images to 150x150 pixels\n",
    "    batch_size=32,\n",
    "    class_mode='binary'     # Assuming binary classification\n",
    ")"
   ]
  },
  {
   "cell_type": "markdown",
   "metadata": {},
   "source": [
    "SiF-DeepVC - Regular"
   ]
  },
  {
   "cell_type": "code",
   "execution_count": 6,
   "metadata": {},
   "outputs": [
    {
     "name": "stdout",
     "output_type": "stream",
     "text": [
      "Found 7030 images belonging to 2 classes.\n",
      "Found 1357 images belonging to 2 classes.\n",
      "Found 1350 images belonging to 2 classes.\n",
      "Found 1000 images belonging to 1 classes.\n"
     ]
    }
   ],
   "source": [
    "from tensorflow.keras.preprocessing.image import ImageDataGenerator\n",
    "\n",
    "\n",
    "# ---------- Format training set ---------- #\n",
    "train_dir = 'E:\\DL-project\\Data\\SiF-DeepVC\\Training_Set'\n",
    "\n",
    "train_datagen = ImageDataGenerator(\n",
    "    rescale=1./255,        # Normalize pixel values to [0, 1]\n",
    "    horizontal_flip=True,  # Enable horizontal flip augmentation for training data\n",
    ")\n",
    "\n",
    "# Flow training images in batches of 32 using train_datagen generator\n",
    "train_generator_SiF_reg = train_datagen.flow_from_directory(\n",
    "    train_dir,              # Path to the training directory\n",
    "    target_size=(150, 150), # Resize images to 150x150 pixels\n",
    "    batch_size=32,\n",
    "    class_mode='binary'     # Assuming binary classification\n",
    ")\n",
    "\n",
    "\n",
    "# ---------- Format validation set ---------- #\n",
    "validation_dir = 'E:\\DL-project\\Data\\SiF-DeepVC\\Validation_Set'\n",
    "\n",
    "valid_datagen = ImageDataGenerator(\n",
    "    rescale=1./255,  # Normalize pixel values to [0, 1] for validation data\n",
    ")\n",
    "\n",
    "# Flow validation images in batches of 32 using valid_datagen generator\n",
    "valid_generator_SiF_reg = valid_datagen.flow_from_directory(\n",
    "    validation_dir,         # Path to the validation directory\n",
    "    target_size=(150, 150), # Resize images to 150x150 pixels\n",
    "    batch_size=32,\n",
    "    class_mode='binary'     # Assuming binary classification\n",
    ")\n",
    "\n",
    "\n",
    "# ---------- Format test set ---------- #\n",
    "test_dir = 'E:\\DL-project\\Data\\SiF-DeepVC\\Test_Set'\n",
    "\n",
    "test_datagen = ImageDataGenerator(\n",
    "    rescale=1./255,  # Normalize pixel values to [0, 1] for validation data\n",
    ")\n",
    "\n",
    "# Flow validation images in batches of 32 using valid_datagen generator\n",
    "test_generator_SiF_reg = test_datagen.flow_from_directory(\n",
    "    test_dir,         # Path to the validation directory\n",
    "    target_size=(150, 150), # Resize images to 150x150 pixels\n",
    "    batch_size=32,\n",
    "    class_mode='binary'     # Assuming binary classification\n",
    ")\n",
    "\n",
    "\n",
    "# ---------- Format deep4s test set ---------- #\n",
    "deep4s_dir = 'E:\\DL-project\\Data\\SiF-DeepVC\\Deep4SNet_Target_Test_Set'\n",
    "\n",
    "deep4s_datagen = ImageDataGenerator(\n",
    "    rescale=1./255,  # Normalize pixel values to [0, 1] for validation data\n",
    ")\n",
    "\n",
    "# Flow validation images in batches of 32 using valid_datagen generator\n",
    "deep4s_generator_SiF_reg = deep4s_datagen.flow_from_directory(\n",
    "    deep4s_dir,         # Path to the validation directory\n",
    "    target_size=(150, 150), # Resize images to 150x150 pixels\n",
    "    batch_size=32,\n",
    "    class_mode='binary'     # Assuming binary classification\n",
    ")"
   ]
  },
  {
   "cell_type": "markdown",
   "metadata": {},
   "source": [
    "SiF-DeepVC - Filtered"
   ]
  },
  {
   "cell_type": "code",
   "execution_count": 4,
   "metadata": {},
   "outputs": [
    {
     "name": "stdout",
     "output_type": "stream",
     "text": [
      "Found 6303 images belonging to 2 classes.\n",
      "Found 1351 images belonging to 2 classes.\n",
      "Found 1350 images belonging to 2 classes.\n",
      "Found 1000 images belonging to 1 classes.\n"
     ]
    }
   ],
   "source": [
    "from tensorflow.keras.preprocessing.image import ImageDataGenerator\n",
    "\n",
    "\n",
    "# ---------- Format training set ---------- #\n",
    "train_dir = 'E:\\DL-project\\Data\\SiF-DeepVC\\Training_Set_Filtered'\n",
    "\n",
    "train_datagen = ImageDataGenerator(\n",
    "    rescale=1./255,        # Normalize pixel values to [0, 1]\n",
    "    horizontal_flip=True,  # Enable horizontal flip augmentation for training data\n",
    ")\n",
    "\n",
    "# Flow training images in batches of 32 using train_datagen generator\n",
    "train_generator_SiF_filtered = train_datagen.flow_from_directory(\n",
    "    train_dir,              # Path to the training directory\n",
    "    target_size=(150, 150), # Resize images to 150x150 pixels\n",
    "    batch_size=32,\n",
    "    class_mode='binary'     # Assuming binary classification\n",
    ")\n",
    "\n",
    "\n",
    "# ---------- Format validation set ---------- #\n",
    "validation_dir = 'E:\\DL-project\\Data\\SiF-DeepVC\\Validation_Set_Filtered'\n",
    "\n",
    "valid_datagen = ImageDataGenerator(\n",
    "    rescale=1./255,  # Normalize pixel values to [0, 1] for validation data\n",
    ")\n",
    "\n",
    "# Flow validation images in batches of 32 using valid_datagen generator\n",
    "valid_generator_SiF_filtered = valid_datagen.flow_from_directory(\n",
    "    validation_dir,         # Path to the validation directory\n",
    "    target_size=(150, 150), # Resize images to 150x150 pixels\n",
    "    batch_size=32,\n",
    "    class_mode='binary'     # Assuming binary classification\n",
    ")\n",
    "\n",
    "\n",
    "# ---------- Format test set ---------- #\n",
    "test_dir = 'E:\\DL-project\\Data\\SiF-DeepVC\\Test_Set_Filtered'\n",
    "\n",
    "test_datagen = ImageDataGenerator(\n",
    "    rescale=1./255,  # Normalize pixel values to [0, 1] for validation data\n",
    ")\n",
    "\n",
    "# Flow validation images in batches of 32 using valid_datagen generator\n",
    "test_generator_SiF_filtered = test_datagen.flow_from_directory(\n",
    "    test_dir,         # Path to the validation directory\n",
    "    target_size=(150, 150), # Resize images to 150x150 pixels\n",
    "    batch_size=32,\n",
    "    class_mode='binary'     # Assuming binary classification\n",
    ")\n",
    "\n",
    "\n",
    "# ---------- Format deep4s test set ---------- #\n",
    "deep4s_dir = 'E:\\DL-project\\Data\\SiF-DeepVC\\Deep4SNet_Target_Test_Set_Filtered'\n",
    "\n",
    "deep4s_datagen = ImageDataGenerator(\n",
    "    rescale=1./255,  # Normalize pixel values to [0, 1] for validation data\n",
    ")\n",
    "\n",
    "# Flow validation images in batches of 32 using valid_datagen generator\n",
    "deep4s_generator_SiF_filtered = deep4s_datagen.flow_from_directory(\n",
    "    deep4s_dir,         # Path to the validation directory\n",
    "    target_size=(150, 150), # Resize images to 150x150 pixels\n",
    "    batch_size=32,\n",
    "    class_mode='binary'     # Assuming binary classification\n",
    ")"
   ]
  },
  {
   "cell_type": "markdown",
   "metadata": {},
   "source": [
    "H-Voice + SiF-DeepVC - Regular"
   ]
  },
  {
   "cell_type": "code",
   "execution_count": 5,
   "metadata": {},
   "outputs": [
    {
     "name": "stdout",
     "output_type": "stream",
     "text": [
      "Found 8300 images belonging to 2 classes.\n",
      "Found 3078 images belonging to 2 classes.\n",
      "Found 2186 images belonging to 2 classes.\n"
     ]
    }
   ],
   "source": [
    "from tensorflow.keras.preprocessing.image import ImageDataGenerator\n",
    "\n",
    "\n",
    "# ---------- Format training set ---------- #\n",
    "train_dir = 'E:\\DL-project\\Data\\H-Voice_SiF-Regular\\Training_Set'\n",
    "\n",
    "train_datagen = ImageDataGenerator(\n",
    "    rescale=1./255,        # Normalize pixel values to [0, 1]\n",
    "    horizontal_flip=True,  # Enable horizontal flip augmentation for training data\n",
    ")\n",
    "\n",
    "# Flow training images in batches of 32 using train_datagen generator\n",
    "train_generator_HVoice_SiF_Reg = train_datagen.flow_from_directory(\n",
    "    train_dir,              # Path to the training directory\n",
    "    target_size=(150, 150), # Resize images to 150x150 pixels\n",
    "    batch_size=32,\n",
    "    class_mode='binary'     # Assuming binary classification\n",
    ")\n",
    "\n",
    "\n",
    "# ---------- Format validation set ---------- #\n",
    "validation_dir = 'E:\\DL-project\\Data\\H-Voice_SiF-Regular\\Validation_Set'\n",
    "valid_datagen = ImageDataGenerator(\n",
    "    rescale=1./255,  # Normalize pixel values to [0, 1] for validation data\n",
    ")\n",
    "\n",
    "# Flow validation images in batches of 32 using valid_datagen generator\n",
    "valid_generator_HVoice_SiF_Reg = valid_datagen.flow_from_directory(\n",
    "    validation_dir,         # Path to the validation directory\n",
    "    target_size=(150, 150), # Resize images to 150x150 pixels\n",
    "    batch_size=32,\n",
    "    class_mode='binary'     # Assuming binary classification\n",
    ")\n",
    "\n",
    "\n",
    "# ---------- Format test set ---------- #\n",
    "test_dir = 'E:\\DL-project\\Data\\H-Voice_SiF-Regular\\Test_Set'\n",
    "\n",
    "test_datagen = ImageDataGenerator(\n",
    "    rescale=1./255,  # Normalize pixel values to [0, 1] for validation data\n",
    ")\n",
    "\n",
    "# Flow validation images in batches of 32 using valid_datagen generator\n",
    "test_generator_HVoice_SiF_Reg = test_datagen.flow_from_directory(\n",
    "    test_dir,         # Path to the validation directory\n",
    "    target_size=(150, 150), # Resize images to 150x150 pixels\n",
    "    batch_size=32,\n",
    "    class_mode='binary'     # Assuming binary classification\n",
    ")"
   ]
  },
  {
   "cell_type": "markdown",
   "metadata": {},
   "source": [
    "H-Voice + SiF-DeepVC (Filtered)"
   ]
  },
  {
   "cell_type": "code",
   "execution_count": 7,
   "metadata": {},
   "outputs": [
    {
     "name": "stdout",
     "output_type": "stream",
     "text": [
      "Found 8357 images belonging to 2 classes.\n",
      "Found 3078 images belonging to 2 classes.\n",
      "Found 2186 images belonging to 2 classes.\n"
     ]
    }
   ],
   "source": [
    "from tensorflow.keras.preprocessing.image import ImageDataGenerator\n",
    "\n",
    "\n",
    "# ---------- Format training set ---------- #\n",
    "train_dir = 'E:\\DL-project\\Data\\H-Voice_SiF-Filtered\\Training_Set'\n",
    "\n",
    "train_datagen = ImageDataGenerator(\n",
    "    rescale=1./255,        # Normalize pixel values to [0, 1]\n",
    "    horizontal_flip=True,  # Enable horizontal flip augmentation for training data\n",
    ")\n",
    "\n",
    "# Flow training images in batches of 32 using train_datagen generator\n",
    "train_generator_HVoice_SiF_Filtered = train_datagen.flow_from_directory(\n",
    "    train_dir,              # Path to the training directory\n",
    "    target_size=(150, 150), # Resize images to 150x150 pixels\n",
    "    batch_size=32,\n",
    "    class_mode='binary'     # Assuming binary classification\n",
    ")\n",
    "\n",
    "\n",
    "# ---------- Format validation set ---------- #\n",
    "validation_dir = 'E:\\DL-project\\Data\\H-Voice_SiF-Filtered\\Validation_Set'\n",
    "\n",
    "valid_datagen = ImageDataGenerator(\n",
    "    rescale=1./255,  # Normalize pixel values to [0, 1] for validation data\n",
    ")\n",
    "\n",
    "# Flow validation images in batches of 32 using valid_datagen generator\n",
    "valid_generator_HVoice_SiF_Filtered = valid_datagen.flow_from_directory(\n",
    "    validation_dir,         # Path to the validation directory\n",
    "    target_size=(150, 150), # Resize images to 150x150 pixels\n",
    "    batch_size=32,\n",
    "    class_mode='binary'     # Assuming binary classification\n",
    ")\n",
    "\n",
    "\n",
    "# ---------- Format test set ---------- #\n",
    "test_dir = 'E:\\DL-project\\Data\\H-Voice_SiF-Filtered\\Test_Set'\n",
    "\n",
    "test_datagen = ImageDataGenerator(\n",
    "    rescale=1./255,  # Normalize pixel values to [0, 1] for validation data\n",
    ")\n",
    "\n",
    "# Flow validation images in batches of 32 using valid_datagen generator\n",
    "test_generator_HVoice_SiF_Filtered = test_datagen.flow_from_directory(\n",
    "    test_dir,         # Path to the validation directory\n",
    "    target_size=(150, 150), # Resize images to 150x150 pixels\n",
    "    batch_size=32,\n",
    "    class_mode='binary'     # Assuming binary classification\n",
    ")"
   ]
  },
  {
   "cell_type": "code",
   "execution_count": null,
   "metadata": {},
   "outputs": [],
   "source": []
  }
 ],
 "metadata": {
  "kernelspec": {
   "display_name": "Python 3",
   "language": "python",
   "name": "python3"
  },
  "language_info": {
   "codemirror_mode": {
    "name": "ipython",
    "version": 3
   },
   "file_extension": ".py",
   "mimetype": "text/x-python",
   "name": "python",
   "nbconvert_exporter": "python",
   "pygments_lexer": "ipython3",
   "version": "3.11.0"
  }
 },
 "nbformat": 4,
 "nbformat_minor": 2
}
