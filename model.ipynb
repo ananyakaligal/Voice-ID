{
 "cells": [
  {
   "cell_type": "markdown",
   "metadata": {},
   "source": [
    "Format Histograms"
   ]
  },
  {
   "cell_type": "markdown",
   "metadata": {},
   "source": [
    "H-Voice\n"
   ]
  },
  {
   "cell_type": "code",
   "execution_count": 1,
   "metadata": {},
   "outputs": [
    {
     "name": "stdout",
     "output_type": "stream",
     "text": [
      "WARNING:tensorflow:From C:\\Users\\anany\\AppData\\Local\\Programs\\Python\\Python311\\Lib\\site-packages\\keras\\src\\losses.py:2976: The name tf.losses.sparse_softmax_cross_entropy is deprecated. Please use tf.compat.v1.losses.sparse_softmax_cross_entropy instead.\n",
      "\n",
      "Found 4109 images belonging to 2 classes.\n",
      "Found 1728 images belonging to 2 classes.\n",
      "Found 836 images belonging to 2 classes.\n"
     ]
    }
   ],
   "source": [
    "from tensorflow.keras.preprocessing.image import ImageDataGenerator\n",
    "\n",
    "\n",
    "# ---------- Format training set ---------- #\n",
    "train_dir = 'E:\\DL-project\\Data\\H-Voice\\Training_Set'\n",
    "\n",
    "train_datagen = ImageDataGenerator(\n",
    "    rescale=1./255,        # Normalize pixel values to [0, 1]\n",
    "    horizontal_flip=True,  # Enable horizontal flip augmentation for training data\n",
    ")\n",
    "\n",
    "# Flow training images in batches of 32 using train_datagen generator\n",
    "train_generator_HVoice = train_datagen.flow_from_directory(\n",
    "    train_dir,              # Path to the training directory\n",
    "    target_size=(150, 150), # Resize images to 150x150 pixels\n",
    "    batch_size=32,\n",
    "    class_mode='binary'     # Assuming binary classification\n",
    ")\n",
    "\n",
    "\n",
    "# ---------- Format validation set ---------- #\n",
    "validation_dir = 'E:\\DL-project\\Data\\H-Voice\\Validation_Set'\n",
    "\n",
    "valid_datagen = ImageDataGenerator(\n",
    "    rescale=1./255,  # Normalize pixel values to [0, 1] for validation data\n",
    ")\n",
    "\n",
    "# Flow validation images in batches of 32 using valid_datagen generator\n",
    "valid_generator_HVoice = valid_datagen.flow_from_directory(\n",
    "    validation_dir,         # Path to the validation directory\n",
    "    target_size=(150, 150), # Resize images to 150x150 pixels\n",
    "    batch_size=32,\n",
    "    class_mode='binary'     # Assuming binary classification\n",
    ")\n",
    "\n",
    "\n",
    "# ---------- Format test set ---------- #\n",
    "test_dir = 'E:\\DL-project\\Data\\H-Voice\\Test_Set'\n",
    "\n",
    "test_datagen = ImageDataGenerator(\n",
    "    rescale=1./255,  # Normalize pixel values to [0, 1] for validation data\n",
    ")\n",
    "\n",
    "# Flow validation images in batches of 32 using valid_datagen generator\n",
    "test_generator_HVoice = test_datagen.flow_from_directory(\n",
    "    test_dir,         # Path to the validation directory\n",
    "    target_size=(150, 150), # Resize images to 150x150 pixels\n",
    "    batch_size=32,\n",
    "    class_mode='binary'     # Assuming binary classification\n",
    ")"
   ]
  },
  {
   "cell_type": "markdown",
   "metadata": {},
   "source": [
    "SiF-DeepVC - Regular"
   ]
  },
  {
   "cell_type": "code",
   "execution_count": 2,
   "metadata": {},
   "outputs": [
    {
     "name": "stdout",
     "output_type": "stream",
     "text": [
      "Found 7030 images belonging to 2 classes.\n",
      "Found 1357 images belonging to 2 classes.\n",
      "Found 1350 images belonging to 2 classes.\n",
      "Found 1000 images belonging to 1 classes.\n"
     ]
    }
   ],
   "source": [
    "from tensorflow.keras.preprocessing.image import ImageDataGenerator\n",
    "\n",
    "\n",
    "# ---------- Format training set ---------- #\n",
    "train_dir = 'E:\\DL-project\\Data\\SiF-DeepVC\\Training_Set'\n",
    "\n",
    "train_datagen = ImageDataGenerator(\n",
    "    rescale=1./255,        # Normalize pixel values to [0, 1]\n",
    "    horizontal_flip=True,  # Enable horizontal flip augmentation for training data\n",
    ")\n",
    "\n",
    "# Flow training images in batches of 32 using train_datagen generator\n",
    "train_generator_SiF_reg = train_datagen.flow_from_directory(\n",
    "    train_dir,              # Path to the training directory\n",
    "    target_size=(150, 150), # Resize images to 150x150 pixels\n",
    "    batch_size=32,\n",
    "    class_mode='binary'     # Assuming binary classification\n",
    ")\n",
    "\n",
    "\n",
    "# ---------- Format validation set ---------- #\n",
    "validation_dir = 'E:\\DL-project\\Data\\SiF-DeepVC\\Validation_Set'\n",
    "\n",
    "valid_datagen = ImageDataGenerator(\n",
    "    rescale=1./255,  # Normalize pixel values to [0, 1] for validation data\n",
    ")\n",
    "\n",
    "# Flow validation images in batches of 32 using valid_datagen generator\n",
    "valid_generator_SiF_reg = valid_datagen.flow_from_directory(\n",
    "    validation_dir,         # Path to the validation directory\n",
    "    target_size=(150, 150), # Resize images to 150x150 pixels\n",
    "    batch_size=32,\n",
    "    class_mode='binary'     # Assuming binary classification\n",
    ")\n",
    "\n",
    "\n",
    "# ---------- Format test set ---------- #\n",
    "test_dir = 'E:\\DL-project\\Data\\SiF-DeepVC\\Test_Set'\n",
    "\n",
    "test_datagen = ImageDataGenerator(\n",
    "    rescale=1./255,  # Normalize pixel values to [0, 1] for validation data\n",
    ")\n",
    "\n",
    "# Flow validation images in batches of 32 using valid_datagen generator\n",
    "test_generator_SiF_reg = test_datagen.flow_from_directory(\n",
    "    test_dir,         # Path to the validation directory\n",
    "    target_size=(150, 150), # Resize images to 150x150 pixels\n",
    "    batch_size=32,\n",
    "    class_mode='binary'     # Assuming binary classification\n",
    ")\n",
    "\n",
    "\n",
    "# ---------- Format deep4s test set ---------- #\n",
    "deep4s_dir = 'E:\\DL-project\\Data\\SiF-DeepVC\\Deep4SNet_Target_Test_Set'\n",
    "\n",
    "deep4s_datagen = ImageDataGenerator(\n",
    "    rescale=1./255,  # Normalize pixel values to [0, 1] for validation data\n",
    ")\n",
    "\n",
    "# Flow validation images in batches of 32 using valid_datagen generator\n",
    "deep4s_generator_SiF_reg = deep4s_datagen.flow_from_directory(\n",
    "    deep4s_dir,         # Path to the validation directory\n",
    "    target_size=(150, 150), # Resize images to 150x150 pixels\n",
    "    batch_size=32,\n",
    "    class_mode='binary'     # Assuming binary classification\n",
    ")"
   ]
  },
  {
   "cell_type": "markdown",
   "metadata": {},
   "source": [
    "SiF-DeepVC - Filtered"
   ]
  },
  {
   "cell_type": "code",
   "execution_count": 14,
   "metadata": {},
   "outputs": [
    {
     "name": "stdout",
     "output_type": "stream",
     "text": [
      "Found 6303 images belonging to 2 classes.\n",
      "Found 1351 images belonging to 2 classes.\n",
      "Found 1350 images belonging to 2 classes.\n",
      "Found 1000 images belonging to 1 classes.\n"
     ]
    }
   ],
   "source": [
    "from tensorflow.keras.preprocessing.image import ImageDataGenerator\n",
    "\n",
    "\n",
    "# ---------- Format training set ---------- #\n",
    "train_dir = 'E:\\DL-project\\Data\\SiF-DeepVC\\Training_Set_Filtered'\n",
    "\n",
    "train_datagen = ImageDataGenerator(\n",
    "    rescale=1./255,        # Normalize pixel values to [0, 1]\n",
    "    horizontal_flip=True,  # Enable horizontal flip augmentation for training data\n",
    ")\n",
    "\n",
    "# Flow training images in batches of 32 using train_datagen generator\n",
    "train_generator_SiF_filtered = train_datagen.flow_from_directory(\n",
    "    train_dir,              # Path to the training directory\n",
    "    target_size=(150, 150), # Resize images to 150x150 pixels\n",
    "    batch_size=32,\n",
    "    class_mode='binary'     # Assuming binary classification\n",
    ")\n",
    "\n",
    "\n",
    "# ---------- Format validation set ---------- #\n",
    "validation_dir = 'E:\\DL-project\\Data\\SiF-DeepVC\\Validation_Set_Filtered'\n",
    "\n",
    "valid_datagen = ImageDataGenerator(\n",
    "    rescale=1./255,  # Normalize pixel values to [0, 1] for validation data\n",
    ")\n",
    "\n",
    "# Flow validation images in batches of 32 using valid_datagen generator\n",
    "valid_generator_SiF_filtered = valid_datagen.flow_from_directory(\n",
    "    validation_dir,         # Path to the validation directory\n",
    "    target_size=(150, 150), # Resize images to 150x150 pixels\n",
    "    batch_size=32,\n",
    "    class_mode='binary'     # Assuming binary classification\n",
    ")\n",
    "\n",
    "\n",
    "# ---------- Format test set ---------- #\n",
    "test_dir = 'E:\\DL-project\\Data\\SiF-DeepVC\\Test_Set_Filtered'\n",
    "\n",
    "test_datagen = ImageDataGenerator(\n",
    "    rescale=1./255,  # Normalize pixel values to [0, 1] for validation data\n",
    ")\n",
    "\n",
    "# Flow validation images in batches of 32 using valid_datagen generator\n",
    "test_generator_SiF_filtered = test_datagen.flow_from_directory(\n",
    "    test_dir,         # Path to the validation directory\n",
    "    target_size=(150, 150), # Resize images to 150x150 pixels\n",
    "    batch_size=32,\n",
    "    class_mode='binary'     # Assuming binary classification\n",
    ")\n",
    "\n",
    "\n",
    "# ---------- Format deep4s test set ---------- #\n",
    "deep4s_dir = 'E:\\DL-project\\Data\\SiF-DeepVC\\Deep4SNet_Target_Test_Set_Filtered'\n",
    "\n",
    "deep4s_datagen = ImageDataGenerator(\n",
    "    rescale=1./255,  # Normalize pixel values to [0, 1] for validation data\n",
    ")\n",
    "\n",
    "# Flow validation images in batches of 32 using valid_datagen generator\n",
    "deep4s_generator_SiF_filtered = deep4s_datagen.flow_from_directory(\n",
    "    deep4s_dir,         # Path to the validation directory\n",
    "    target_size=(150, 150), # Resize images to 150x150 pixels\n",
    "    batch_size=32,\n",
    "    class_mode='binary'     # Assuming binary classification\n",
    ")"
   ]
  },
  {
   "cell_type": "markdown",
   "metadata": {},
   "source": [
    "H-Voice + SiF-DeepVC - Regular"
   ]
  },
  {
   "cell_type": "code",
   "execution_count": 15,
   "metadata": {},
   "outputs": [
    {
     "name": "stdout",
     "output_type": "stream",
     "text": [
      "Found 8300 images belonging to 2 classes.\n",
      "Found 3078 images belonging to 2 classes.\n",
      "Found 2186 images belonging to 2 classes.\n"
     ]
    }
   ],
   "source": [
    "from tensorflow.keras.preprocessing.image import ImageDataGenerator\n",
    "\n",
    "\n",
    "# ---------- Format training set ---------- #\n",
    "train_dir = 'E:\\DL-project\\Data\\H-Voice_SiF-Regular\\Training_Set'\n",
    "\n",
    "train_datagen = ImageDataGenerator(\n",
    "    rescale=1./255,        # Normalize pixel values to [0, 1]\n",
    "    horizontal_flip=True,  # Enable horizontal flip augmentation for training data\n",
    ")\n",
    "\n",
    "# Flow training images in batches of 32 using train_datagen generator\n",
    "train_generator_HVoice_SiF_Reg = train_datagen.flow_from_directory(\n",
    "    train_dir,              # Path to the training directory\n",
    "    target_size=(150, 150), # Resize images to 150x150 pixels\n",
    "    batch_size=32,\n",
    "    class_mode='binary'     # Assuming binary classification\n",
    ")\n",
    "\n",
    "\n",
    "# ---------- Format validation set ---------- #\n",
    "validation_dir = 'E:\\DL-project\\Data\\H-Voice_SiF-Regular\\Validation_Set'\n",
    "valid_datagen = ImageDataGenerator(\n",
    "    rescale=1./255,  # Normalize pixel values to [0, 1] for validation data\n",
    ")\n",
    "\n",
    "# Flow validation images in batches of 32 using valid_datagen generator\n",
    "valid_generator_HVoice_SiF_Reg = valid_datagen.flow_from_directory(\n",
    "    validation_dir,         # Path to the validation directory\n",
    "    target_size=(150, 150), # Resize images to 150x150 pixels\n",
    "    batch_size=32,\n",
    "    class_mode='binary'     # Assuming binary classification\n",
    ")\n",
    "\n",
    "\n",
    "# ---------- Format test set ---------- #\n",
    "test_dir = 'E:\\DL-project\\Data\\H-Voice_SiF-Regular\\Test_Set'\n",
    "\n",
    "test_datagen = ImageDataGenerator(\n",
    "    rescale=1./255,  # Normalize pixel values to [0, 1] for validation data\n",
    ")\n",
    "\n",
    "# Flow validation images in batches of 32 using valid_datagen generator\n",
    "test_generator_HVoice_SiF_Reg = test_datagen.flow_from_directory(\n",
    "    test_dir,         # Path to the validation directory\n",
    "    target_size=(150, 150), # Resize images to 150x150 pixels\n",
    "    batch_size=32,\n",
    "    class_mode='binary'     # Assuming binary classification\n",
    ")"
   ]
  },
  {
   "cell_type": "markdown",
   "metadata": {},
   "source": [
    "H-Voice + SiF-DeepVC (Filtered)"
   ]
  },
  {
   "cell_type": "code",
   "execution_count": 16,
   "metadata": {},
   "outputs": [
    {
     "name": "stdout",
     "output_type": "stream",
     "text": [
      "Found 8357 images belonging to 2 classes.\n",
      "Found 3078 images belonging to 2 classes.\n",
      "Found 2186 images belonging to 2 classes.\n"
     ]
    }
   ],
   "source": [
    "from tensorflow.keras.preprocessing.image import ImageDataGenerator\n",
    "\n",
    "\n",
    "# ---------- Format training set ---------- #\n",
    "train_dir = 'E:\\DL-project\\Data\\H-Voice_SiF-Filtered\\Training_Set'\n",
    "\n",
    "train_datagen = ImageDataGenerator(\n",
    "    rescale=1./255,        # Normalize pixel values to [0, 1]\n",
    "    horizontal_flip=True,  # Enable horizontal flip augmentation for training data\n",
    ")\n",
    "\n",
    "# Flow training images in batches of 32 using train_datagen generator\n",
    "train_generator_HVoice_SiF_Filtered = train_datagen.flow_from_directory(\n",
    "    train_dir,              # Path to the training directory\n",
    "    target_size=(150, 150), # Resize images to 150x150 pixels\n",
    "    batch_size=32,\n",
    "    class_mode='binary'     # Assuming binary classification\n",
    ")\n",
    "\n",
    "\n",
    "# ---------- Format validation set ---------- #\n",
    "validation_dir = 'E:\\DL-project\\Data\\H-Voice_SiF-Filtered\\Validation_Set'\n",
    "\n",
    "valid_datagen = ImageDataGenerator(\n",
    "    rescale=1./255,  # Normalize pixel values to [0, 1] for validation data\n",
    ")\n",
    "\n",
    "# Flow validation images in batches of 32 using valid_datagen generator\n",
    "valid_generator_HVoice_SiF_Filtered = valid_datagen.flow_from_directory(\n",
    "    validation_dir,         # Path to the validation directory\n",
    "    target_size=(150, 150), # Resize images to 150x150 pixels\n",
    "    batch_size=32,\n",
    "    class_mode='binary'     # Assuming binary classification\n",
    ")\n",
    "\n",
    "\n",
    "# ---------- Format test set ---------- #\n",
    "test_dir = 'E:\\DL-project\\Data\\H-Voice_SiF-Filtered\\Test_Set'\n",
    "\n",
    "test_datagen = ImageDataGenerator(\n",
    "    rescale=1./255,  # Normalize pixel values to [0, 1] for validation data\n",
    ")\n",
    "\n",
    "# Flow validation images in batches of 32 using valid_datagen generator\n",
    "test_generator_HVoice_SiF_Filtered = test_datagen.flow_from_directory(\n",
    "    test_dir,         # Path to the validation directory\n",
    "    target_size=(150, 150), # Resize images to 150x150 pixels\n",
    "    batch_size=32,\n",
    "    class_mode='binary'     # Assuming binary classification\n",
    ")"
   ]
  },
  {
   "cell_type": "markdown",
   "metadata": {},
   "source": [
    "Modeling (ONLY RUN ONCE)"
   ]
  },
  {
   "cell_type": "markdown",
   "metadata": {},
   "source": [
    "Run once to save the models as keras files"
   ]
  },
  {
   "cell_type": "code",
   "execution_count": 7,
   "metadata": {},
   "outputs": [],
   "source": [
    "import tensorflow as tf\n",
    "from tensorflow.keras.models import Sequential\n",
    "from tensorflow.keras.layers import Conv2D, MaxPooling2D, Flatten, Dense, Dropout\n",
    "from tensorflow.keras.optimizers import RMSprop\n",
    "\n",
    "# Define the Deep4SNet CNN model\n",
    "def create_cnn_model(input_shape, num_classes):\n",
    "    model = Sequential([\n",
    "        Conv2D(32, (3, 3), strides=(1, 1), padding='same', activation='relu', input_shape=input_shape, kernel_initializer='random_normal', bias_initializer='zeros'),\n",
    "        MaxPooling2D((2, 2), strides=(2, 2), padding='valid'),\n",
    "\n",
    "        Conv2D(32, (3, 3), strides=(1, 1), activation='relu'),\n",
    "        MaxPooling2D((2, 2), strides=(2, 2), padding='valid'),\n",
    "\n",
    "        Conv2D(64, (3, 3), strides=(1, 1), activation='relu'),\n",
    "        MaxPooling2D((2, 2), strides=(2, 2), padding='valid'),\n",
    "\n",
    "        Flatten(),\n",
    "        Dense(64, activation='relu'),\n",
    "        Dropout(0.2),\n",
    "        Dense(num_classes, activation='sigmoid')  # Output layer\n",
    "    ])\n",
    "    return model\n",
    "\n",
    "# Adjusted model with increased depth and dropout rates\n",
    "def increased_dropout(input_shape, num_classes):\n",
    "    model = Sequential([\n",
    "        Conv2D(64, (3, 3), strides=(1, 1), padding='same', activation='relu', input_shape=input_shape, kernel_initializer='random_normal', bias_initializer='zeros'),\n",
    "        MaxPooling2D((2, 2), strides=(2, 2), padding='valid'),\n",
    "        Dropout(0.3),  # Increased dropout rate\n",
    "\n",
    "        Conv2D(64, (3, 3), strides=(1, 1), activation='relu'),\n",
    "        MaxPooling2D((2, 2), strides=(2, 2), padding='valid'),\n",
    "        Dropout(0.4),  # Increased dropout rate\n",
    "\n",
    "        Conv2D(128, (3, 3), strides=(1, 1), activation='relu'),\n",
    "        MaxPooling2D((2, 2), strides=(2, 2), padding='valid'),\n",
    "        Dropout(0.4),  # Increased dropout rate\n",
    "\n",
    "        Flatten(),\n",
    "        Dense(128, activation='relu'),\n",
    "        Dropout(0.5),  # Keep dropout rate for the dense layer\n",
    "        Dense(num_classes, activation='sigmoid')\n",
    "    ])\n",
    "    return model\n",
    "\n",
    "# Adjusted model with increased depth\n",
    "def deeper_model(input_shape, num_classes):\n",
    "    model = Sequential([\n",
    "        Conv2D(32, (3, 3), strides=(1, 1), padding='same', activation='relu', input_shape=input_shape, kernel_initializer='random_normal', bias_initializer='zeros'),\n",
    "        Conv2D(32, (3, 3), strides=(1, 1), activation='relu'),\n",
    "        MaxPooling2D((2, 2), strides=(2, 2), padding='valid'),\n",
    "\n",
    "        Conv2D(64, (3, 3), strides=(1, 1), padding='same', activation='relu'),\n",
    "        Conv2D(64, (3, 3), strides=(1, 1), activation='relu'),\n",
    "        MaxPooling2D((2, 2), strides=(2, 2), padding='valid'),\n",
    "\n",
    "        Conv2D(128, (3, 3), strides=(1, 1), padding='same', activation='relu'),\n",
    "        Conv2D(128, (3, 3), strides=(1, 1), activation='relu'),\n",
    "        MaxPooling2D((2, 2), strides=(2, 2), padding='valid'),\n",
    "\n",
    "        Flatten(),\n",
    "        Dense(256, activation='relu'),\n",
    "        Dropout(0.5),\n",
    "        Dense(num_classes, activation='sigmoid')\n",
    "    ])\n",
    "    return model"
   ]
  },
  {
   "cell_type": "markdown",
   "metadata": {},
   "source": [
    "Original - H-Voice"
   ]
  },
  {
   "cell_type": "code",
   "execution_count": 3,
   "metadata": {},
   "outputs": [
    {
     "name": "stdout",
     "output_type": "stream",
     "text": [
      "TensorFlow version: 2.15.0\n",
      "Keras version: 2.15.0\n"
     ]
    }
   ],
   "source": [
    "import tensorflow as tf\n",
    "import keras\n",
    "\n",
    "print(\"TensorFlow version:\", tf.__version__)\n",
    "print(\"Keras version:\", keras.__version__)\n"
   ]
  },
  {
   "cell_type": "code",
   "execution_count": 5,
   "metadata": {},
   "outputs": [],
   "source": [
    "from tensorflow.keras.models import load_model\n",
    "\n",
    "model_path = 'E:\\DL-project\\Models\\Deep4SNet-Original-HVoice\\model_Deep4SNet.h5'\n",
    "weights_path = 'E:\\DL-project\\Models\\Deep4SNet-Original-HVoice\\weights_Deep4SNet.h5'\n",
    "\n",
    "model_original_HVoice = load_model(model_path)\n",
    "model_original_HVoice.load_weights(weights_path)\n",
    "\n",
    "# Save as keras model for moving between computers\n",
    "model_original_HVoice.save('E:\\DL-project\\Models\\Deep4SNet-Original-HVoice.keras')"
   ]
  },
  {
   "cell_type": "markdown",
   "metadata": {},
   "source": [
    "Our - H-Voice"
   ]
  },
  {
   "cell_type": "markdown",
   "metadata": {},
   "source": [
    "Closest imitation to the loaded original model\n",
    "Trained on H-Voice histograms"
   ]
  },
  {
   "cell_type": "code",
   "execution_count": 8,
   "metadata": {},
   "outputs": [
    {
     "name": "stdout",
     "output_type": "stream",
     "text": [
      "Epoch 1/10\n",
      "WARNING:tensorflow:From C:\\Users\\anany\\AppData\\Local\\Programs\\Python\\Python311\\Lib\\site-packages\\keras\\src\\utils\\tf_utils.py:492: The name tf.ragged.RaggedTensorValue is deprecated. Please use tf.compat.v1.ragged.RaggedTensorValue instead.\n",
      "\n",
      "WARNING:tensorflow:From C:\\Users\\anany\\AppData\\Local\\Programs\\Python\\Python311\\Lib\\site-packages\\keras\\src\\engine\\base_layer_utils.py:384: The name tf.executing_eagerly_outside_functions is deprecated. Please use tf.compat.v1.executing_eagerly_outside_functions instead.\n",
      "\n",
      "129/129 [==============================] - 47s 353ms/step - loss: 0.7168 - accuracy: 0.5062\n",
      "Epoch 2/10\n",
      "129/129 [==============================] - 19s 149ms/step - loss: 0.6938 - accuracy: 0.5135\n",
      "Epoch 3/10\n",
      "129/129 [==============================] - 21s 161ms/step - loss: 0.6931 - accuracy: 0.5079\n",
      "Epoch 4/10\n",
      "129/129 [==============================] - 21s 164ms/step - loss: 0.6931 - accuracy: 0.5084\n",
      "Epoch 5/10\n",
      "129/129 [==============================] - 21s 165ms/step - loss: 0.6930 - accuracy: 0.5084\n",
      "Epoch 6/10\n",
      "129/129 [==============================] - 21s 163ms/step - loss: 0.6931 - accuracy: 0.5084\n",
      "Epoch 7/10\n",
      "129/129 [==============================] - 20s 157ms/step - loss: 0.6930 - accuracy: 0.5084\n",
      "Epoch 8/10\n",
      "129/129 [==============================] - 23s 177ms/step - loss: 0.6930 - accuracy: 0.5084\n",
      "Epoch 9/10\n",
      "129/129 [==============================] - 22s 169ms/step - loss: 0.6931 - accuracy: 0.5084\n",
      "Epoch 10/10\n",
      "129/129 [==============================] - 22s 173ms/step - loss: 0.6930 - accuracy: 0.5084\n",
      "Model: \"sequential\"\n",
      "_________________________________________________________________\n",
      " Layer (type)                Output Shape              Param #   \n",
      "=================================================================\n",
      " conv2d (Conv2D)             (None, 150, 150, 32)      896       \n",
      "                                                                 \n",
      " max_pooling2d (MaxPooling2  (None, 75, 75, 32)        0         \n",
      " D)                                                              \n",
      "                                                                 \n",
      " conv2d_1 (Conv2D)           (None, 73, 73, 32)        9248      \n",
      "                                                                 \n",
      " max_pooling2d_1 (MaxPoolin  (None, 36, 36, 32)        0         \n",
      " g2D)                                                            \n",
      "                                                                 \n",
      " conv2d_2 (Conv2D)           (None, 34, 34, 64)        18496     \n",
      "                                                                 \n",
      " max_pooling2d_2 (MaxPoolin  (None, 17, 17, 64)        0         \n",
      " g2D)                                                            \n",
      "                                                                 \n",
      " flatten (Flatten)           (None, 18496)             0         \n",
      "                                                                 \n",
      " dense (Dense)               (None, 64)                1183808   \n",
      "                                                                 \n",
      " dropout (Dropout)           (None, 64)                0         \n",
      "                                                                 \n",
      " dense_1 (Dense)             (None, 1)                 65        \n",
      "                                                                 \n",
      "=================================================================\n",
      "Total params: 1212513 (4.63 MB)\n",
      "Trainable params: 1212513 (4.63 MB)\n",
      "Non-trainable params: 0 (0.00 Byte)\n",
      "_________________________________________________________________\n"
     ]
    }
   ],
   "source": [
    "# Model params\n",
    "input_shape = (150, 150, 3)\n",
    "num_classes = 1 # Number of outputs per input\n",
    "\n",
    "# Model trained on training set\n",
    "model_our_HVoice = create_cnn_model(input_shape, num_classes)\n",
    "model_our_HVoice.compile(optimizer=RMSprop(learning_rate=0.001),\n",
    "              loss='binary_crossentropy',\n",
    "              metrics=['accuracy'])\n",
    "model_our_HVoice.fit(train_generator_HVoice, epochs=10)\n",
    "model_our_HVoice.summary()  # Print model summary\n",
    "\n",
    "# Save model\n",
    "model_dir ='E:\\DL-project\\Models\\Deep4SNet-Our-HVoice.keras'\n",
    "#if not os.path.exists(model_dir):\n",
    "#    os.makedirs(model_dir)\n",
    "model_our_HVoice.save(model_dir)"
   ]
  },
  {
   "cell_type": "markdown",
   "metadata": {},
   "source": [
    "Our - H-Voice - Dropout"
   ]
  },
  {
   "cell_type": "code",
   "execution_count": 9,
   "metadata": {},
   "outputs": [
    {
     "name": "stdout",
     "output_type": "stream",
     "text": [
      "Epoch 1/10\n",
      "129/129 [==============================] - 50s 384ms/step - loss: 0.8273 - accuracy: 0.5133\n",
      "Epoch 2/10\n",
      "129/129 [==============================] - 52s 404ms/step - loss: 0.6948 - accuracy: 0.4819\n",
      "Epoch 3/10\n",
      "129/129 [==============================] - 60s 467ms/step - loss: 0.6940 - accuracy: 0.5009\n",
      "Epoch 4/10\n",
      "129/129 [==============================] - 48s 372ms/step - loss: 0.6938 - accuracy: 0.5035\n",
      "Epoch 5/10\n",
      "129/129 [==============================] - 49s 375ms/step - loss: 0.6885 - accuracy: 0.5354\n",
      "Epoch 6/10\n",
      "129/129 [==============================] - 52s 400ms/step - loss: 0.6276 - accuracy: 0.6444\n",
      "Epoch 7/10\n",
      "129/129 [==============================] - 49s 379ms/step - loss: 0.4976 - accuracy: 0.7673\n",
      "Epoch 8/10\n",
      "129/129 [==============================] - 47s 363ms/step - loss: 0.3916 - accuracy: 0.8377\n",
      "Epoch 9/10\n",
      "129/129 [==============================] - 46s 357ms/step - loss: 0.3163 - accuracy: 0.8812\n",
      "Epoch 10/10\n",
      "129/129 [==============================] - 51s 397ms/step - loss: 0.2788 - accuracy: 0.8983\n",
      "Model: \"sequential_1\"\n",
      "_________________________________________________________________\n",
      " Layer (type)                Output Shape              Param #   \n",
      "=================================================================\n",
      " conv2d_3 (Conv2D)           (None, 150, 150, 64)      1792      \n",
      "                                                                 \n",
      " max_pooling2d_3 (MaxPoolin  (None, 75, 75, 64)        0         \n",
      " g2D)                                                            \n",
      "                                                                 \n",
      " dropout_1 (Dropout)         (None, 75, 75, 64)        0         \n",
      "                                                                 \n",
      " conv2d_4 (Conv2D)           (None, 73, 73, 64)        36928     \n",
      "                                                                 \n",
      " max_pooling2d_4 (MaxPoolin  (None, 36, 36, 64)        0         \n",
      " g2D)                                                            \n",
      "                                                                 \n",
      " dropout_2 (Dropout)         (None, 36, 36, 64)        0         \n",
      "                                                                 \n",
      " conv2d_5 (Conv2D)           (None, 34, 34, 128)       73856     \n",
      "                                                                 \n",
      " max_pooling2d_5 (MaxPoolin  (None, 17, 17, 128)       0         \n",
      " g2D)                                                            \n",
      "                                                                 \n",
      " dropout_3 (Dropout)         (None, 17, 17, 128)       0         \n",
      "                                                                 \n",
      " flatten_1 (Flatten)         (None, 36992)             0         \n",
      "                                                                 \n",
      " dense_2 (Dense)             (None, 128)               4735104   \n",
      "                                                                 \n",
      " dropout_4 (Dropout)         (None, 128)               0         \n",
      "                                                                 \n",
      " dense_3 (Dense)             (None, 1)                 129       \n",
      "                                                                 \n",
      "=================================================================\n",
      "Total params: 4847809 (18.49 MB)\n",
      "Trainable params: 4847809 (18.49 MB)\n",
      "Non-trainable params: 0 (0.00 Byte)\n",
      "_________________________________________________________________\n"
     ]
    }
   ],
   "source": [
    "# H-Voice\n",
    "input_shape = (150, 150, 3)\n",
    "num_classes = 1 # Number of outputs per input\n",
    "\n",
    "# Model trained on training set\n",
    "H_voice_drop = increased_dropout(input_shape, num_classes)\n",
    "H_voice_drop.compile(optimizer=RMSprop(learning_rate=0.001),\n",
    "              loss='binary_crossentropy',\n",
    "              metrics=['accuracy'])\n",
    "H_voice_drop.fit(train_generator_HVoice, epochs=10)\n",
    "H_voice_drop.summary()  # Print model summary\n",
    "H_voice_drop.save('E:\\DL-project\\Models\\Deep4SNet-Our-HVoice-Dropout.keras')"
   ]
  },
  {
   "cell_type": "markdown",
   "metadata": {},
   "source": [
    "Our - H-Voice - Deep"
   ]
  },
  {
   "cell_type": "code",
   "execution_count": 10,
   "metadata": {},
   "outputs": [
    {
     "name": "stdout",
     "output_type": "stream",
     "text": [
      "Epoch 1/10\n",
      "129/129 [==============================] - 59s 451ms/step - loss: 0.6972 - accuracy: 0.5125\n",
      "Epoch 2/10\n",
      "129/129 [==============================] - 56s 430ms/step - loss: 0.6937 - accuracy: 0.4979\n",
      "Epoch 3/10\n",
      "129/129 [==============================] - 60s 463ms/step - loss: 0.6935 - accuracy: 0.4962\n",
      "Epoch 4/10\n",
      "129/129 [==============================] - 59s 457ms/step - loss: 0.6935 - accuracy: 0.5094\n",
      "Epoch 5/10\n",
      "129/129 [==============================] - 59s 457ms/step - loss: 0.6933 - accuracy: 0.5060\n",
      "Epoch 6/10\n",
      "129/129 [==============================] - 55s 422ms/step - loss: 0.6931 - accuracy: 0.5074\n",
      "Epoch 7/10\n",
      "129/129 [==============================] - 59s 459ms/step - loss: 0.6931 - accuracy: 0.5013\n",
      "Epoch 8/10\n",
      "129/129 [==============================] - 58s 453ms/step - loss: 0.6931 - accuracy: 0.5082\n",
      "Epoch 9/10\n",
      "129/129 [==============================] - 58s 450ms/step - loss: 0.6931 - accuracy: 0.5084\n",
      "Epoch 10/10\n",
      "129/129 [==============================] - 59s 454ms/step - loss: 0.6930 - accuracy: 0.5062\n",
      "Model: \"sequential_2\"\n",
      "_________________________________________________________________\n",
      " Layer (type)                Output Shape              Param #   \n",
      "=================================================================\n",
      " conv2d_6 (Conv2D)           (None, 150, 150, 32)      896       \n",
      "                                                                 \n",
      " conv2d_7 (Conv2D)           (None, 148, 148, 32)      9248      \n",
      "                                                                 \n",
      " max_pooling2d_6 (MaxPoolin  (None, 74, 74, 32)        0         \n",
      " g2D)                                                            \n",
      "                                                                 \n",
      " conv2d_8 (Conv2D)           (None, 74, 74, 64)        18496     \n",
      "                                                                 \n",
      " conv2d_9 (Conv2D)           (None, 72, 72, 64)        36928     \n",
      "                                                                 \n",
      " max_pooling2d_7 (MaxPoolin  (None, 36, 36, 64)        0         \n",
      " g2D)                                                            \n",
      "                                                                 \n",
      " conv2d_10 (Conv2D)          (None, 36, 36, 128)       73856     \n",
      "                                                                 \n",
      " conv2d_11 (Conv2D)          (None, 34, 34, 128)       147584    \n",
      "                                                                 \n",
      " max_pooling2d_8 (MaxPoolin  (None, 17, 17, 128)       0         \n",
      " g2D)                                                            \n",
      "                                                                 \n",
      " flatten_2 (Flatten)         (None, 36992)             0         \n",
      "                                                                 \n",
      " dense_4 (Dense)             (None, 256)               9470208   \n",
      "                                                                 \n",
      " dropout_5 (Dropout)         (None, 256)               0         \n",
      "                                                                 \n",
      " dense_5 (Dense)             (None, 1)                 257       \n",
      "                                                                 \n",
      "=================================================================\n",
      "Total params: 9757473 (37.22 MB)\n",
      "Trainable params: 9757473 (37.22 MB)\n",
      "Non-trainable params: 0 (0.00 Byte)\n",
      "_________________________________________________________________\n"
     ]
    }
   ],
   "source": [
    "# H-Voice\n",
    "input_shape = (150, 150, 3)\n",
    "num_classes = 1 # Number of outputs per input\n",
    "\n",
    "# Model trained on training set\n",
    "H_voice_deep = deeper_model(input_shape, num_classes)\n",
    "H_voice_deep.compile(optimizer=RMSprop(learning_rate=0.001),\n",
    "              loss='binary_crossentropy',\n",
    "              metrics=['accuracy'])\n",
    "H_voice_deep.fit(train_generator_HVoice, epochs=10)\n",
    "H_voice_deep.summary()  # Print model summary\n",
    "H_voice_deep.save('E:\\DL-project\\Models\\Deep4SNet-Our-HVoice-Deep.keras')"
   ]
  },
  {
   "cell_type": "markdown",
   "metadata": {},
   "source": [
    "Our - SiF-DeepVC - Filtered"
   ]
  },
  {
   "cell_type": "code",
   "execution_count": 17,
   "metadata": {},
   "outputs": [
    {
     "name": "stdout",
     "output_type": "stream",
     "text": [
      "Epoch 1/10\n",
      "197/197 [==============================] - 71s 357ms/step - loss: 0.6030 - accuracy: 0.6678\n",
      "Epoch 2/10\n",
      "197/197 [==============================] - 32s 164ms/step - loss: 0.3472 - accuracy: 0.8599\n",
      "Epoch 3/10\n",
      "197/197 [==============================] - 32s 163ms/step - loss: 0.2570 - accuracy: 0.9035\n",
      "Epoch 4/10\n",
      "197/197 [==============================] - 30s 154ms/step - loss: 0.2248 - accuracy: 0.9175\n",
      "Epoch 5/10\n",
      "197/197 [==============================] - 31s 155ms/step - loss: 0.1901 - accuracy: 0.9311\n",
      "Epoch 6/10\n",
      "197/197 [==============================] - 30s 150ms/step - loss: 0.1918 - accuracy: 0.9318\n",
      "Epoch 7/10\n",
      "197/197 [==============================] - 31s 159ms/step - loss: 0.1777 - accuracy: 0.9402\n",
      "Epoch 8/10\n",
      "197/197 [==============================] - 32s 162ms/step - loss: 0.1642 - accuracy: 0.9448\n",
      "Epoch 9/10\n",
      "197/197 [==============================] - 36s 181ms/step - loss: 0.1606 - accuracy: 0.9424\n",
      "Epoch 10/10\n",
      "197/197 [==============================] - 32s 165ms/step - loss: 0.1564 - accuracy: 0.9472\n",
      "Model: \"sequential_6\"\n",
      "_________________________________________________________________\n",
      " Layer (type)                Output Shape              Param #   \n",
      "=================================================================\n",
      " conv2d_21 (Conv2D)          (None, 150, 150, 32)      896       \n",
      "                                                                 \n",
      " max_pooling2d_18 (MaxPooli  (None, 75, 75, 32)        0         \n",
      " ng2D)                                                           \n",
      "                                                                 \n",
      " conv2d_22 (Conv2D)          (None, 73, 73, 32)        9248      \n",
      "                                                                 \n",
      " max_pooling2d_19 (MaxPooli  (None, 36, 36, 32)        0         \n",
      " ng2D)                                                           \n",
      "                                                                 \n",
      " conv2d_23 (Conv2D)          (None, 34, 34, 64)        18496     \n",
      "                                                                 \n",
      " max_pooling2d_20 (MaxPooli  (None, 17, 17, 64)        0         \n",
      " ng2D)                                                           \n",
      "                                                                 \n",
      " flatten_6 (Flatten)         (None, 18496)             0         \n",
      "                                                                 \n",
      " dense_12 (Dense)            (None, 64)                1183808   \n",
      "                                                                 \n",
      " dropout_9 (Dropout)         (None, 64)                0         \n",
      "                                                                 \n",
      " dense_13 (Dense)            (None, 1)                 65        \n",
      "                                                                 \n",
      "=================================================================\n",
      "Total params: 1212513 (4.63 MB)\n",
      "Trainable params: 1212513 (4.63 MB)\n",
      "Non-trainable params: 0 (0.00 Byte)\n",
      "_________________________________________________________________\n"
     ]
    }
   ],
   "source": [
    "# Model params\n",
    "input_shape = (150, 150, 3)\n",
    "num_classes = 1 # Number of outputs per input\n",
    "\n",
    "# Model trained on training set\n",
    "model_our_SiF_filtered = create_cnn_model(input_shape, num_classes)\n",
    "model_our_SiF_filtered.compile(optimizer=RMSprop(learning_rate=0.001),\n",
    "              loss='binary_crossentropy',\n",
    "              metrics=['accuracy'])\n",
    "model_our_SiF_filtered.fit(train_generator_SiF_filtered, epochs=10)\n",
    "model_our_SiF_filtered.summary()  # Print model summary\n",
    "\n",
    "# Save model\n",
    "model_dir = 'E:\\DL-project\\Models\\Deep4SNet-Our-SiF-Filtered.keras'\n",
    "#if not os.path.exists(model_dir):\n",
    "#    os.makedirs(model_dir)\n",
    "model_our_SiF_filtered.save(model_dir)"
   ]
  },
  {
   "cell_type": "markdown",
   "metadata": {},
   "source": [
    "Our - SiF-DeepVC - Regular"
   ]
  },
  {
   "cell_type": "code",
   "execution_count": 18,
   "metadata": {},
   "outputs": [
    {
     "name": "stdout",
     "output_type": "stream",
     "text": [
      "Epoch 1/10\n",
      "220/220 [==============================] - 80s 363ms/step - loss: 0.5591 - accuracy: 0.6969\n",
      "Epoch 2/10\n",
      "220/220 [==============================] - 39s 177ms/step - loss: 0.3455 - accuracy: 0.8619\n",
      "Epoch 3/10\n",
      "220/220 [==============================] - 38s 174ms/step - loss: 0.2560 - accuracy: 0.9013\n",
      "Epoch 4/10\n",
      "220/220 [==============================] - 37s 166ms/step - loss: 0.2073 - accuracy: 0.9235\n",
      "Epoch 5/10\n",
      "220/220 [==============================] - 36s 164ms/step - loss: 0.1899 - accuracy: 0.9313\n",
      "Epoch 6/10\n",
      "220/220 [==============================] - 36s 161ms/step - loss: 0.1815 - accuracy: 0.9334\n",
      "Epoch 7/10\n",
      "220/220 [==============================] - 34s 153ms/step - loss: 0.1738 - accuracy: 0.9367\n",
      "Epoch 8/10\n",
      "220/220 [==============================] - 35s 157ms/step - loss: 0.1630 - accuracy: 0.9400\n",
      "Epoch 9/10\n",
      "220/220 [==============================] - 34s 156ms/step - loss: 0.1569 - accuracy: 0.9444\n",
      "Epoch 10/10\n",
      "220/220 [==============================] - 39s 178ms/step - loss: 0.1474 - accuracy: 0.9468\n",
      "Model: \"sequential_7\"\n",
      "_________________________________________________________________\n",
      " Layer (type)                Output Shape              Param #   \n",
      "=================================================================\n",
      " conv2d_24 (Conv2D)          (None, 150, 150, 32)      896       \n",
      "                                                                 \n",
      " max_pooling2d_21 (MaxPooli  (None, 75, 75, 32)        0         \n",
      " ng2D)                                                           \n",
      "                                                                 \n",
      " conv2d_25 (Conv2D)          (None, 73, 73, 32)        9248      \n",
      "                                                                 \n",
      " max_pooling2d_22 (MaxPooli  (None, 36, 36, 32)        0         \n",
      " ng2D)                                                           \n",
      "                                                                 \n",
      " conv2d_26 (Conv2D)          (None, 34, 34, 64)        18496     \n",
      "                                                                 \n",
      " max_pooling2d_23 (MaxPooli  (None, 17, 17, 64)        0         \n",
      " ng2D)                                                           \n",
      "                                                                 \n",
      " flatten_7 (Flatten)         (None, 18496)             0         \n",
      "                                                                 \n",
      " dense_14 (Dense)            (None, 64)                1183808   \n",
      "                                                                 \n",
      " dropout_10 (Dropout)        (None, 64)                0         \n",
      "                                                                 \n",
      " dense_15 (Dense)            (None, 1)                 65        \n",
      "                                                                 \n",
      "=================================================================\n",
      "Total params: 1212513 (4.63 MB)\n",
      "Trainable params: 1212513 (4.63 MB)\n",
      "Non-trainable params: 0 (0.00 Byte)\n",
      "_________________________________________________________________\n"
     ]
    }
   ],
   "source": [
    "# Model params\n",
    "input_shape = (150, 150, 3)\n",
    "num_classes = 1 # Number of outputs per input\n",
    "\n",
    "# Model trained on training set\n",
    "model_our_SiF_regular = create_cnn_model(input_shape, num_classes)\n",
    "model_our_SiF_regular.compile(optimizer=RMSprop(learning_rate=0.001),\n",
    "              loss='binary_crossentropy',\n",
    "              metrics=['accuracy'])\n",
    "model_our_SiF_regular.fit(train_generator_SiF_reg, epochs=10)\n",
    "model_our_SiF_regular.summary()  # Print model summary\n",
    "model_our_SiF_regular.save('E:\\DL-project\\Models\\Deep4SNet-Our-SiF-Regular.keras')"
   ]
  },
  {
   "cell_type": "markdown",
   "metadata": {},
   "source": [
    "\n",
    "Our - SiF-DeepVC - Regular - Dropout"
   ]
  },
  {
   "cell_type": "code",
   "execution_count": 47,
   "metadata": {},
   "outputs": [
    {
     "name": "stdout",
     "output_type": "stream",
     "text": [
      "Epoch 1/10\n",
      "220/220 [==============================] - 89s 402ms/step - loss: 0.7261 - accuracy: 0.5590\n",
      "Epoch 2/10\n",
      "220/220 [==============================] - 89s 403ms/step - loss: 0.5306 - accuracy: 0.7239\n",
      "Epoch 3/10\n",
      "220/220 [==============================] - 83s 375ms/step - loss: 0.3871 - accuracy: 0.8357\n",
      "Epoch 4/10\n",
      "220/220 [==============================] - 88s 399ms/step - loss: 0.3235 - accuracy: 0.8701\n",
      "Epoch 5/10\n",
      "220/220 [==============================] - 88s 398ms/step - loss: 0.2918 - accuracy: 0.8839\n",
      "Epoch 6/10\n",
      "220/220 [==============================] - 85s 388ms/step - loss: 0.2694 - accuracy: 0.9010\n",
      "Epoch 7/10\n",
      "220/220 [==============================] - 89s 404ms/step - loss: 0.2578 - accuracy: 0.9061\n",
      "Epoch 8/10\n",
      "220/220 [==============================] - 88s 398ms/step - loss: 0.2529 - accuracy: 0.9078\n",
      "Epoch 9/10\n",
      "220/220 [==============================] - 86s 388ms/step - loss: 0.2409 - accuracy: 0.9091\n",
      "Epoch 10/10\n",
      "220/220 [==============================] - 89s 403ms/step - loss: 0.2311 - accuracy: 0.9132\n",
      "Model: \"sequential_11\"\n",
      "_________________________________________________________________\n",
      " Layer (type)                Output Shape              Param #   \n",
      "=================================================================\n",
      " conv2d_39 (Conv2D)          (None, 150, 150, 64)      1792      \n",
      "                                                                 \n",
      " max_pooling2d_33 (MaxPooli  (None, 75, 75, 64)        0         \n",
      " ng2D)                                                           \n",
      "                                                                 \n",
      " dropout_14 (Dropout)        (None, 75, 75, 64)        0         \n",
      "                                                                 \n",
      " conv2d_40 (Conv2D)          (None, 73, 73, 64)        36928     \n",
      "                                                                 \n",
      " max_pooling2d_34 (MaxPooli  (None, 36, 36, 64)        0         \n",
      " ng2D)                                                           \n",
      "                                                                 \n",
      " dropout_15 (Dropout)        (None, 36, 36, 64)        0         \n",
      "                                                                 \n",
      " conv2d_41 (Conv2D)          (None, 34, 34, 128)       73856     \n",
      "                                                                 \n",
      " max_pooling2d_35 (MaxPooli  (None, 17, 17, 128)       0         \n",
      " ng2D)                                                           \n",
      "                                                                 \n",
      " dropout_16 (Dropout)        (None, 17, 17, 128)       0         \n",
      "                                                                 \n",
      " flatten_11 (Flatten)        (None, 36992)             0         \n",
      "                                                                 \n",
      " dense_22 (Dense)            (None, 128)               4735104   \n",
      "                                                                 \n",
      " dropout_17 (Dropout)        (None, 128)               0         \n",
      "                                                                 \n",
      " dense_23 (Dense)            (None, 1)                 129       \n",
      "                                                                 \n",
      "=================================================================\n",
      "Total params: 4847809 (18.49 MB)\n",
      "Trainable params: 4847809 (18.49 MB)\n",
      "Non-trainable params: 0 (0.00 Byte)\n",
      "_________________________________________________________________\n"
     ]
    }
   ],
   "source": [
    "# Regular SiF\n",
    "input_shape = (150, 150, 3)\n",
    "num_classes = 1 # Number of outputs per input\n",
    "\n",
    "# Model trained on training set\n",
    "sif_reg_drop = increased_dropout(input_shape, num_classes)\n",
    "sif_reg_drop.compile(optimizer=RMSprop(learning_rate=0.001),\n",
    "              loss='binary_crossentropy',\n",
    "              metrics=['accuracy'])\n",
    "sif_reg_drop.fit(train_generator_SiF_reg, epochs=10)\n",
    "sif_reg_drop.summary()  # Print model summary\n",
    "sif_reg_drop.save('E:\\DL-project\\Models\\Deep4SNet-Our-SiF-Regular-Dropout.keras')"
   ]
  },
  {
   "cell_type": "markdown",
   "metadata": {},
   "source": [
    "\n",
    "Our - SiF-DeepVC - Regular - Deep"
   ]
  },
  {
   "cell_type": "code",
   "execution_count": 19,
   "metadata": {},
   "outputs": [
    {
     "name": "stdout",
     "output_type": "stream",
     "text": [
      "Epoch 1/10\n",
      "220/220 [==============================] - 99s 446ms/step - loss: 0.6416 - accuracy: 0.5945\n",
      "Epoch 2/10\n",
      "220/220 [==============================] - 95s 429ms/step - loss: 0.4658 - accuracy: 0.7898\n",
      "Epoch 3/10\n",
      "220/220 [==============================] - 97s 438ms/step - loss: 0.3483 - accuracy: 0.8528\n",
      "Epoch 4/10\n",
      "220/220 [==============================] - 95s 429ms/step - loss: 0.2655 - accuracy: 0.8963\n",
      "Epoch 5/10\n",
      "220/220 [==============================] - 95s 433ms/step - loss: 0.2114 - accuracy: 0.9229\n",
      "Epoch 6/10\n",
      "220/220 [==============================] - 98s 446ms/step - loss: 0.1854 - accuracy: 0.9326\n",
      "Epoch 7/10\n",
      "220/220 [==============================] - 92s 419ms/step - loss: 0.1744 - accuracy: 0.9356\n",
      "Epoch 8/10\n",
      "220/220 [==============================] - 96s 437ms/step - loss: 0.1619 - accuracy: 0.9417\n",
      "Epoch 9/10\n",
      "220/220 [==============================] - 95s 433ms/step - loss: 0.1562 - accuracy: 0.9455\n",
      "Epoch 10/10\n",
      "220/220 [==============================] - 94s 425ms/step - loss: 0.1475 - accuracy: 0.9488\n",
      "Model: \"sequential_8\"\n",
      "_________________________________________________________________\n",
      " Layer (type)                Output Shape              Param #   \n",
      "=================================================================\n",
      " conv2d_27 (Conv2D)          (None, 150, 150, 32)      896       \n",
      "                                                                 \n",
      " conv2d_28 (Conv2D)          (None, 148, 148, 32)      9248      \n",
      "                                                                 \n",
      " max_pooling2d_24 (MaxPooli  (None, 74, 74, 32)        0         \n",
      " ng2D)                                                           \n",
      "                                                                 \n",
      " conv2d_29 (Conv2D)          (None, 74, 74, 64)        18496     \n",
      "                                                                 \n",
      " conv2d_30 (Conv2D)          (None, 72, 72, 64)        36928     \n",
      "                                                                 \n",
      " max_pooling2d_25 (MaxPooli  (None, 36, 36, 64)        0         \n",
      " ng2D)                                                           \n",
      "                                                                 \n",
      " conv2d_31 (Conv2D)          (None, 36, 36, 128)       73856     \n",
      "                                                                 \n",
      " conv2d_32 (Conv2D)          (None, 34, 34, 128)       147584    \n",
      "                                                                 \n",
      " max_pooling2d_26 (MaxPooli  (None, 17, 17, 128)       0         \n",
      " ng2D)                                                           \n",
      "                                                                 \n",
      " flatten_8 (Flatten)         (None, 36992)             0         \n",
      "                                                                 \n",
      " dense_16 (Dense)            (None, 256)               9470208   \n",
      "                                                                 \n",
      " dropout_11 (Dropout)        (None, 256)               0         \n",
      "                                                                 \n",
      " dense_17 (Dense)            (None, 1)                 257       \n",
      "                                                                 \n",
      "=================================================================\n",
      "Total params: 9757473 (37.22 MB)\n",
      "Trainable params: 9757473 (37.22 MB)\n",
      "Non-trainable params: 0 (0.00 Byte)\n",
      "_________________________________________________________________\n"
     ]
    }
   ],
   "source": [
    "# SiF Regular\n",
    "input_shape = (150, 150, 3)\n",
    "num_classes = 1 # Number of outputs per input\n",
    "\n",
    "# Model trained on training set\n",
    "sif_reg_deep = deeper_model(input_shape, num_classes)\n",
    "sif_reg_deep.compile(optimizer=RMSprop(learning_rate=0.001),\n",
    "              loss='binary_crossentropy',\n",
    "              metrics=['accuracy'])\n",
    "sif_reg_deep.fit(train_generator_SiF_reg, epochs=10)\n",
    "sif_reg_deep.summary()  # Print model summary\n",
    "sif_reg_deep.save('E:\\DL-project\\Models\\Deep4SNet-Our-SiF-Regular-Deep.keras')"
   ]
  },
  {
   "cell_type": "markdown",
   "metadata": {},
   "source": [
    "\n",
    "Our - H-Voice + SiF-DeepVC - Regular"
   ]
  },
  {
   "cell_type": "code",
   "execution_count": 20,
   "metadata": {},
   "outputs": [
    {
     "name": "stdout",
     "output_type": "stream",
     "text": [
      "Epoch 1/10\n",
      "260/260 [==============================] - 94s 359ms/step - loss: 0.5160 - accuracy: 0.7082\n",
      "Epoch 2/10\n",
      "260/260 [==============================] - 45s 172ms/step - loss: 0.3658 - accuracy: 0.8122\n",
      "Epoch 3/10\n",
      "260/260 [==============================] - 46s 176ms/step - loss: 0.2454 - accuracy: 0.8998\n",
      "Epoch 4/10\n",
      "260/260 [==============================] - 43s 164ms/step - loss: 0.1762 - accuracy: 0.9340\n",
      "Epoch 5/10\n",
      "260/260 [==============================] - 45s 173ms/step - loss: 0.1430 - accuracy: 0.9505\n",
      "Epoch 6/10\n",
      "260/260 [==============================] - 42s 161ms/step - loss: 0.1292 - accuracy: 0.9588\n",
      "Epoch 7/10\n",
      "260/260 [==============================] - 41s 157ms/step - loss: 0.1160 - accuracy: 0.9628\n",
      "Epoch 8/10\n",
      "260/260 [==============================] - 41s 158ms/step - loss: 0.1079 - accuracy: 0.9648\n",
      "Epoch 9/10\n",
      "260/260 [==============================] - 39s 151ms/step - loss: 0.0966 - accuracy: 0.9686\n",
      "Epoch 10/10\n",
      "260/260 [==============================] - 39s 150ms/step - loss: 0.0930 - accuracy: 0.9701\n",
      "Model: \"sequential_9\"\n",
      "_________________________________________________________________\n",
      " Layer (type)                Output Shape              Param #   \n",
      "=================================================================\n",
      " conv2d_33 (Conv2D)          (None, 150, 150, 32)      896       \n",
      "                                                                 \n",
      " max_pooling2d_27 (MaxPooli  (None, 75, 75, 32)        0         \n",
      " ng2D)                                                           \n",
      "                                                                 \n",
      " conv2d_34 (Conv2D)          (None, 73, 73, 32)        9248      \n",
      "                                                                 \n",
      " max_pooling2d_28 (MaxPooli  (None, 36, 36, 32)        0         \n",
      " ng2D)                                                           \n",
      "                                                                 \n",
      " conv2d_35 (Conv2D)          (None, 34, 34, 64)        18496     \n",
      "                                                                 \n",
      " max_pooling2d_29 (MaxPooli  (None, 17, 17, 64)        0         \n",
      " ng2D)                                                           \n",
      "                                                                 \n",
      " flatten_9 (Flatten)         (None, 18496)             0         \n",
      "                                                                 \n",
      " dense_18 (Dense)            (None, 64)                1183808   \n",
      "                                                                 \n",
      " dropout_12 (Dropout)        (None, 64)                0         \n",
      "                                                                 \n",
      " dense_19 (Dense)            (None, 1)                 65        \n",
      "                                                                 \n",
      "=================================================================\n",
      "Total params: 1212513 (4.63 MB)\n",
      "Trainable params: 1212513 (4.63 MB)\n",
      "Non-trainable params: 0 (0.00 Byte)\n",
      "_________________________________________________________________\n"
     ]
    }
   ],
   "source": [
    "# Model params\n",
    "input_shape = (150, 150, 3)\n",
    "num_classes = 1 # Number of outputs per input\n",
    "\n",
    "# Model trained on training set\n",
    "model_our_HVoice_SiF_regular = create_cnn_model(input_shape, num_classes)\n",
    "model_our_HVoice_SiF_regular.compile(optimizer=RMSprop(learning_rate=0.001),\n",
    "              loss='binary_crossentropy',\n",
    "              metrics=['accuracy'])\n",
    "model_our_HVoice_SiF_regular.fit(train_generator_HVoice_SiF_Reg, epochs=10)\n",
    "model_our_HVoice_SiF_regular.summary()  # Print model summary\n",
    "\n",
    "# Save model\n",
    "model_dir = 'E:\\DL-project\\Models\\Deep4SNet-Our-HVoice_SiF-Regular.keras'\n",
    "#if not os.path.exists(model_dir):\n",
    "#    os.makedirs(model_dir)\n",
    "model_our_HVoice_SiF_regular.save(model_dir)"
   ]
  },
  {
   "cell_type": "markdown",
   "metadata": {},
   "source": [
    "\n",
    "Our - H-Voice + SiF-DeepVC - Filtered"
   ]
  },
  {
   "cell_type": "code",
   "execution_count": 21,
   "metadata": {},
   "outputs": [
    {
     "name": "stdout",
     "output_type": "stream",
     "text": [
      "Epoch 1/10\n",
      "262/262 [==============================] - 93s 353ms/step - loss: 0.4789 - accuracy: 0.7277\n",
      "Epoch 2/10\n",
      "262/262 [==============================] - 44s 168ms/step - loss: 0.3295 - accuracy: 0.8356\n",
      "Epoch 3/10\n",
      "262/262 [==============================] - 42s 159ms/step - loss: 0.2371 - accuracy: 0.9039\n",
      "Epoch 4/10\n",
      "262/262 [==============================] - 46s 174ms/step - loss: 0.1793 - accuracy: 0.9310\n",
      "Epoch 5/10\n",
      "262/262 [==============================] - 43s 164ms/step - loss: 0.1431 - accuracy: 0.9493\n",
      "Epoch 6/10\n",
      "262/262 [==============================] - 44s 167ms/step - loss: 0.1235 - accuracy: 0.9569\n",
      "Epoch 7/10\n",
      "262/262 [==============================] - 43s 164ms/step - loss: 0.1160 - accuracy: 0.9629\n",
      "Epoch 8/10\n",
      "262/262 [==============================] - 45s 173ms/step - loss: 0.1058 - accuracy: 0.9641\n",
      "Epoch 9/10\n",
      "262/262 [==============================] - 45s 170ms/step - loss: 0.0982 - accuracy: 0.9682\n",
      "Epoch 10/10\n",
      "262/262 [==============================] - 43s 163ms/step - loss: 0.0913 - accuracy: 0.9703\n",
      "Model: \"sequential_10\"\n",
      "_________________________________________________________________\n",
      " Layer (type)                Output Shape              Param #   \n",
      "=================================================================\n",
      " conv2d_36 (Conv2D)          (None, 150, 150, 32)      896       \n",
      "                                                                 \n",
      " max_pooling2d_30 (MaxPooli  (None, 75, 75, 32)        0         \n",
      " ng2D)                                                           \n",
      "                                                                 \n",
      " conv2d_37 (Conv2D)          (None, 73, 73, 32)        9248      \n",
      "                                                                 \n",
      " max_pooling2d_31 (MaxPooli  (None, 36, 36, 32)        0         \n",
      " ng2D)                                                           \n",
      "                                                                 \n",
      " conv2d_38 (Conv2D)          (None, 34, 34, 64)        18496     \n",
      "                                                                 \n",
      " max_pooling2d_32 (MaxPooli  (None, 17, 17, 64)        0         \n",
      " ng2D)                                                           \n",
      "                                                                 \n",
      " flatten_10 (Flatten)        (None, 18496)             0         \n",
      "                                                                 \n",
      " dense_20 (Dense)            (None, 64)                1183808   \n",
      "                                                                 \n",
      " dropout_13 (Dropout)        (None, 64)                0         \n",
      "                                                                 \n",
      " dense_21 (Dense)            (None, 1)                 65        \n",
      "                                                                 \n",
      "=================================================================\n",
      "Total params: 1212513 (4.63 MB)\n",
      "Trainable params: 1212513 (4.63 MB)\n",
      "Non-trainable params: 0 (0.00 Byte)\n",
      "_________________________________________________________________\n"
     ]
    }
   ],
   "source": [
    "# Model params\n",
    "input_shape = (150, 150, 3)\n",
    "num_classes = 1 # Number of outputs per input\n",
    "\n",
    "# Model trained on training set\n",
    "model_our_HVoice_SiF_filtered = create_cnn_model(input_shape, num_classes)\n",
    "model_our_HVoice_SiF_filtered.compile(optimizer=RMSprop(learning_rate=0.001),\n",
    "              loss='binary_crossentropy',\n",
    "              metrics=['accuracy'])\n",
    "model_our_HVoice_SiF_filtered.fit(train_generator_HVoice_SiF_Filtered, epochs=10)\n",
    "model_our_HVoice_SiF_filtered.summary()  # Print model summary\n",
    "\n",
    "# Save model\n",
    "model_dir = 'E:\\DL-project\\Models\\Deep4SNet-Our-HVoice_SiF-Filtered.keras'\n",
    "#if not os.path.exists(model_dir):\n",
    "#    os.makedirs(model_dir)\n",
    "model_our_HVoice_SiF_filtered.save(model_dir)"
   ]
  },
  {
   "cell_type": "markdown",
   "metadata": {},
   "source": [
    "Performances"
   ]
  },
  {
   "cell_type": "markdown",
   "metadata": {},
   "source": [
    "Data - SiF-DeepVC - Regular"
   ]
  },
  {
   "cell_type": "markdown",
   "metadata": {},
   "source": [
    "Original-HVoice"
   ]
  },
  {
   "cell_type": "code",
   "execution_count": 22,
   "metadata": {},
   "outputs": [],
   "source": [
    "import tensorflow as tf\n",
    "from tensorflow.keras.models import load_model\n",
    "\n",
    "# Load the model on CPU\n",
    "model_path = 'E:\\DL-project\\Models\\Deep4SNet-Original-HVoice.keras'\n",
    "model_original_HVoice = load_model(model_path)"
   ]
  },
  {
   "cell_type": "code",
   "execution_count": 23,
   "metadata": {},
   "outputs": [
    {
     "name": "stdout",
     "output_type": "stream",
     "text": [
      "43/43 [==============================] - 15s 337ms/step - loss: 9.8715 - tp: 663.0000 - fp: 631.0000 - tn: 47.0000 - fn: 16.0000 - accuracy: 0.5232 - precision: 0.5124 - recall: 0.9764 - auc: 0.5421\n",
      "Validation accuracy: 52.32129693031311%\n"
     ]
    }
   ],
   "source": [
    "# Validation Set\n",
    "evaluation_results = model_original_HVoice.evaluate(valid_generator_SiF_reg)\n",
    "print(f'Validation accuracy: {evaluation_results[5] * 100}%')"
   ]
  },
  {
   "cell_type": "code",
   "execution_count": 24,
   "metadata": {},
   "outputs": [
    {
     "name": "stdout",
     "output_type": "stream",
     "text": [
      "43/43 [==============================] - 13s 302ms/step - loss: 9.9456 - tp: 672.0000 - fp: 611.0000 - tn: 54.0000 - fn: 13.0000 - accuracy: 0.5378 - precision: 0.5238 - recall: 0.9810 - auc: 0.5567\n",
      "Test accuracy: 53.77777814865112%\n",
      "FPR: 52.37724084177708%\n"
     ]
    }
   ],
   "source": [
    "# Test set\n",
    "evaluation_results = model_original_HVoice.evaluate(test_generator_SiF_reg)\n",
    "print(f'Test accuracy: {evaluation_results[5] * 100}%')\n",
    "\n",
    "# Compute false positive rate (FPR)\n",
    "TP = evaluation_results[0]\n",
    "FP = evaluation_results[1]\n",
    "TN = evaluation_results[2]\n",
    "FN = evaluation_results[3]\n",
    "FPR = FP / (FP + TN)\n",
    "print(f'FPR: {FPR * 100}%')"
   ]
  },
  {
   "cell_type": "code",
   "execution_count": 25,
   "metadata": {},
   "outputs": [
    {
     "name": "stdout",
     "output_type": "stream",
     "text": [
      "32/32 [==============================] - 9s 294ms/step - loss: 19.3696 - tp: 0.0000e+00 - fp: 910.0000 - tn: 90.0000 - fn: 0.0000e+00 - accuracy: 0.0900 - precision: 0.0000e+00 - recall: 0.0000e+00 - auc: 0.0000e+00\n",
      "Target Test accuracy: 9.000000357627869%\n",
      "TPR: 17.710227478433822%\n"
     ]
    }
   ],
   "source": [
    "\n",
    "# Test on fake voices built specifically against Deep4SNet by SiF-DeepVC\n",
    "evaluation_results = model_original_HVoice.evaluate(deep4s_generator_SiF_reg)\n",
    "print(f'Target Test accuracy: {evaluation_results[5] * 100}%')\n",
    "\n",
    "# Compute trur positive rate (TPR)\n",
    "TP = evaluation_results[0]\n",
    "FP = evaluation_results[1]\n",
    "TN = evaluation_results[2]\n",
    "FN = evaluation_results[3]\n",
    "TPR = TP / (TP + FN)\n",
    "print(f'TPR: {TPR * 100}%')"
   ]
  },
  {
   "cell_type": "code",
   "execution_count": 26,
   "metadata": {},
   "outputs": [
    {
     "name": "stdout",
     "output_type": "stream",
     "text": [
      "43/43 [==============================] - 5s 111ms/step\n",
      "FPR: 95.6390977443609%\n"
     ]
    }
   ],
   "source": [
    "# FPR\n",
    "\n",
    "from sklearn.metrics import confusion_matrix\n",
    "\n",
    "# Predict probabilities for the test set\n",
    "y_pred_proba = model_original_HVoice.predict(test_generator_SiF_reg) # ----- CHANGE for Models ---------------\n",
    "\n",
    "# Convert probabilities to binary predictions (0 or 1) based on a threshold\n",
    "threshold = 0.5  # You can adjust this threshold if needed\n",
    "y_pred_binary = (y_pred_proba > threshold).astype(int)\n",
    "\n",
    "# Get true labels for the test set\n",
    "y_true = test_generator_SiF_reg.classes # ----- CHANGE for Models ---------------\n",
    "\n",
    "# Compute confusion matrix\n",
    "conf_matrix = confusion_matrix(y_true, y_pred_binary)\n",
    "\n",
    "# Extract true negatives (TN), false positives (FP), false negatives (FN), and true positives (TP) from the confusion matrix\n",
    "TN = conf_matrix[0, 0]\n",
    "FP = conf_matrix[0, 1]\n",
    "FN = conf_matrix[1, 0]\n",
    "TP = conf_matrix[1, 1]\n",
    "\n",
    "# Compute false positive rate (FPR)\n",
    "FPR = FP / (FP + TN)\n",
    "print(f'FPR: {FPR * 100}%')"
   ]
  },
  {
   "cell_type": "markdown",
   "metadata": {},
   "source": [
    "Our-HVoice"
   ]
  },
  {
   "cell_type": "code",
   "execution_count": 27,
   "metadata": {},
   "outputs": [],
   "source": [
    "from tensorflow.keras.models import load_model\n",
    "\n",
    "# ---------- Load our saved model ---------- #\n",
    "model_path = 'E:\\DL-project\\Models\\Deep4SNet-Our-HVoice.keras'\n",
    "model_our_HVoice = load_model(model_path)"
   ]
  },
  {
   "cell_type": "code",
   "execution_count": 28,
   "metadata": {},
   "outputs": [
    {
     "name": "stdout",
     "output_type": "stream",
     "text": [
      "43/43 [==============================] - 5s 110ms/step - loss: 0.6933 - accuracy: 0.4996\n",
      "Validation accuracy: 49.96315538883209%\n"
     ]
    }
   ],
   "source": [
    "\n",
    "# Validation Set\n",
    "loss_val, accuracy_val = model_our_HVoice.evaluate(valid_generator_SiF_reg)\n",
    "print(f'Validation accuracy: {accuracy_val * 100}%')"
   ]
  },
  {
   "cell_type": "code",
   "execution_count": 29,
   "metadata": {},
   "outputs": [
    {
     "name": "stdout",
     "output_type": "stream",
     "text": [
      "43/43 [==============================] - 5s 117ms/step - loss: 0.6935 - accuracy: 0.4926\n",
      "Test accuracy: 49.259260296821594%\n",
      "FPR: 0.0%\n"
     ]
    }
   ],
   "source": [
    "# Test set\n",
    "loss_test, accuracy_test = model_our_HVoice.evaluate(test_generator_SiF_reg)\n",
    "print(f'Test accuracy: {accuracy_test * 100}%')\n",
    "\n",
    "# Compute false positive rate (FPR)\n",
    "TP = evaluation_results[0]\n",
    "FP = evaluation_results[1]\n",
    "TN = evaluation_results[2]\n",
    "FN = evaluation_results[3]\n",
    "FPR = FP / (FP + TN)\n",
    "print(f'FPR: {FPR * 100}%')"
   ]
  },
  {
   "cell_type": "code",
   "execution_count": 30,
   "metadata": {},
   "outputs": [
    {
     "name": "stdout",
     "output_type": "stream",
     "text": [
      "32/32 [==============================] - 4s 131ms/step - loss: 0.6765 - accuracy: 1.0000\n",
      "Target Test accuracy: 100.0%\n",
      "TPR: 17.710227478433822%\n"
     ]
    }
   ],
   "source": [
    "# Test on fake voices built specifically against Deep4SNet by SiF-DeepVC\n",
    "loss_test, accuracy_test = model_our_HVoice.evaluate(deep4s_generator_SiF_reg)\n",
    "print(f'Target Test accuracy: {accuracy_test * 100}%')\n",
    "\n",
    "# Compute trur positive rate (TPR)\n",
    "TP = evaluation_results[0]\n",
    "FP = evaluation_results[1]\n",
    "TN = evaluation_results[2]\n",
    "FN = evaluation_results[3]\n",
    "TPR = TP / (TP + FN)\n",
    "print(f'TPR: {TPR * 100}%')"
   ]
  },
  {
   "cell_type": "code",
   "execution_count": 31,
   "metadata": {},
   "outputs": [
    {
     "name": "stdout",
     "output_type": "stream",
     "text": [
      "43/43 [==============================] - 5s 117ms/step\n",
      "FPR: 0.0%\n"
     ]
    }
   ],
   "source": [
    "# FPR\n",
    "\n",
    "from sklearn.metrics import confusion_matrix\n",
    "\n",
    "# Predict probabilities for the test set\n",
    "y_pred_proba = model_our_HVoice.predict(test_generator_SiF_reg) # ----- CHANGE for Models ---------------\n",
    "\n",
    "# Convert probabilities to binary predictions (0 or 1) based on a threshold\n",
    "threshold = 0.5  # You can adjust this threshold if needed\n",
    "y_pred_binary = (y_pred_proba > threshold).astype(int)\n",
    "\n",
    "# Get true labels for the test set\n",
    "y_true = test_generator_SiF_reg.classes # ----- CHANGE for Models ---------------\n",
    "\n",
    "# Compute confusion matrix\n",
    "conf_matrix = confusion_matrix(y_true, y_pred_binary)\n",
    "\n",
    "# Extract true negatives (TN), false positives (FP), false negatives (FN), and true positives (TP) from the confusion matrix\n",
    "TN = conf_matrix[0, 0]\n",
    "FP = conf_matrix[0, 1]\n",
    "FN = conf_matrix[1, 0]\n",
    "TP = conf_matrix[1, 1]\n",
    "\n",
    "# Compute false positive rate (FPR)\n",
    "FPR = FP / (FP + TN)\n",
    "print(f'FPR: {FPR * 100}%')"
   ]
  },
  {
   "cell_type": "markdown",
   "metadata": {},
   "source": [
    "Our-HVoice-Dropout"
   ]
  },
  {
   "cell_type": "code",
   "execution_count": 33,
   "metadata": {},
   "outputs": [],
   "source": [
    "from tensorflow.keras.models import load_model\n",
    "\n",
    "# ---------- Load our saved model ---------- #\n",
    "model_path = 'E:\\DL-project\\Models\\Deep4SNet-Our-HVoice-Dropout.keras'\n",
    "model_our_HVoice_Dropout = load_model(model_path)"
   ]
  },
  {
   "cell_type": "code",
   "execution_count": 34,
   "metadata": {},
   "outputs": [
    {
     "name": "stdout",
     "output_type": "stream",
     "text": [
      "43/43 [==============================] - 7s 148ms/step - loss: 0.8591 - accuracy: 0.4650\n",
      "Validation accuracy: 46.49963080883026%\n"
     ]
    }
   ],
   "source": [
    "# Validation Set\n",
    "loss_val, accuracy_val = model_our_HVoice_Dropout.evaluate(valid_generator_SiF_reg)\n",
    "print(f'Validation accuracy: {accuracy_val * 100}%')"
   ]
  },
  {
   "cell_type": "code",
   "execution_count": 35,
   "metadata": {},
   "outputs": [
    {
     "name": "stdout",
     "output_type": "stream",
     "text": [
      "43/43 [==============================] - 6s 147ms/step - loss: 0.8491 - accuracy: 0.4889\n",
      "Test accuracy: 48.88888895511627%\n",
      "FPR: 0.0%\n"
     ]
    }
   ],
   "source": [
    "# Test set\n",
    "loss_test, accuracy_test = model_our_HVoice_Dropout.evaluate(test_generator_SiF_reg)\n",
    "print(f'Test accuracy: {accuracy_test * 100}%')\n",
    "\n",
    "# Compute false positive rate (FPR)\n",
    "TP = evaluation_results[0]\n",
    "FP = evaluation_results[1]\n",
    "TN = evaluation_results[2]\n",
    "FN = evaluation_results[3]\n",
    "FPR = FP / (FP + TN)\n",
    "print(f'FPR: {FPR * 100}%')"
   ]
  },
  {
   "cell_type": "code",
   "execution_count": 36,
   "metadata": {},
   "outputs": [
    {
     "name": "stdout",
     "output_type": "stream",
     "text": [
      "32/32 [==============================] - 5s 142ms/step - loss: 1.0888 - accuracy: 0.3270\n",
      "Target Test accuracy: 32.69999921321869%\n",
      "TPR: 17.710227478433822%\n",
      "43/43 [==============================] - 7s 153ms/step\n",
      "FPR: 67.96992481203009%\n"
     ]
    }
   ],
   "source": [
    "# Test on fake voices built specifically against Deep4SNet by SiF-DeepVC\n",
    "loss_test, accuracy_test = model_our_HVoice_Dropout.evaluate(deep4s_generator_SiF_reg)\n",
    "print(f'Target Test accuracy: {accuracy_test * 100}%')\n",
    "\n",
    "# Compute trur positive rate (TPR)\n",
    "TP = evaluation_results[0]\n",
    "FP = evaluation_results[1]\n",
    "TN = evaluation_results[2]\n",
    "FN = evaluation_results[3]\n",
    "TPR = TP / (TP + FN)\n",
    "print(f'TPR: {TPR * 100}%')# FPR\n",
    "\n",
    "from sklearn.metrics import confusion_matrix\n",
    "\n",
    "# Predict probabilities for the test set\n",
    "y_pred_proba = model_our_HVoice_Dropout.predict(test_generator_SiF_reg) # ----- CHANGE for Models ---------------\n",
    "\n",
    "# Convert probabilities to binary predictions (0 or 1) based on a threshold\n",
    "threshold = 0.5  # You can adjust this threshold if needed\n",
    "y_pred_binary = (y_pred_proba > threshold).astype(int)\n",
    "\n",
    "# Get true labels for the test set\n",
    "y_true = test_generator_SiF_reg.classes # ----- CHANGE for Models ---------------\n",
    "\n",
    "# Compute confusion matrix\n",
    "conf_matrix = confusion_matrix(y_true, y_pred_binary)\n",
    "\n",
    "# Extract true negatives (TN), false positives (FP), false negatives (FN), and true positives (TP) from the confusion matrix\n",
    "TN = conf_matrix[0, 0]\n",
    "FP = conf_matrix[0, 1]\n",
    "FN = conf_matrix[1, 0]\n",
    "TP = conf_matrix[1, 1]\n",
    "\n",
    "# Compute false positive rate (FPR)\n",
    "FPR = FP / (FP + TN)\n",
    "print(f'FPR: {FPR * 100}%')"
   ]
  },
  {
   "cell_type": "markdown",
   "metadata": {},
   "source": [
    "Our-HVoice-Deep"
   ]
  },
  {
   "cell_type": "code",
   "execution_count": 37,
   "metadata": {},
   "outputs": [],
   "source": [
    "from tensorflow.keras.models import load_model\n",
    "\n",
    "# ---------- Load our saved model ---------- #\n",
    "model_path = 'E:\\DL-project\\Models\\Deep4SNet-Our-HVoice-Deep.keras'\n",
    "model_our_HVoice_Deep = load_model(model_path)"
   ]
  },
  {
   "cell_type": "code",
   "execution_count": 38,
   "metadata": {},
   "outputs": [
    {
     "name": "stdout",
     "output_type": "stream",
     "text": [
      "43/43 [==============================] - 8s 178ms/step - loss: 0.6934 - accuracy: 0.4996\n",
      "Validation accuracy: 49.96315538883209%\n"
     ]
    }
   ],
   "source": [
    "# Validation Set\n",
    "loss_val, accuracy_val = model_our_HVoice_Deep.evaluate(valid_generator_SiF_reg)\n",
    "print(f'Validation accuracy: {accuracy_val * 100}%')"
   ]
  },
  {
   "cell_type": "code",
   "execution_count": 39,
   "metadata": {},
   "outputs": [
    {
     "name": "stdout",
     "output_type": "stream",
     "text": [
      "43/43 [==============================] - 7s 169ms/step - loss: 0.6937 - accuracy: 0.4926\n",
      "Test accuracy: 49.259260296821594%\n",
      "FPR: 0.0%\n"
     ]
    }
   ],
   "source": [
    "# Test set\n",
    "loss_test, accuracy_test = model_our_HVoice_Deep.evaluate(test_generator_SiF_reg)\n",
    "print(f'Test accuracy: {accuracy_test * 100}%')\n",
    "\n",
    "# Compute false positive rate (FPR)\n",
    "TP = evaluation_results[0]\n",
    "FP = evaluation_results[1]\n",
    "TN = evaluation_results[2]\n",
    "FN = evaluation_results[3]\n",
    "FPR = FP / (FP + TN)\n",
    "print(f'FPR: {FPR * 100}%')"
   ]
  },
  {
   "cell_type": "code",
   "execution_count": 40,
   "metadata": {},
   "outputs": [
    {
     "name": "stdout",
     "output_type": "stream",
     "text": [
      "32/32 [==============================] - 6s 173ms/step - loss: 0.6715 - accuracy: 1.0000\n",
      "Target Test accuracy: 100.0%\n",
      "TPR: 17.710227478433822%\n"
     ]
    }
   ],
   "source": [
    "# Test on fake voices built specifically against Deep4SNet by SiF-DeepVC\n",
    "loss_test, accuracy_test = model_our_HVoice_Deep.evaluate(deep4s_generator_SiF_reg)\n",
    "print(f'Target Test accuracy: {accuracy_test * 100}%')\n",
    "\n",
    "# Compute trur positive rate (TPR)\n",
    "TP = evaluation_results[0]\n",
    "FP = evaluation_results[1]\n",
    "TN = evaluation_results[2]\n",
    "FN = evaluation_results[3]\n",
    "TPR = TP / (TP + FN)\n",
    "print(f'TPR: {TPR * 100}%')"
   ]
  },
  {
   "cell_type": "code",
   "execution_count": 41,
   "metadata": {},
   "outputs": [
    {
     "name": "stdout",
     "output_type": "stream",
     "text": [
      "43/43 [==============================] - 8s 175ms/step\n",
      "FPR: 0.0%\n"
     ]
    }
   ],
   "source": [
    "# FPR\n",
    "\n",
    "from sklearn.metrics import confusion_matrix\n",
    "\n",
    "# Predict probabilities for the test set\n",
    "y_pred_proba = model_our_HVoice_Deep.predict(test_generator_SiF_reg) # ----- CHANGE for Models ---------------\n",
    "\n",
    "# Convert probabilities to binary predictions (0 or 1) based on a threshold\n",
    "threshold = 0.5  # You can adjust this threshold if needed\n",
    "y_pred_binary = (y_pred_proba > threshold).astype(int)\n",
    "\n",
    "# Get true labels for the test set\n",
    "y_true = test_generator_SiF_reg.classes # ----- CHANGE for Models ---------------\n",
    "\n",
    "# Compute confusion matrix\n",
    "conf_matrix = confusion_matrix(y_true, y_pred_binary)\n",
    "\n",
    "# Extract true negatives (TN), false positives (FP), false negatives (FN), and true positives (TP) from the confusion matrix\n",
    "TN = conf_matrix[0, 0]\n",
    "FP = conf_matrix[0, 1]\n",
    "FN = conf_matrix[1, 0]\n",
    "TP = conf_matrix[1, 1]\n",
    "\n",
    "# Compute false positive rate (FPR)\n",
    "FPR = FP / (FP + TN)\n",
    "print(f'FPR: {FPR * 100}%')"
   ]
  },
  {
   "cell_type": "markdown",
   "metadata": {},
   "source": [
    "Our-SiF-Regular"
   ]
  },
  {
   "cell_type": "code",
   "execution_count": 42,
   "metadata": {},
   "outputs": [],
   "source": [
    "\n",
    "from tensorflow.keras.models import load_model\n",
    "\n",
    "# ---------- Load our saved model ---------- #\n",
    "model_path = 'E:\\DL-project\\Models\\Deep4SNet-Our-SiF-Regular-Deep.keras'\n",
    "model_our_SiF_regular = load_model(model_path)"
   ]
  },
  {
   "cell_type": "code",
   "execution_count": 43,
   "metadata": {},
   "outputs": [
    {
     "name": "stdout",
     "output_type": "stream",
     "text": [
      "43/43 [==============================] - 8s 173ms/step - loss: 0.2090 - accuracy: 0.9307\n",
      "Validation accuracy: 93.07295680046082%\n"
     ]
    }
   ],
   "source": [
    "# Validation Set\n",
    "loss_val, accuracy_val = model_our_SiF_regular.evaluate(valid_generator_SiF_reg)\n",
    "print(f'Validation accuracy: {accuracy_val * 100}%')"
   ]
  },
  {
   "cell_type": "code",
   "execution_count": 44,
   "metadata": {},
   "outputs": [
    {
     "name": "stdout",
     "output_type": "stream",
     "text": [
      "43/43 [==============================] - 8s 173ms/step - loss: 0.1945 - accuracy: 0.9348\n",
      "Test accuracy: 93.48148107528687%\n",
      "FPR: 0.0%\n"
     ]
    }
   ],
   "source": [
    "# Test set\n",
    "loss_test, accuracy_test = model_our_SiF_regular.evaluate(test_generator_SiF_reg)\n",
    "print(f'Test accuracy: {accuracy_test * 100}%')\n",
    "\n",
    "# Compute false positive rate (FPR)\n",
    "TP = evaluation_results[0]\n",
    "FP = evaluation_results[1]\n",
    "TN = evaluation_results[2]\n",
    "FN = evaluation_results[3]\n",
    "FPR = FP / (FP + TN)\n",
    "print(f'FPR: {FPR * 100}%')"
   ]
  },
  {
   "cell_type": "code",
   "execution_count": 45,
   "metadata": {},
   "outputs": [
    {
     "name": "stdout",
     "output_type": "stream",
     "text": [
      "32/32 [==============================] - 5s 170ms/step - loss: 0.2528 - accuracy: 0.9210\n",
      "Target Test accuracy: 92.10000038146973%\n",
      "TPR: 17.710227478433822%\n"
     ]
    }
   ],
   "source": [
    "# Test on fake voices built specifically against Deep4SNet by SiF-DeepVC\n",
    "loss_test, accuracy_test = model_our_SiF_regular.evaluate(deep4s_generator_SiF_reg)\n",
    "print(f'Target Test accuracy: {accuracy_test * 100}%')\n",
    "\n",
    "# Compute trur positive rate (TPR)\n",
    "TP = evaluation_results[0]\n",
    "FP = evaluation_results[1]\n",
    "TN = evaluation_results[2]\n",
    "FN = evaluation_results[3]\n",
    "TPR = TP / (TP + FN)\n",
    "print(f'TPR: {TPR * 100}%')"
   ]
  },
  {
   "cell_type": "code",
   "execution_count": 46,
   "metadata": {},
   "outputs": [
    {
     "name": "stdout",
     "output_type": "stream",
     "text": [
      "43/43 [==============================] - 8s 176ms/step\n",
      "FPR: 53.83458646616541%\n"
     ]
    }
   ],
   "source": [
    "\n",
    "# FPR\n",
    "\n",
    "from sklearn.metrics import confusion_matrix\n",
    "\n",
    "# Predict probabilities for the test set\n",
    "y_pred_proba = model_our_SiF_regular.predict(test_generator_SiF_reg) # ----- CHANGE for Models ---------------\n",
    "\n",
    "# Convert probabilities to binary predictions (0 or 1) based on a threshold\n",
    "threshold = 0.5  # You can adjust this threshold if needed\n",
    "y_pred_binary = (y_pred_proba > threshold).astype(int)\n",
    "\n",
    "# Get true labels for the test set\n",
    "y_true = test_generator_SiF_reg.classes # ----- CHANGE for Models ---------------\n",
    "\n",
    "# Compute confusion matrix\n",
    "conf_matrix = confusion_matrix(y_true, y_pred_binary)\n",
    "\n",
    "# Extract true negatives (TN), false positives (FP), false negatives (FN), and true positives (TP) from the confusion matrix\n",
    "TN = conf_matrix[0, 0]\n",
    "FP = conf_matrix[0, 1]\n",
    "FN = conf_matrix[1, 0]\n",
    "TP = conf_matrix[1, 1]\n",
    "\n",
    "# Compute false positive rate (FPR)\n",
    "FPR = FP / (FP + TN)\n",
    "print(f'FPR: {FPR * 100}%')"
   ]
  },
  {
   "cell_type": "markdown",
   "metadata": {},
   "source": [
    "Our-SiF-Regular-Dropout"
   ]
  },
  {
   "cell_type": "code",
   "execution_count": 48,
   "metadata": {},
   "outputs": [],
   "source": [
    "from tensorflow.keras.models import load_model\n",
    "\n",
    "# ---------- Load our saved model ---------- #\n",
    "model_path = 'E:\\DL-project\\Models\\Deep4SNet-Our-SiF-Regular-Dropout.keras'\n",
    "model_our_SiF_regular_Dropout = load_model(model_path)"
   ]
  },
  {
   "cell_type": "code",
   "execution_count": 49,
   "metadata": {},
   "outputs": [
    {
     "name": "stdout",
     "output_type": "stream",
     "text": [
      "43/43 [==============================] - 7s 150ms/step - loss: 0.1967 - accuracy: 0.9211\n",
      "Validation accuracy: 92.11496114730835%\n",
      "43/43 [==============================] - 5s 106ms/step - loss: 1.0619 - accuracy: 0.6081\n",
      "Test accuracy: 60.81481575965881%\n",
      "FPR: 0.0%\n"
     ]
    }
   ],
   "source": [
    "# Validation Set\n",
    "loss_val, accuracy_val = model_our_SiF_regular_Dropout.evaluate(valid_generator_SiF_reg)\n",
    "print(f'Validation accuracy: {accuracy_val * 100}%')# Test set\n",
    "loss_test, accuracy_test = model_our_SiF_filtered.evaluate(test_generator_SiF_reg)\n",
    "print(f'Test accuracy: {accuracy_test * 100}%')\n",
    "\n",
    "# Compute false positive rate (FPR)\n",
    "TP = evaluation_results[0]\n",
    "FP = evaluation_results[1]\n",
    "TN = evaluation_results[2]\n",
    "FN = evaluation_results[3]\n",
    "FPR = FP / (FP + TN)\n",
    "print(f'FPR: {FPR * 100}%')"
   ]
  },
  {
   "cell_type": "code",
   "execution_count": 50,
   "metadata": {},
   "outputs": [
    {
     "name": "stdout",
     "output_type": "stream",
     "text": [
      "32/32 [==============================] - 3s 106ms/step - loss: 1.4633 - accuracy: 0.4420\n",
      "Target Test accuracy: 44.200000166893005%\n",
      "TPR: 17.710227478433822%\n",
      "43/43 [==============================] - 5s 111ms/step\n",
      "FPR: 63.60902255639098%\n"
     ]
    }
   ],
   "source": [
    "# Test on fake voices built specifically against Deep4SNet by SiF-DeepVC\n",
    "loss_test, accuracy_test = model_our_SiF_filtered.evaluate(deep4s_generator_SiF_reg)\n",
    "print(f'Target Test accuracy: {accuracy_test * 100}%')\n",
    "\n",
    "# Compute trur positive rate (TPR)\n",
    "TP = evaluation_results[0]\n",
    "FP = evaluation_results[1]\n",
    "TN = evaluation_results[2]\n",
    "FN = evaluation_results[3]\n",
    "TPR = TP / (TP + FN)\n",
    "print(f'TPR: {TPR * 100}%')# FPR\n",
    "\n",
    "from sklearn.metrics import confusion_matrix\n",
    "\n",
    "# Predict probabilities for the test set\n",
    "y_pred_proba = model_our_SiF_filtered.predict(test_generator_SiF_reg) # ----- CHANGE for Models ---------------\n",
    "\n",
    "# Convert probabilities to binary predictions (0 or 1) based on a threshold\n",
    "threshold = 0.5  # You can adjust this threshold if needed\n",
    "y_pred_binary = (y_pred_proba > threshold).astype(int)\n",
    "\n",
    "# Get true labels for the test set\n",
    "y_true = test_generator_SiF_reg.classes # ----- CHANGE for Models ---------------\n",
    "\n",
    "# Compute confusion matrix\n",
    "conf_matrix = confusion_matrix(y_true, y_pred_binary)\n",
    "\n",
    "# Extract true negatives (TN), false positives (FP), false negatives (FN), and true positives (TP) from the confusion matrix\n",
    "TN = conf_matrix[0, 0]\n",
    "FP = conf_matrix[0, 1]\n",
    "FN = conf_matrix[1, 0]\n",
    "TP = conf_matrix[1, 1]\n",
    "\n",
    "# Compute false positive rate (FPR)\n",
    "FPR = FP / (FP + TN)\n",
    "print(f'FPR: {FPR * 100}%')"
   ]
  },
  {
   "cell_type": "markdown",
   "metadata": {},
   "source": [
    "Our-HVoice_SiF-Regular"
   ]
  },
  {
   "cell_type": "code",
   "execution_count": 51,
   "metadata": {},
   "outputs": [],
   "source": [
    "from tensorflow.keras.models import load_model\n",
    "\n",
    "# ---------- Load our saved model ---------- #\n",
    "model_path = 'E:\\DL-project\\Models\\Deep4SNet-Our-HVoice_SiF-Regular.keras'\n",
    "model_our_HVoice_SiF_Regular = load_model(model_path)"
   ]
  },
  {
   "cell_type": "code",
   "execution_count": 52,
   "metadata": {},
   "outputs": [
    {
     "name": "stdout",
     "output_type": "stream",
     "text": [
      "43/43 [==============================] - 5s 110ms/step - loss: 1.9092 - accuracy: 0.5615\n",
      "Validation accuracy: 56.153279542922974%\n"
     ]
    }
   ],
   "source": [
    "# Validation Set\n",
    "loss_val, accuracy_val = model_our_HVoice_SiF_Regular.evaluate(valid_generator_SiF_reg)\n",
    "print(f'Validation accuracy: {accuracy_val * 100}%')"
   ]
  },
  {
   "cell_type": "code",
   "execution_count": 53,
   "metadata": {},
   "outputs": [
    {
     "name": "stdout",
     "output_type": "stream",
     "text": [
      "43/43 [==============================] - 5s 106ms/step - loss: 1.9631 - accuracy: 0.5607\n",
      "Test accuracy: 56.074076890945435%\n",
      "FPR: 0.0%\n"
     ]
    }
   ],
   "source": [
    "\n",
    "# Test set\n",
    "loss_test, accuracy_test = model_our_HVoice_SiF_Regular.evaluate(test_generator_SiF_reg)\n",
    "print(f'Test accuracy: {accuracy_test * 100}%')\n",
    "\n",
    "# Compute false positive rate (FPR)\n",
    "TP = evaluation_results[0]\n",
    "FP = evaluation_results[1]\n",
    "TN = evaluation_results[2]\n",
    "FN = evaluation_results[3]\n",
    "FPR = FP / (FP + TN)\n",
    "print(f'FPR: {FPR * 100}%')"
   ]
  },
  {
   "cell_type": "code",
   "execution_count": 54,
   "metadata": {},
   "outputs": [
    {
     "name": "stdout",
     "output_type": "stream",
     "text": [
      "32/32 [==============================] - 4s 114ms/step - loss: 0.0770 - accuracy: 0.9800\n",
      "Target Test accuracy: 98.00000190734863%\n",
      "TPR: 17.710227478433822%\n"
     ]
    }
   ],
   "source": [
    "# Test on fake voices built specifically against Deep4SNet by SiF-DeepVC\n",
    "loss_test, accuracy_test = model_our_HVoice_SiF_Regular.evaluate(deep4s_generator_SiF_reg)\n",
    "print(f'Target Test accuracy: {accuracy_test * 100}%')\n",
    "\n",
    "# Compute trur positive rate (TPR)\n",
    "TP = evaluation_results[0]\n",
    "FP = evaluation_results[1]\n",
    "TN = evaluation_results[2]\n",
    "FN = evaluation_results[3]\n",
    "TPR = TP / (TP + FN)\n",
    "print(f'TPR: {TPR * 100}%')"
   ]
  },
  {
   "cell_type": "code",
   "execution_count": 55,
   "metadata": {},
   "outputs": [
    {
     "name": "stdout",
     "output_type": "stream",
     "text": [
      "43/43 [==============================] - 5s 111ms/step\n",
      "FPR: 7.368421052631578%\n"
     ]
    }
   ],
   "source": [
    "# FPR\n",
    "\n",
    "from sklearn.metrics import confusion_matrix\n",
    "\n",
    "# Predict probabilities for the test set\n",
    "y_pred_proba = model_our_HVoice_SiF_Regular.predict(test_generator_SiF_reg) # ----- CHANGE for Models ---------------\n",
    "\n",
    "# Convert probabilities to binary predictions (0 or 1) based on a threshold\n",
    "threshold = 0.5  # You can adjust this threshold if needed\n",
    "y_pred_binary = (y_pred_proba > threshold).astype(int)\n",
    "\n",
    "# Get true labels for the test set\n",
    "y_true = test_generator_SiF_reg.classes # ----- CHANGE for Models ---------------\n",
    "\n",
    "# Compute confusion matrix\n",
    "conf_matrix = confusion_matrix(y_true, y_pred_binary)\n",
    "\n",
    "# Extract true negatives (TN), false positives (FP), false negatives (FN), and true positives (TP) from the confusion matrix\n",
    "TN = conf_matrix[0, 0]\n",
    "FP = conf_matrix[0, 1]\n",
    "FN = conf_matrix[1, 0]\n",
    "TP = conf_matrix[1, 1]\n",
    "\n",
    "# Compute false positive rate (FPR)\n",
    "FPR = FP / (FP + TN)\n",
    "print(f'FPR: {FPR * 100}%')"
   ]
  },
  {
   "cell_type": "markdown",
   "metadata": {},
   "source": [
    "Our-HVoice_SiF-Filtered"
   ]
  },
  {
   "cell_type": "code",
   "execution_count": 58,
   "metadata": {},
   "outputs": [],
   "source": [
    "from tensorflow.keras.models import load_model\n",
    "\n",
    "# ---------- Load our saved model ---------- #\n",
    "model_path = 'E:\\DL-project\\Models\\Deep4SNet-Our-HVoice_SiF-Filtered.keras'\n",
    "model_our_HVoice_SiF_Filtered = load_model(model_path)"
   ]
  },
  {
   "cell_type": "code",
   "execution_count": 59,
   "metadata": {},
   "outputs": [
    {
     "name": "stdout",
     "output_type": "stream",
     "text": [
      "43/43 [==============================] - 5s 108ms/step - loss: 2.9420 - accuracy: 0.5357\n",
      "Validation accuracy: 53.57406139373779%\n"
     ]
    }
   ],
   "source": [
    "# Validation Set\n",
    "loss_val, accuracy_val = model_our_HVoice_SiF_Filtered.evaluate(valid_generator_SiF_reg)\n",
    "print(f'Validation accuracy: {accuracy_val * 100}%')"
   ]
  },
  {
   "cell_type": "code",
   "execution_count": 60,
   "metadata": {},
   "outputs": [
    {
     "name": "stdout",
     "output_type": "stream",
     "text": [
      "43/43 [==============================] - 5s 118ms/step - loss: 3.0772 - accuracy: 0.5385\n",
      "Test accuracy: 53.85185480117798%\n",
      "FPR: 0.0%\n"
     ]
    }
   ],
   "source": [
    "# Test set\n",
    "loss_test, accuracy_test = model_our_HVoice_SiF_Filtered.evaluate(test_generator_SiF_reg)\n",
    "print(f'Test accuracy: {accuracy_test * 100}%')\n",
    "\n",
    "# Compute false positive rate (FPR)\n",
    "TP = evaluation_results[0]\n",
    "FP = evaluation_results[1]\n",
    "TN = evaluation_results[2]\n",
    "FN = evaluation_results[3]\n",
    "FPR = FP / (FP + TN)\n",
    "print(f'FPR: {FPR * 100}%')"
   ]
  },
  {
   "cell_type": "code",
   "execution_count": 61,
   "metadata": {},
   "outputs": [
    {
     "name": "stdout",
     "output_type": "stream",
     "text": [
      "32/32 [==============================] - 4s 116ms/step - loss: 0.0287 - accuracy: 0.9950\n",
      "Target Test accuracy: 99.50000047683716%\n",
      "TPR: 17.710227478433822%\n"
     ]
    }
   ],
   "source": [
    "# Test on fake voices built specifically against Deep4SNet by SiF-DeepVC\n",
    "loss_test, accuracy_test = model_our_HVoice_SiF_Filtered.evaluate(deep4s_generator_SiF_reg)\n",
    "print(f'Target Test accuracy: {accuracy_test * 100}%')\n",
    "\n",
    "# Compute trur positive rate (TPR)\n",
    "TP = evaluation_results[0]\n",
    "FP = evaluation_results[1]\n",
    "TN = evaluation_results[2]\n",
    "FN = evaluation_results[3]\n",
    "TPR = TP / (TP + FN)\n",
    "print(f'TPR: {TPR * 100}%')"
   ]
  },
  {
   "cell_type": "code",
   "execution_count": 62,
   "metadata": {},
   "outputs": [
    {
     "name": "stdout",
     "output_type": "stream",
     "text": [
      "43/43 [==============================] - 5s 111ms/step\n",
      "FPR: 5.714285714285714%\n"
     ]
    }
   ],
   "source": [
    "# FPR\n",
    "\n",
    "from sklearn.metrics import confusion_matrix\n",
    "\n",
    "# Predict probabilities for the test set\n",
    "y_pred_proba = model_our_HVoice_SiF_Filtered.predict(test_generator_SiF_reg) # ----- CHANGE for Models ---------------\n",
    "\n",
    "# Convert probabilities to binary predictions (0 or 1) based on a threshold\n",
    "threshold = 0.5  # You can adjust this threshold if needed\n",
    "y_pred_binary = (y_pred_proba > threshold).astype(int)\n",
    "\n",
    "# Get true labels for the test set\n",
    "y_true = test_generator_SiF_reg.classes # ----- CHANGE for Models ---------------\n",
    "\n",
    "# Compute confusion matrix\n",
    "conf_matrix = confusion_matrix(y_true, y_pred_binary)\n",
    "\n",
    "# Extract true negatives (TN), false positives (FP), false negatives (FN), and true positives (TP) from the confusion matrix\n",
    "TN = conf_matrix[0, 0]\n",
    "FP = conf_matrix[0, 1]\n",
    "FN = conf_matrix[1, 0]\n",
    "TP = conf_matrix[1, 1]\n",
    "\n",
    "# Compute false positive rate (FPR)\n",
    "FPR = FP / (FP + TN)\n",
    "print(f'FPR: {FPR * 100}%')"
   ]
  },
  {
   "cell_type": "markdown",
   "metadata": {},
   "source": [
    "\n",
    "Data - SiF-DeepVC - Filtered"
   ]
  },
  {
   "cell_type": "markdown",
   "metadata": {},
   "source": [
    "Original-HVoice"
   ]
  },
  {
   "cell_type": "code",
   "execution_count": 63,
   "metadata": {},
   "outputs": [],
   "source": [
    "import tensorflow as tf\n",
    "from tensorflow.keras.models import load_model\n",
    "\n",
    "# Load the model on CPU\n",
    "model_path = 'E:\\DL-project\\Models\\Deep4SNet-Original-HVoice.keras'\n",
    "model_original_HVoice = load_model(model_path)"
   ]
  },
  {
   "cell_type": "code",
   "execution_count": 64,
   "metadata": {},
   "outputs": [
    {
     "name": "stdout",
     "output_type": "stream",
     "text": [
      "43/43 [==============================] - 13s 307ms/step - loss: 7.5273 - tp: 686.0000 - fp: 607.0000 - tn: 44.0000 - fn: 14.0000 - accuracy: 0.5403 - precision: 0.5305 - recall: 0.9800 - auc: 0.5480\n",
      "Validation accuracy: 54.034048318862915%\n",
      "43/43 [==============================] - 13s 313ms/step - loss: 8.0179 - tp: 645.0000 - fp: 650.0000 - tn: 44.0000 - fn: 11.0000 - accuracy: 0.5104 - precision: 0.4981 - recall: 0.9832 - auc: 0.5437\n",
      "Test accuracy: 51.03703737258911%\n",
      "FPR: 49.80694980694981%\n"
     ]
    }
   ],
   "source": [
    "# Validation Set\n",
    "evaluation_results = model_original_HVoice.evaluate(valid_generator_SiF_filtered)\n",
    "print(f'Validation accuracy: {evaluation_results[5] * 100}%')# Test set\n",
    "evaluation_results = model_original_HVoice.evaluate(test_generator_SiF_filtered)\n",
    "print(f'Test accuracy: {evaluation_results[5] * 100}%')\n",
    "\n",
    "# Compute false positive rate (FPR)\n",
    "TP = evaluation_results[0]\n",
    "FP = evaluation_results[1]\n",
    "TN = evaluation_results[2]\n",
    "FN = evaluation_results[3]\n",
    "FPR = FP / (FP + TN)\n",
    "print(f'FPR: {FPR * 100}%')"
   ]
  },
  {
   "cell_type": "code",
   "execution_count": 65,
   "metadata": {},
   "outputs": [
    {
     "name": "stdout",
     "output_type": "stream",
     "text": [
      "32/32 [==============================] - 10s 316ms/step - loss: 15.6108 - tp: 0.0000e+00 - fp: 943.0000 - tn: 57.0000 - fn: 0.0000e+00 - accuracy: 0.0570 - precision: 0.0000e+00 - recall: 0.0000e+00 - auc: 0.0000e+00\n",
      "Target Test accuracy: 5.700000002980232%\n",
      "TPR: 21.49926437449846%\n"
     ]
    }
   ],
   "source": [
    "# Test on fake voices built specifically against Deep4SNet by SiF-DeepVC\n",
    "evaluation_results = model_original_HVoice.evaluate(deep4s_generator_SiF_filtered)\n",
    "print(f'Target Test accuracy: {evaluation_results[5] * 100}%')\n",
    "\n",
    "# Compute trur positive rate (TPR)\n",
    "TP = evaluation_results[0]\n",
    "FP = evaluation_results[1]\n",
    "TN = evaluation_results[2]\n",
    "FN = evaluation_results[3]\n",
    "TPR = TP / (TP + FN)\n",
    "print(f'TPR: {TPR * 100}%')"
   ]
  },
  {
   "cell_type": "code",
   "execution_count": 66,
   "metadata": {},
   "outputs": [
    {
     "name": "stdout",
     "output_type": "stream",
     "text": [
      "43/43 [==============================] - 5s 106ms/step\n",
      "FPR: 96.10951008645533%\n"
     ]
    }
   ],
   "source": [
    "# FPR\n",
    "\n",
    "from sklearn.metrics import confusion_matrix\n",
    "\n",
    "# Predict probabilities for the test set\n",
    "y_pred_proba = model_original_HVoice.predict(test_generator_SiF_filtered) # ----- CHANGE for Models ---------------\n",
    "\n",
    "# Convert probabilities to binary predictions (0 or 1) based on a threshold\n",
    "threshold = 0.5  # You can adjust this threshold if needed\n",
    "y_pred_binary = (y_pred_proba > threshold).astype(int)\n",
    "\n",
    "# Get true labels for the test set\n",
    "y_true = test_generator_SiF_filtered.classes # ----- CHANGE for Models ---------------\n",
    "\n",
    "# Compute confusion matrix\n",
    "conf_matrix = confusion_matrix(y_true, y_pred_binary)\n",
    "\n",
    "# Extract true negatives (TN), false positives (FP), false negatives (FN), and true positives (TP) from the confusion matrix\n",
    "TN = conf_matrix[0, 0]\n",
    "FP = conf_matrix[0, 1]\n",
    "FN = conf_matrix[1, 0]\n",
    "TP = conf_matrix[1, 1]\n",
    "\n",
    "# Compute false positive rate (FPR)\n",
    "FPR = FP / (FP + TN)\n",
    "print(f'FPR: {FPR * 100}%')"
   ]
  },
  {
   "cell_type": "markdown",
   "metadata": {},
   "source": [
    "Our-HVoice"
   ]
  },
  {
   "cell_type": "code",
   "execution_count": 67,
   "metadata": {},
   "outputs": [],
   "source": [
    "\n",
    "from tensorflow.keras.models import load_model\n",
    "\n",
    "# ---------- Load our saved model ---------- #\n",
    "model_path = 'E:\\DL-project\\Models\\Deep4SNet-Our-HVoice.keras'\n",
    "model_our_HVoice = load_model(model_path)"
   ]
  },
  {
   "cell_type": "code",
   "execution_count": 68,
   "metadata": {},
   "outputs": [
    {
     "name": "stdout",
     "output_type": "stream",
     "text": [
      "43/43 [==============================] - 5s 110ms/step - loss: 0.6939 - accuracy: 0.4819\n",
      "Validation accuracy: 48.18652868270874%\n",
      "43/43 [==============================] - 5s 110ms/step - loss: 0.6928 - accuracy: 0.5141\n",
      "Test accuracy: 51.407408714294434%\n",
      "FPR: 0.0%\n"
     ]
    }
   ],
   "source": [
    "# Validation Set\n",
    "loss_val, accuracy_val = model_our_HVoice.evaluate(valid_generator_SiF_filtered)\n",
    "print(f'Validation accuracy: {accuracy_val * 100}%')# Test set\n",
    "loss_test, accuracy_test = model_our_HVoice.evaluate(test_generator_SiF_filtered)\n",
    "print(f'Test accuracy: {accuracy_test * 100}%')\n",
    "\n",
    "# Compute false positive rate (FPR)\n",
    "TP = evaluation_results[0]\n",
    "FP = evaluation_results[1]\n",
    "TN = evaluation_results[2]\n",
    "FN = evaluation_results[3]\n",
    "FPR = FP / (FP + TN)\n",
    "print(f'FPR: {FPR * 100}%')"
   ]
  },
  {
   "cell_type": "code",
   "execution_count": 69,
   "metadata": {},
   "outputs": [
    {
     "name": "stdout",
     "output_type": "stream",
     "text": [
      "32/32 [==============================] - 4s 111ms/step - loss: 0.6765 - accuracy: 1.0000\n",
      "Target Test accuracy: 100.0%\n",
      "TPR: 21.49926437449846%\n"
     ]
    }
   ],
   "source": [
    "# Test on fake voices built specifically against Deep4SNet by SiF-DeepVC\n",
    "loss_test, accuracy_test = model_our_HVoice.evaluate(deep4s_generator_SiF_filtered)\n",
    "print(f'Target Test accuracy: {accuracy_test * 100}%')\n",
    "\n",
    "# Compute trur positive rate (TPR)\n",
    "TP = evaluation_results[0]\n",
    "FP = evaluation_results[1]\n",
    "TN = evaluation_results[2]\n",
    "FN = evaluation_results[3]\n",
    "TPR = TP / (TP + FN)\n",
    "print(f'TPR: {TPR * 100}%')"
   ]
  },
  {
   "cell_type": "code",
   "execution_count": 70,
   "metadata": {},
   "outputs": [
    {
     "name": "stdout",
     "output_type": "stream",
     "text": [
      "43/43 [==============================] - 5s 114ms/step\n",
      "FPR: 0.0%\n"
     ]
    }
   ],
   "source": [
    "# FPR\n",
    "\n",
    "from sklearn.metrics import confusion_matrix\n",
    "\n",
    "# Predict probabilities for the test set\n",
    "y_pred_proba = model_our_HVoice.predict(test_generator_SiF_filtered) # ----- CHANGE for Models ---------------\n",
    "\n",
    "# Convert probabilities to binary predictions (0 or 1) based on a threshold\n",
    "threshold = 0.5  # You can adjust this threshold if needed\n",
    "y_pred_binary = (y_pred_proba > threshold).astype(int)\n",
    "\n",
    "# Get true labels for the test set\n",
    "y_true = test_generator_SiF_filtered.classes # ----- CHANGE for Models ---------------\n",
    "\n",
    "# Compute confusion matrix\n",
    "conf_matrix = confusion_matrix(y_true, y_pred_binary)\n",
    "\n",
    "# Extract true negatives (TN), false positives (FP), false negatives (FN), and true positives (TP) from the confusion matrix\n",
    "TN = conf_matrix[0, 0]\n",
    "FP = conf_matrix[0, 1]\n",
    "FN = conf_matrix[1, 0]\n",
    "TP = conf_matrix[1, 1]\n",
    "\n",
    "# Compute false positive rate (FPR)\n",
    "FPR = FP / (FP + TN)\n",
    "print(f'FPR: {FPR * 100}%')"
   ]
  },
  {
   "cell_type": "markdown",
   "metadata": {},
   "source": [
    "Our-HVoice-Dropout"
   ]
  },
  {
   "cell_type": "code",
   "execution_count": 71,
   "metadata": {},
   "outputs": [],
   "source": [
    "from tensorflow.keras.models import load_model\n",
    "\n",
    "# ---------- Load our saved model ---------- #\n",
    "model_path = 'E:\\DL-project\\Models\\Deep4SNet-Our-HVoice-Dropout.keras'\n",
    "model_our_HVoice_Dropout = load_model(model_path)"
   ]
  },
  {
   "cell_type": "code",
   "execution_count": 72,
   "metadata": {},
   "outputs": [
    {
     "name": "stdout",
     "output_type": "stream",
     "text": [
      "43/43 [==============================] - 7s 148ms/step - loss: 0.6663 - accuracy: 0.6240\n",
      "Validation accuracy: 62.39822506904602%\n"
     ]
    }
   ],
   "source": [
    "# Validation Set\n",
    "loss_val, accuracy_val = model_our_HVoice_Dropout.evaluate(valid_generator_SiF_filtered)\n",
    "print(f'Validation accuracy: {accuracy_val * 100}%')"
   ]
  },
  {
   "cell_type": "code",
   "execution_count": 73,
   "metadata": {},
   "outputs": [
    {
     "name": "stdout",
     "output_type": "stream",
     "text": [
      "43/43 [==============================] - 6s 144ms/step - loss: 0.6631 - accuracy: 0.6141\n",
      "Test accuracy: 61.40740513801575%\n",
      "FPR: 0.0%\n"
     ]
    }
   ],
   "source": [
    "# Test set\n",
    "loss_test, accuracy_test = model_our_HVoice_Dropout.evaluate(test_generator_SiF_filtered)\n",
    "print(f'Test accuracy: {accuracy_test * 100}%')\n",
    "\n",
    "# Compute false positive rate (FPR)\n",
    "TP = evaluation_results[0]\n",
    "FP = evaluation_results[1]\n",
    "TN = evaluation_results[2]\n",
    "FN = evaluation_results[3]\n",
    "FPR = FP / (FP + TN)\n",
    "print(f'FPR: {FPR * 100}%')"
   ]
  },
  {
   "cell_type": "code",
   "execution_count": 74,
   "metadata": {},
   "outputs": [
    {
     "name": "stdout",
     "output_type": "stream",
     "text": [
      "32/32 [==============================] - 5s 143ms/step - loss: 0.6237 - accuracy: 0.7540\n",
      "Target Test accuracy: 75.40000081062317%\n",
      "TPR: 21.49926437449846%\n"
     ]
    }
   ],
   "source": [
    "# Test on fake voices built specifically against Deep4SNet by SiF-DeepVC\n",
    "loss_test, accuracy_test = model_our_HVoice_Dropout.evaluate(deep4s_generator_SiF_filtered)\n",
    "print(f'Target Test accuracy: {accuracy_test * 100}%')\n",
    "\n",
    "# Compute trur positive rate (TPR)\n",
    "TP = evaluation_results[0]\n",
    "FP = evaluation_results[1]\n",
    "TN = evaluation_results[2]\n",
    "FN = evaluation_results[3]\n",
    "TPR = TP / (TP + FN)\n",
    "print(f'TPR: {TPR * 100}%')"
   ]
  },
  {
   "cell_type": "code",
   "execution_count": 75,
   "metadata": {},
   "outputs": [
    {
     "name": "stdout",
     "output_type": "stream",
     "text": [
      "43/43 [==============================] - 6s 147ms/step\n",
      "FPR: 35.590778097982714%\n"
     ]
    }
   ],
   "source": [
    "# FPR\n",
    "\n",
    "from sklearn.metrics import confusion_matrix\n",
    "\n",
    "# Predict probabilities for the test set\n",
    "y_pred_proba = model_our_HVoice_Dropout.predict(test_generator_SiF_filtered) # ----- CHANGE for Models ---------------\n",
    "\n",
    "# Convert probabilities to binary predictions (0 or 1) based on a threshold\n",
    "threshold = 0.5  # You can adjust this threshold if needed\n",
    "y_pred_binary = (y_pred_proba > threshold).astype(int)\n",
    "\n",
    "# Get true labels for the test set\n",
    "y_true = test_generator_SiF_filtered.classes # ----- CHANGE for Models ---------------\n",
    "\n",
    "# Compute confusion matrix\n",
    "conf_matrix = confusion_matrix(y_true, y_pred_binary)\n",
    "\n",
    "# Extract true negatives (TN), false positives (FP), false negatives (FN), and true positives (TP) from the confusion matrix\n",
    "TN = conf_matrix[0, 0]\n",
    "FP = conf_matrix[0, 1]\n",
    "FN = conf_matrix[1, 0]\n",
    "TP = conf_matrix[1, 1]\n",
    "\n",
    "# Compute false positive rate (FPR)\n",
    "FPR = FP / (FP + TN)\n",
    "print(f'FPR: {FPR * 100}%')"
   ]
  },
  {
   "cell_type": "markdown",
   "metadata": {},
   "source": [
    "Our-HVoice-Deep"
   ]
  },
  {
   "cell_type": "code",
   "execution_count": 76,
   "metadata": {},
   "outputs": [],
   "source": [
    "\n",
    "from tensorflow.keras.models import load_model\n",
    "\n",
    "# ---------- Load our saved model ---------- #\n",
    "model_path = 'E:\\DL-project\\Models\\Deep4SNet-Our-HVoice-Deep.keras'\n",
    "model_our_HVoice_Deep = load_model(model_path)"
   ]
  },
  {
   "cell_type": "code",
   "execution_count": 77,
   "metadata": {},
   "outputs": [
    {
     "name": "stdout",
     "output_type": "stream",
     "text": [
      "43/43 [==============================] - 8s 168ms/step - loss: 0.6942 - accuracy: 0.4819\n",
      "Validation accuracy: 48.18652868270874%\n"
     ]
    }
   ],
   "source": [
    "# Validation Set\n",
    "loss_val, accuracy_val = model_our_HVoice_Deep.evaluate(valid_generator_SiF_filtered)\n",
    "print(f'Validation accuracy: {accuracy_val * 100}%')"
   ]
  },
  {
   "cell_type": "code",
   "execution_count": 78,
   "metadata": {},
   "outputs": [
    {
     "name": "stdout",
     "output_type": "stream",
     "text": [
      "43/43 [==============================] - 7s 160ms/step - loss: 0.6928 - accuracy: 0.5141\n",
      "Test accuracy: 51.407408714294434%\n",
      "FPR: 0.0%\n"
     ]
    }
   ],
   "source": [
    "# Test set\n",
    "loss_test, accuracy_test = model_our_HVoice_Deep.evaluate(test_generator_SiF_filtered)\n",
    "print(f'Test accuracy: {accuracy_test * 100}%')\n",
    "\n",
    "# Compute false positive rate (FPR)\n",
    "TP = evaluation_results[0]\n",
    "FP = evaluation_results[1]\n",
    "TN = evaluation_results[2]\n",
    "FN = evaluation_results[3]\n",
    "FPR = FP / (FP + TN)\n",
    "print(f'FPR: {FPR * 100}%')"
   ]
  },
  {
   "cell_type": "code",
   "execution_count": 79,
   "metadata": {},
   "outputs": [
    {
     "name": "stdout",
     "output_type": "stream",
     "text": [
      "32/32 [==============================] - 5s 167ms/step - loss: 0.6715 - accuracy: 1.0000\n",
      "Target Test accuracy: 100.0%\n",
      "TPR: 21.49926437449846%\n",
      "43/43 [==============================] - 7s 165ms/step\n",
      "FPR: 0.0%\n"
     ]
    }
   ],
   "source": [
    "# Test on fake voices built specifically against Deep4SNet by SiF-DeepVC\n",
    "loss_test, accuracy_test = model_our_HVoice_Deep.evaluate(deep4s_generator_SiF_filtered)\n",
    "print(f'Target Test accuracy: {accuracy_test * 100}%')\n",
    "\n",
    "# Compute trur positive rate (TPR)\n",
    "TP = evaluation_results[0]\n",
    "FP = evaluation_results[1]\n",
    "TN = evaluation_results[2]\n",
    "FN = evaluation_results[3]\n",
    "TPR = TP / (TP + FN)\n",
    "print(f'TPR: {TPR * 100}%')# FPR\n",
    "\n",
    "from sklearn.metrics import confusion_matrix\n",
    "\n",
    "# Predict probabilities for the test set\n",
    "y_pred_proba = model_our_HVoice_Deep.predict(test_generator_SiF_filtered) # ----- CHANGE for Models ---------------\n",
    "\n",
    "# Convert probabilities to binary predictions (0 or 1) based on a threshold\n",
    "threshold = 0.5  # You can adjust this threshold if needed\n",
    "y_pred_binary = (y_pred_proba > threshold).astype(int)\n",
    "\n",
    "# Get true labels for the test set\n",
    "y_true = test_generator_SiF_filtered.classes # ----- CHANGE for Models ---------------\n",
    "\n",
    "# Compute confusion matrix\n",
    "conf_matrix = confusion_matrix(y_true, y_pred_binary)\n",
    "\n",
    "# Extract true negatives (TN), false positives (FP), false negatives (FN), and true positives (TP) from the confusion matrix\n",
    "TN = conf_matrix[0, 0]\n",
    "FP = conf_matrix[0, 1]\n",
    "FN = conf_matrix[1, 0]\n",
    "TP = conf_matrix[1, 1]\n",
    "\n",
    "# Compute false positive rate (FPR)\n",
    "FPR = FP / (FP + TN)\n",
    "print(f'FPR: {FPR * 100}%')"
   ]
  },
  {
   "cell_type": "markdown",
   "metadata": {},
   "source": [
    "Our-SiF-Regular"
   ]
  },
  {
   "cell_type": "code",
   "execution_count": 80,
   "metadata": {},
   "outputs": [
    {
     "name": "stdout",
     "output_type": "stream",
     "text": [
      "43/43 [==============================] - 5s 111ms/step - loss: 1.3945 - accuracy: 0.6351\n",
      "Validation accuracy: 63.50851058959961%\n"
     ]
    }
   ],
   "source": [
    "from tensorflow.keras.models import load_model\n",
    "\n",
    "# ---------- Load our saved model ---------- #\n",
    "model_path = 'E:\\DL-project\\Models\\Deep4SNet-Our-HVoice_SiF-Regular.keras'\n",
    "model_our_SiF_regular = load_model(model_path)# Validation Set\n",
    "loss_val, accuracy_val = model_our_SiF_regular.evaluate(valid_generator_SiF_filtered)\n",
    "print(f'Validation accuracy: {accuracy_val * 100}%')"
   ]
  },
  {
   "cell_type": "code",
   "execution_count": 81,
   "metadata": {},
   "outputs": [
    {
     "name": "stdout",
     "output_type": "stream",
     "text": [
      "43/43 [==============================] - 5s 113ms/step - loss: 1.2769 - accuracy: 0.6667\n",
      "Test accuracy: 66.66666865348816%\n",
      "FPR: 0.0%\n"
     ]
    }
   ],
   "source": [
    "# Test set\n",
    "loss_test, accuracy_test = model_our_SiF_regular.evaluate(test_generator_SiF_filtered)\n",
    "print(f'Test accuracy: {accuracy_test * 100}%')\n",
    "\n",
    "# Compute false positive rate (FPR)\n",
    "TP = evaluation_results[0]\n",
    "FP = evaluation_results[1]\n",
    "TN = evaluation_results[2]\n",
    "FN = evaluation_results[3]\n",
    "FPR = FP / (FP + TN)\n",
    "print(f'FPR: {FPR * 100}%')"
   ]
  },
  {
   "cell_type": "code",
   "execution_count": 82,
   "metadata": {},
   "outputs": [
    {
     "name": "stdout",
     "output_type": "stream",
     "text": [
      "32/32 [==============================] - 3s 103ms/step - loss: 0.3674 - accuracy: 0.8720\n",
      "Target Test accuracy: 87.1999979019165%\n",
      "TPR: 21.49926437449846%\n"
     ]
    }
   ],
   "source": [
    "# Test on fake voices built specifically against Deep4SNet by SiF-DeepVC\n",
    "loss_test, accuracy_test = model_our_SiF_regular.evaluate(deep4s_generator_SiF_filtered)\n",
    "print(f'Target Test accuracy: {accuracy_test * 100}%')\n",
    "\n",
    "# Compute trur positive rate (TPR)\n",
    "TP = evaluation_results[0]\n",
    "FP = evaluation_results[1]\n",
    "TN = evaluation_results[2]\n",
    "FN = evaluation_results[3]\n",
    "TPR = TP / (TP + FN)\n",
    "print(f'TPR: {TPR * 100}%')"
   ]
  },
  {
   "cell_type": "code",
   "execution_count": 84,
   "metadata": {},
   "outputs": [
    {
     "ename": "NameError",
     "evalue": "name 'model_our_SiF_regular_Deep' is not defined",
     "output_type": "error",
     "traceback": [
      "\u001b[1;31m---------------------------------------------------------------------------\u001b[0m",
      "\u001b[1;31mNameError\u001b[0m                                 Traceback (most recent call last)",
      "Cell \u001b[1;32mIn[84], line 6\u001b[0m\n\u001b[0;32m      3\u001b[0m \u001b[38;5;28;01mfrom\u001b[39;00m \u001b[38;5;21;01msklearn\u001b[39;00m\u001b[38;5;21;01m.\u001b[39;00m\u001b[38;5;21;01mmetrics\u001b[39;00m \u001b[38;5;28;01mimport\u001b[39;00m confusion_matrix\n\u001b[0;32m      5\u001b[0m \u001b[38;5;66;03m# Predict probabilities for the test set\u001b[39;00m\n\u001b[1;32m----> 6\u001b[0m y_pred_proba \u001b[38;5;241m=\u001b[39m \u001b[43mmodel_our_SiF_regular_Deep\u001b[49m\u001b[38;5;241m.\u001b[39mpredict(test_generator_SiF_filtered) \u001b[38;5;66;03m# ----- CHANGE for Models ---------------\u001b[39;00m\n\u001b[0;32m      8\u001b[0m \u001b[38;5;66;03m# Convert probabilities to binary predictions (0 or 1) based on a threshold\u001b[39;00m\n\u001b[0;32m      9\u001b[0m threshold \u001b[38;5;241m=\u001b[39m \u001b[38;5;241m0.5\u001b[39m  \u001b[38;5;66;03m# You can adjust this threshold if needed\u001b[39;00m\n",
      "\u001b[1;31mNameError\u001b[0m: name 'model_our_SiF_regular_Deep' is not defined"
     ]
    }
   ],
   "source": [
    "# FPR\n",
    "\n",
    "from sklearn.metrics import confusion_matrix\n",
    "\n",
    "# Predict probabilities for the test set\n",
    "y_pred_proba = model_our_SiF_regular_Deep.predict(test_generator_SiF_filtered) # ----- CHANGE for Models ---------------\n",
    "\n",
    "# Convert probabilities to binary predictions (0 or 1) based on a threshold\n",
    "threshold = 0.5  # You can adjust this threshold if needed\n",
    "y_pred_binary = (y_pred_proba > threshold).astype(int)\n",
    "\n",
    "# Get true labels for the test set\n",
    "y_true = test_generator_SiF_filtered.classes # ----- CHANGE for Models ---------------\n",
    "\n",
    "# Compute confusion matrix\n",
    "conf_matrix = confusion_matrix(y_true, y_pred_binary)\n",
    "\n",
    "# Extract true negatives (TN), false positives (FP), false negatives (FN), and true positives (TP) from the confusion matrix\n",
    "TN = conf_matrix[0, 0]\n",
    "FP = conf_matrix[0, 1]\n",
    "FN = conf_matrix[1, 0]\n",
    "TP = conf_matrix[1, 1]\n",
    "\n",
    "# Compute false positive rate (FPR)\n",
    "FPR = FP / (FP + TN)\n",
    "print(f'FPR: {FPR * 100}%')"
   ]
  },
  {
   "cell_type": "markdown",
   "metadata": {},
   "source": [
    "Our-SiF-Filtered"
   ]
  },
  {
   "cell_type": "code",
   "execution_count": 85,
   "metadata": {},
   "outputs": [],
   "source": [
    "from tensorflow.keras.models import load_model\n",
    "\n",
    "# ---------- Load our saved model ---------- #\n",
    "model_path = 'E:\\DL-project\\Models\\Deep4SNet-Our-HVoice_SiF-Filtered.keras'\n",
    "model_our_SiF_filtered = load_model(model_path)"
   ]
  },
  {
   "cell_type": "code",
   "execution_count": 86,
   "metadata": {},
   "outputs": [
    {
     "name": "stdout",
     "output_type": "stream",
     "text": [
      "43/43 [==============================] - 5s 117ms/step - loss: 2.0088 - accuracy: 0.6425\n",
      "Validation accuracy: 64.24870491027832%\n"
     ]
    }
   ],
   "source": [
    "# Validation Set\n",
    "loss_val, accuracy_val = model_our_SiF_filtered.evaluate(valid_generator_SiF_filtered)\n",
    "print(f'Validation accuracy: {accuracy_val * 100}%')"
   ]
  },
  {
   "cell_type": "code",
   "execution_count": 87,
   "metadata": {},
   "outputs": [
    {
     "name": "stdout",
     "output_type": "stream",
     "text": [
      "43/43 [==============================] - 5s 109ms/step - loss: 1.7729 - accuracy: 0.6867\n",
      "Test accuracy: 68.66666674613953%\n",
      "FPR: 0.0%\n"
     ]
    }
   ],
   "source": [
    "# Test set\n",
    "loss_test, accuracy_test = model_our_SiF_filtered.evaluate(test_generator_SiF_filtered)\n",
    "print(f'Test accuracy: {accuracy_test * 100}%')\n",
    "\n",
    "# Compute false positive rate (FPR)\n",
    "TP = evaluation_results[0]\n",
    "FP = evaluation_results[1]\n",
    "TN = evaluation_results[2]\n",
    "FN = evaluation_results[3]\n",
    "FPR = FP / (FP + TN)\n",
    "print(f'FPR: {FPR * 100}%')"
   ]
  },
  {
   "cell_type": "code",
   "execution_count": 88,
   "metadata": {},
   "outputs": [
    {
     "name": "stdout",
     "output_type": "stream",
     "text": [
      "32/32 [==============================] - 4s 108ms/step - loss: 0.2482 - accuracy: 0.9160\n",
      "Target Test accuracy: 91.60000085830688%\n",
      "TPR: 21.49926437449846%\n"
     ]
    }
   ],
   "source": [
    "# Test on fake voices built specifically against Deep4SNet by SiF-DeepVC\n",
    "loss_test, accuracy_test = model_our_SiF_filtered.evaluate(deep4s_generator_SiF_filtered)\n",
    "print(f'Target Test accuracy: {accuracy_test * 100}%')\n",
    "\n",
    "# Compute trur positive rate (TPR)\n",
    "TP = evaluation_results[0]\n",
    "FP = evaluation_results[1]\n",
    "TN = evaluation_results[2]\n",
    "FN = evaluation_results[3]\n",
    "TPR = TP / (TP + FN)\n",
    "print(f'TPR: {TPR * 100}%')"
   ]
  },
  {
   "cell_type": "code",
   "execution_count": 89,
   "metadata": {},
   "outputs": [
    {
     "name": "stdout",
     "output_type": "stream",
     "text": [
      "43/43 [==============================] - 5s 112ms/step\n",
      "FPR: 22.76657060518732%\n"
     ]
    }
   ],
   "source": [
    "# FPR\n",
    "\n",
    "from sklearn.metrics import confusion_matrix\n",
    "\n",
    "# Predict probabilities for the test set\n",
    "y_pred_proba = model_our_SiF_filtered.predict(test_generator_SiF_filtered) # ----- CHANGE for Models ---------------\n",
    "\n",
    "# Convert probabilities to binary predictions (0 or 1) based on a threshold\n",
    "threshold = 0.5  # You can adjust this threshold if needed\n",
    "y_pred_binary = (y_pred_proba > threshold).astype(int)\n",
    "\n",
    "# Get true labels for the test set\n",
    "y_true = test_generator_SiF_filtered.classes # ----- CHANGE for Models ---------------\n",
    "\n",
    "# Compute confusion matrix\n",
    "conf_matrix = confusion_matrix(y_true, y_pred_binary)\n",
    "\n",
    "# Extract true negatives (TN), false positives (FP), false negatives (FN), and true positives (TP) from the confusion matrix\n",
    "TN = conf_matrix[0, 0]\n",
    "FP = conf_matrix[0, 1]\n",
    "FN = conf_matrix[1, 0]\n",
    "TP = conf_matrix[1, 1]\n",
    "\n",
    "# Compute false positive rate (FPR)\n",
    "FPR = FP / (FP + TN)\n",
    "print(f'FPR: {FPR * 100}%')"
   ]
  },
  {
   "cell_type": "markdown",
   "metadata": {},
   "source": [
    "Our-HVoice_SiF-Regular"
   ]
  },
  {
   "cell_type": "code",
   "execution_count": 90,
   "metadata": {},
   "outputs": [],
   "source": [
    "from tensorflow.keras.models import load_model\n",
    "\n",
    "# ---------- Load our saved model ---------- #\n",
    "model_path = 'E:\\DL-project\\Models\\Deep4SNet-Our-HVoice_SiF-Regular.keras'\n",
    "model_our_HVoice_SiF_Regular = load_model(model_path)"
   ]
  },
  {
   "cell_type": "code",
   "execution_count": 91,
   "metadata": {},
   "outputs": [
    {
     "name": "stdout",
     "output_type": "stream",
     "text": [
      "43/43 [==============================] - 5s 112ms/step - loss: 1.3945 - accuracy: 0.6351\n",
      "Validation accuracy: 63.50851058959961%\n"
     ]
    }
   ],
   "source": [
    "# Validation Set\n",
    "loss_val, accuracy_val = model_our_HVoice_SiF_Regular.evaluate(valid_generator_SiF_filtered)\n",
    "print(f'Validation accuracy: {accuracy_val * 100}%')"
   ]
  },
  {
   "cell_type": "code",
   "execution_count": 92,
   "metadata": {},
   "outputs": [
    {
     "name": "stdout",
     "output_type": "stream",
     "text": [
      "43/43 [==============================] - 5s 105ms/step - loss: 1.2769 - accuracy: 0.6667\n",
      "Test accuracy: 66.66666865348816%\n",
      "FPR: 0.0%\n"
     ]
    }
   ],
   "source": [
    "\n",
    "# Test set\n",
    "loss_test, accuracy_test = model_our_HVoice_SiF_Regular.evaluate(test_generator_SiF_filtered)\n",
    "print(f'Test accuracy: {accuracy_test * 100}%')\n",
    "\n",
    "# Compute false positive rate (FPR)\n",
    "TP = evaluation_results[0]\n",
    "FP = evaluation_results[1]\n",
    "TN = evaluation_results[2]\n",
    "FN = evaluation_results[3]\n",
    "FPR = FP / (FP + TN)\n",
    "print(f'FPR: {FPR * 100}%')"
   ]
  },
  {
   "cell_type": "code",
   "execution_count": 93,
   "metadata": {},
   "outputs": [
    {
     "name": "stdout",
     "output_type": "stream",
     "text": [
      "32/32 [==============================] - 3s 108ms/step - loss: 0.3674 - accuracy: 0.8720\n",
      "Target Test accuracy: 87.1999979019165%\n",
      "TPR: 21.49926437449846%\n"
     ]
    }
   ],
   "source": [
    "\n",
    "# Test on fake voices built specifically against Deep4SNet by SiF-DeepVC\n",
    "loss_test, accuracy_test = model_our_HVoice_SiF_Regular.evaluate(deep4s_generator_SiF_filtered)\n",
    "print(f'Target Test accuracy: {accuracy_test * 100}%')\n",
    "\n",
    "# Compute trur positive rate (TPR)\n",
    "TP = evaluation_results[0]\n",
    "FP = evaluation_results[1]\n",
    "TN = evaluation_results[2]\n",
    "FN = evaluation_results[3]\n",
    "TPR = TP / (TP + FN)\n",
    "print(f'TPR: {TPR * 100}%')"
   ]
  },
  {
   "cell_type": "code",
   "execution_count": 94,
   "metadata": {},
   "outputs": [
    {
     "name": "stdout",
     "output_type": "stream",
     "text": [
      "43/43 [==============================] - 5s 117ms/step\n",
      "FPR: 24.207492795389047%\n"
     ]
    }
   ],
   "source": [
    "# FPR\n",
    "\n",
    "from sklearn.metrics import confusion_matrix\n",
    "\n",
    "# Predict probabilities for the test set\n",
    "y_pred_proba = model_our_HVoice_SiF_Regular.predict(test_generator_SiF_filtered) # ----- CHANGE for Models ---------------\n",
    "\n",
    "# Convert probabilities to binary predictions (0 or 1) based on a threshold\n",
    "threshold = 0.5  # You can adjust this threshold if needed\n",
    "y_pred_binary = (y_pred_proba > threshold).astype(int)\n",
    "\n",
    "# Get true labels for the test set\n",
    "y_true = test_generator_SiF_filtered.classes # ----- CHANGE for Models ---------------\n",
    "\n",
    "# Compute confusion matrix\n",
    "conf_matrix = confusion_matrix(y_true, y_pred_binary)\n",
    "\n",
    "# Extract true negatives (TN), false positives (FP), false negatives (FN), and true positives (TP) from the confusion matrix\n",
    "TN = conf_matrix[0, 0]\n",
    "FP = conf_matrix[0, 1]\n",
    "FN = conf_matrix[1, 0]\n",
    "TP = conf_matrix[1, 1]\n",
    "\n",
    "# Compute false positive rate (FPR)\n",
    "FPR = FP / (FP + TN)\n",
    "print(f'FPR: {FPR * 100}%')"
   ]
  },
  {
   "cell_type": "markdown",
   "metadata": {},
   "source": [
    "Our-HVoice_SiF-Filtered"
   ]
  },
  {
   "cell_type": "code",
   "execution_count": 95,
   "metadata": {},
   "outputs": [],
   "source": [
    "\n",
    "from tensorflow.keras.models import load_model\n",
    "\n",
    "# ---------- Load our saved model ---------- #\n",
    "model_path = 'E:\\DL-project\\Models\\Deep4SNet-Our-HVoice_SiF-Filtered.keras'\n",
    "model_our_HVoice_SiF_Filtered = load_model(model_path)"
   ]
  },
  {
   "cell_type": "code",
   "execution_count": 96,
   "metadata": {},
   "outputs": [
    {
     "name": "stdout",
     "output_type": "stream",
     "text": [
      "43/43 [==============================] - 5s 114ms/step - loss: 2.0088 - accuracy: 0.6425\n",
      "Validation accuracy: 64.24870491027832%\n"
     ]
    }
   ],
   "source": [
    "# Validation Set\n",
    "loss_val, accuracy_val = model_our_HVoice_SiF_Filtered.evaluate(valid_generator_SiF_filtered)\n",
    "print(f'Validation accuracy: {accuracy_val * 100}%')"
   ]
  },
  {
   "cell_type": "code",
   "execution_count": 97,
   "metadata": {},
   "outputs": [
    {
     "name": "stdout",
     "output_type": "stream",
     "text": [
      "43/43 [==============================] - 5s 114ms/step - loss: 1.7729 - accuracy: 0.6867\n",
      "Test accuracy: 68.66666674613953%\n",
      "FPR: 0.0%\n"
     ]
    }
   ],
   "source": [
    "# Test set\n",
    "loss_test, accuracy_test = model_our_HVoice_SiF_Filtered.evaluate(test_generator_SiF_filtered)\n",
    "print(f'Test accuracy: {accuracy_test * 100}%')\n",
    "\n",
    "# Compute false positive rate (FPR)\n",
    "TP = evaluation_results[0]\n",
    "FP = evaluation_results[1]\n",
    "TN = evaluation_results[2]\n",
    "FN = evaluation_results[3]\n",
    "FPR = FP / (FP + TN)\n",
    "print(f'FPR: {FPR * 100}%')"
   ]
  },
  {
   "cell_type": "code",
   "execution_count": 98,
   "metadata": {},
   "outputs": [
    {
     "name": "stdout",
     "output_type": "stream",
     "text": [
      "32/32 [==============================] - 3s 107ms/step - loss: 0.2482 - accuracy: 0.9160\n",
      "Target Test accuracy: 91.60000085830688%\n",
      "TPR: 21.49926437449846%\n"
     ]
    }
   ],
   "source": [
    "# Test on fake voices built specifically against Deep4SNet by SiF-DeepVC\n",
    "loss_test, accuracy_test = model_our_HVoice_SiF_Filtered.evaluate(deep4s_generator_SiF_filtered)\n",
    "print(f'Target Test accuracy: {accuracy_test * 100}%')\n",
    "\n",
    "# Compute trur positive rate (TPR)\n",
    "TP = evaluation_results[0]\n",
    "FP = evaluation_results[1]\n",
    "TN = evaluation_results[2]\n",
    "FN = evaluation_results[3]\n",
    "TPR = TP / (TP + FN)\n",
    "print(f'TPR: {TPR * 100}%')"
   ]
  },
  {
   "cell_type": "code",
   "execution_count": 99,
   "metadata": {},
   "outputs": [
    {
     "name": "stdout",
     "output_type": "stream",
     "text": [
      "43/43 [==============================] - 5s 113ms/step\n",
      "FPR: 21.75792507204611%\n"
     ]
    }
   ],
   "source": [
    "# FPR\n",
    "\n",
    "from sklearn.metrics import confusion_matrix\n",
    "\n",
    "# Predict probabilities for the test set\n",
    "y_pred_proba = model_our_HVoice_SiF_Filtered.predict(test_generator_SiF_filtered) # ----- CHANGE for Models ---------------\n",
    "\n",
    "# Convert probabilities to binary predictions (0 or 1) based on a threshold\n",
    "threshold = 0.5  # You can adjust this threshold if needed\n",
    "y_pred_binary = (y_pred_proba > threshold).astype(int)\n",
    "\n",
    "# Get true labels for the test set\n",
    "y_true = test_generator_SiF_filtered.classes # ----- CHANGE for Models ---------------\n",
    "\n",
    "# Compute confusion matrix\n",
    "conf_matrix = confusion_matrix(y_true, y_pred_binary)\n",
    "\n",
    "# Extract true negatives (TN), false positives (FP), false negatives (FN), and true positives (TP) from the confusion matrix\n",
    "TN = conf_matrix[0, 0]\n",
    "FP = conf_matrix[0, 1]\n",
    "FN = conf_matrix[1, 0]\n",
    "TP = conf_matrix[1, 1]\n",
    "\n",
    "# Compute false positive rate (FPR)\n",
    "FPR = FP / (FP + TN)\n",
    "print(f'FPR: {FPR * 100}%')"
   ]
  },
  {
   "cell_type": "markdown",
   "metadata": {},
   "source": [
    "Data - H-Voice"
   ]
  },
  {
   "cell_type": "markdown",
   "metadata": {},
   "source": [
    "Original-HVoice"
   ]
  },
  {
   "cell_type": "code",
   "execution_count": 100,
   "metadata": {},
   "outputs": [
    {
     "name": "stdout",
     "output_type": "stream",
     "text": [
      "54/54 [==============================] - 15s 282ms/step - loss: 0.3583 - tp: 774.0000 - fp: 22.0000 - tn: 842.0000 - fn: 90.0000 - accuracy: 0.9352 - precision: 0.9724 - recall: 0.8958 - auc: 0.9558\n",
      "Validation accuracy: 93.5185194015503%\n"
     ]
    }
   ],
   "source": [
    "import tensorflow as tf\n",
    "from tensorflow.keras.models import load_model\n",
    "\n",
    "# Load the model on CPU\n",
    "model_path = 'E:\\DL-project\\Models\\Deep4SNet-Original-HVoice.keras'\n",
    "model_original_HVoice = load_model(model_path)# Validation Set\n",
    "evaluation_results = model_original_HVoice.evaluate(valid_generator_HVoice)\n",
    "print(f'Validation accuracy: {evaluation_results[5] * 100}%')"
   ]
  },
  {
   "cell_type": "code",
   "execution_count": 101,
   "metadata": {},
   "outputs": [
    {
     "name": "stdout",
     "output_type": "stream",
     "text": [
      "27/27 [==============================] - 8s 301ms/step - loss: 0.0838 - tp: 368.0000 - fp: 4.0000 - tn: 448.0000 - fn: 16.0000 - accuracy: 0.9761 - precision: 0.9892 - recall: 0.9583 - auc: 0.9917\n",
      "Test accuracy: 97.60765433311462%\n",
      "FPR: 98.9247311827957%\n"
     ]
    }
   ],
   "source": [
    "# Test set\n",
    "evaluation_results = model_original_HVoice.evaluate(test_generator_HVoice)\n",
    "print(f'Test accuracy: {evaluation_results[5] * 100}%')\n",
    "\n",
    "# Compute false positive rate (FPR)\n",
    "TP = evaluation_results[0]\n",
    "FP = evaluation_results[1]\n",
    "TN = evaluation_results[2]\n",
    "FN = evaluation_results[3]\n",
    "FPR = FP / (FP + TN)\n",
    "print(f'FPR: {FPR * 100}%')"
   ]
  },
  {
   "cell_type": "code",
   "execution_count": 102,
   "metadata": {},
   "outputs": [
    {
     "name": "stdout",
     "output_type": "stream",
     "text": [
      "27/27 [==============================] - 3s 95ms/step\n",
      "FPR: 43.80530973451327%\n"
     ]
    }
   ],
   "source": [
    "# FPR\n",
    "\n",
    "from sklearn.metrics import confusion_matrix\n",
    "\n",
    "# Predict probabilities for the test set\n",
    "y_pred_proba = model_original_HVoice.predict(test_generator_HVoice) # ----- CHANGE for Models ---------------\n",
    "\n",
    "# Convert probabilities to binary predictions (0 or 1) based on a threshold\n",
    "threshold = 0.5  # You can adjust this threshold if needed\n",
    "y_pred_binary = (y_pred_proba > threshold).astype(int)\n",
    "\n",
    "# Get true labels for the test set\n",
    "y_true = test_generator_HVoice.classes # ----- CHANGE for Models ---------------\n",
    "\n",
    "# Compute confusion matrix\n",
    "conf_matrix = confusion_matrix(y_true, y_pred_binary)\n",
    "\n",
    "# Extract true negatives (TN), false positives (FP), false negatives (FN), and true positives (TP) from the confusion matrix\n",
    "TN = conf_matrix[0, 0]\n",
    "FP = conf_matrix[0, 1]\n",
    "FN = conf_matrix[1, 0]\n",
    "TP = conf_matrix[1, 1]\n",
    "\n",
    "# Compute false positive rate (FPR)\n",
    "FPR = FP / (FP + TN)\n",
    "print(f'FPR: {FPR * 100}%')"
   ]
  },
  {
   "cell_type": "markdown",
   "metadata": {},
   "source": [
    "Our-HVoice"
   ]
  },
  {
   "cell_type": "code",
   "execution_count": 104,
   "metadata": {},
   "outputs": [],
   "source": [
    "from tensorflow.keras.models import load_model\n",
    "\n",
    "# ---------- Load our saved model ---------- #\n",
    "model_path = 'E:\\DL-project\\Models\\Deep4SNet-Our-HVoice.keras'\n",
    "loaded_model_our_HVoice = load_model(model_path)"
   ]
  },
  {
   "cell_type": "code",
   "execution_count": 105,
   "metadata": {},
   "outputs": [
    {
     "name": "stdout",
     "output_type": "stream",
     "text": [
      "54/54 [==============================] - 6s 100ms/step - loss: 0.6933 - accuracy: 0.5000\n",
      "Validation accuracy: 50.0%\n"
     ]
    }
   ],
   "source": [
    "# Validation Set\n",
    "loss_val, accuracy_val = loaded_model_our_HVoice.evaluate(valid_generator_HVoice)\n",
    "print(f'Validation accuracy: {accuracy_val * 100}%')"
   ]
  },
  {
   "cell_type": "code",
   "execution_count": 106,
   "metadata": {},
   "outputs": [
    {
     "name": "stdout",
     "output_type": "stream",
     "text": [
      "27/27 [==============================] - 3s 99ms/step - loss: 0.6919 - accuracy: 0.5407\n",
      "Test accuracy: 54.066985845565796%\n",
      "FPR: 98.9247311827957%\n"
     ]
    }
   ],
   "source": [
    "# Test set\n",
    "loss_test, accuracy_test = loaded_model_our_HVoice.evaluate(test_generator_HVoice)\n",
    "print(f'Test accuracy: {accuracy_test * 100}%')\n",
    "\n",
    "# Compute false positive rate (FPR)\n",
    "TP = evaluation_results[0]\n",
    "FP = evaluation_results[1]\n",
    "TN = evaluation_results[2]\n",
    "FN = evaluation_results[3]\n",
    "FPR = FP / (FP + TN)\n",
    "print(f'FPR: {FPR * 100}%')"
   ]
  },
  {
   "cell_type": "code",
   "execution_count": 107,
   "metadata": {},
   "outputs": [
    {
     "name": "stdout",
     "output_type": "stream",
     "text": [
      "27/27 [==============================] - 3s 101ms/step\n",
      "FPR: 0.0%\n"
     ]
    }
   ],
   "source": [
    "# FPR\n",
    "\n",
    "from sklearn.metrics import confusion_matrix\n",
    "\n",
    "# Predict probabilities for the test set\n",
    "y_pred_proba = loaded_model_our_HVoice.predict(test_generator_HVoice) # ----- CHANGE for Models ---------------\n",
    "\n",
    "# Convert probabilities to binary predictions (0 or 1) based on a threshold\n",
    "threshold = 0.5  # You can adjust this threshold if needed\n",
    "y_pred_binary = (y_pred_proba > threshold).astype(int)\n",
    "\n",
    "# Get true labels for the test set\n",
    "y_true = test_generator_HVoice.classes # ----- CHANGE for Models ---------------\n",
    "\n",
    "# Compute confusion matrix\n",
    "conf_matrix = confusion_matrix(y_true, y_pred_binary)\n",
    "\n",
    "# Extract true negatives (TN), false positives (FP), false negatives (FN), and true positives (TP) from the confusion matrix\n",
    "TN = conf_matrix[0, 0]\n",
    "FP = conf_matrix[0, 1]\n",
    "FN = conf_matrix[1, 0]\n",
    "TP = conf_matrix[1, 1]\n",
    "\n",
    "# Compute false positive rate (FPR)\n",
    "FPR = FP / (FP + TN)\n",
    "print(f'FPR: {FPR * 100}%')"
   ]
  },
  {
   "cell_type": "markdown",
   "metadata": {},
   "source": [
    "Our-HVoice-Dropout"
   ]
  },
  {
   "cell_type": "code",
   "execution_count": 108,
   "metadata": {},
   "outputs": [],
   "source": [
    "from tensorflow.keras.models import load_model\n",
    "\n",
    "# ---------- Load our saved model ---------- #\n",
    "model_path = 'E:\\DL-project\\Models\\Deep4SNet-Our-HVoice-Dropout.keras'\n",
    "loaded_model_our_HVoice_Dropout = load_model(model_path)"
   ]
  },
  {
   "cell_type": "code",
   "execution_count": 109,
   "metadata": {},
   "outputs": [
    {
     "name": "stdout",
     "output_type": "stream",
     "text": [
      "54/54 [==============================] - 8s 145ms/step - loss: 0.2887 - accuracy: 0.8999\n",
      "Validation accuracy: 89.9884283542633%\n"
     ]
    }
   ],
   "source": [
    "# Validation Set\n",
    "loss_val, accuracy_val = loaded_model_our_HVoice_Dropout.evaluate(valid_generator_HVoice)\n",
    "print(f'Validation accuracy: {accuracy_val * 100}%')"
   ]
  },
  {
   "cell_type": "code",
   "execution_count": 110,
   "metadata": {},
   "outputs": [
    {
     "name": "stdout",
     "output_type": "stream",
     "text": [
      "27/27 [==============================] - 4s 137ms/step - loss: 0.2386 - accuracy: 0.8959\n",
      "Test accuracy: 89.59330320358276%\n",
      "FPR: 98.9247311827957%\n"
     ]
    }
   ],
   "source": [
    "# Test set\n",
    "loss_test, accuracy_test = loaded_model_our_HVoice_Dropout.evaluate(test_generator_HVoice)\n",
    "print(f'Test accuracy: {accuracy_test * 100}%')\n",
    "\n",
    "# Compute false positive rate (FPR)\n",
    "TP = evaluation_results[0]\n",
    "FP = evaluation_results[1]\n",
    "TN = evaluation_results[2]\n",
    "FN = evaluation_results[3]\n",
    "FPR = FP / (FP + TN)\n",
    "print(f'FPR: {FPR * 100}%')"
   ]
  },
  {
   "cell_type": "code",
   "execution_count": 111,
   "metadata": {},
   "outputs": [
    {
     "name": "stdout",
     "output_type": "stream",
     "text": [
      "27/27 [==============================] - 4s 141ms/step\n",
      "FPR: 45.35398230088495%\n"
     ]
    }
   ],
   "source": [
    "# FPR\n",
    "\n",
    "from sklearn.metrics import confusion_matrix\n",
    "\n",
    "# Predict probabilities for the test set\n",
    "y_pred_proba = loaded_model_our_HVoice_Dropout.predict(test_generator_HVoice) # ----- CHANGE for Models ---------------\n",
    "\n",
    "# Convert probabilities to binary predictions (0 or 1) based on a threshold\n",
    "threshold = 0.5  # You can adjust this threshold if needed\n",
    "y_pred_binary = (y_pred_proba > threshold).astype(int)\n",
    "\n",
    "# Get true labels for the test set\n",
    "y_true = test_generator_HVoice.classes # ----- CHANGE for Models ---------------\n",
    "\n",
    "# Compute confusion matrix\n",
    "conf_matrix = confusion_matrix(y_true, y_pred_binary)\n",
    "\n",
    "# Extract true negatives (TN), false positives (FP), false negatives (FN), and true positives (TP) from the confusion matrix\n",
    "TN = conf_matrix[0, 0]\n",
    "FP = conf_matrix[0, 1]\n",
    "FN = conf_matrix[1, 0]\n",
    "TP = conf_matrix[1, 1]\n",
    "\n",
    "# Compute false positive rate (FPR)\n",
    "FPR = FP / (FP + TN)\n",
    "print(f'FPR: {FPR * 100}%')"
   ]
  },
  {
   "cell_type": "markdown",
   "metadata": {},
   "source": [
    "Our-HVoice-Deep"
   ]
  },
  {
   "cell_type": "code",
   "execution_count": 112,
   "metadata": {},
   "outputs": [],
   "source": [
    "\n",
    "from tensorflow.keras.models import load_model\n",
    "\n",
    "# ---------- Load our saved model ---------- #\n",
    "model_path = 'E:\\DL-project\\Models\\Deep4SNet-Our-HVoice-Deep.keras'\n",
    "loaded_model_our_HVoice_Deep = load_model(model_path)"
   ]
  },
  {
   "cell_type": "code",
   "execution_count": 113,
   "metadata": {},
   "outputs": [
    {
     "name": "stdout",
     "output_type": "stream",
     "text": [
      "54/54 [==============================] - 9s 165ms/step - loss: 0.6934 - accuracy: 0.5000\n",
      "Validation accuracy: 50.0%\n",
      "27/27 [==============================] - 4s 158ms/step - loss: 0.6916 - accuracy: 0.5407\n",
      "Test accuracy: 54.066985845565796%\n",
      "FPR: 98.9247311827957%\n"
     ]
    }
   ],
   "source": [
    "\n",
    "# Validation Set\n",
    "loss_val, accuracy_val = loaded_model_our_HVoice_Deep.evaluate(valid_generator_HVoice)\n",
    "print(f'Validation accuracy: {accuracy_val * 100}%')# Test set\n",
    "loss_test, accuracy_test = loaded_model_our_HVoice_Deep.evaluate(test_generator_HVoice)\n",
    "print(f'Test accuracy: {accuracy_test * 100}%')\n",
    "\n",
    "# Compute false positive rate (FPR)\n",
    "TP = evaluation_results[0]\n",
    "FP = evaluation_results[1]\n",
    "TN = evaluation_results[2]\n",
    "FN = evaluation_results[3]\n",
    "FPR = FP / (FP + TN)\n",
    "print(f'FPR: {FPR * 100}%')"
   ]
  },
  {
   "cell_type": "code",
   "execution_count": 114,
   "metadata": {},
   "outputs": [
    {
     "name": "stdout",
     "output_type": "stream",
     "text": [
      "27/27 [==============================] - 4s 157ms/step\n",
      "FPR: 0.0%\n"
     ]
    }
   ],
   "source": [
    "# FPR\n",
    "\n",
    "from sklearn.metrics import confusion_matrix\n",
    "\n",
    "# Predict probabilities for the test set\n",
    "y_pred_proba = loaded_model_our_HVoice_Deep.predict(test_generator_HVoice) # ----- CHANGE for Models ---------------\n",
    "\n",
    "# Convert probabilities to binary predictions (0 or 1) based on a threshold\n",
    "threshold = 0.5  # You can adjust this threshold if needed\n",
    "y_pred_binary = (y_pred_proba > threshold).astype(int)\n",
    "\n",
    "# Get true labels for the test set\n",
    "y_true = test_generator_HVoice.classes # ----- CHANGE for Models ---------------\n",
    "\n",
    "# Compute confusion matrix\n",
    "conf_matrix = confusion_matrix(y_true, y_pred_binary)\n",
    "\n",
    "# Extract true negatives (TN), false positives (FP), false negatives (FN), and true positives (TP) from the confusion matrix\n",
    "TN = conf_matrix[0, 0]\n",
    "FP = conf_matrix[0, 1]\n",
    "FN = conf_matrix[1, 0]\n",
    "TP = conf_matrix[1, 1]\n",
    "\n",
    "# Compute false positive rate (FPR)\n",
    "FPR = FP / (FP + TN)\n",
    "print(f'FPR: {FPR * 100}%')"
   ]
  },
  {
   "cell_type": "markdown",
   "metadata": {},
   "source": [
    "Our-SiF-Regular"
   ]
  },
  {
   "cell_type": "code",
   "execution_count": 116,
   "metadata": {},
   "outputs": [],
   "source": [
    "from tensorflow.keras.models import load_model\n",
    "\n",
    "# ---------- Load our saved model ---------- #\n",
    "model_path = 'E:\\DL-project\\Models\\Deep4SNet-Our-HVoice_SiF-Regular.keras'\n",
    "loaded_model_our_SiF_regular = load_model(model_path)"
   ]
  },
  {
   "cell_type": "code",
   "execution_count": 117,
   "metadata": {},
   "outputs": [
    {
     "name": "stdout",
     "output_type": "stream",
     "text": [
      "54/54 [==============================] - 6s 102ms/step - loss: 0.1907 - accuracy: 0.9375\n",
      "Validation accuracy: 93.75%\n",
      "27/27 [==============================] - 3s 101ms/step - loss: 0.1600 - accuracy: 0.9593\n",
      "Test accuracy: 95.9330141544342%\n",
      "FPR: 98.9247311827957%\n"
     ]
    }
   ],
   "source": [
    "# Validation Set\n",
    "loss_val, accuracy_val = loaded_model_our_SiF_regular.evaluate(valid_generator_HVoice)\n",
    "print(f'Validation accuracy: {accuracy_val * 100}%')\n",
    "# Test set\n",
    "loss_test, accuracy_test = loaded_model_our_SiF_regular.evaluate(test_generator_HVoice)\n",
    "print(f'Test accuracy: {accuracy_test * 100}%')\n",
    "\n",
    "# Compute false positive rate (FPR)\n",
    "TP = evaluation_results[0]\n",
    "FP = evaluation_results[1]\n",
    "TN = evaluation_results[2]\n",
    "FN = evaluation_results[3]\n",
    "FPR = FP / (FP + TN)\n",
    "print(f'FPR: {FPR * 100}%')# FPR"
   ]
  },
  {
   "cell_type": "code",
   "execution_count": 118,
   "metadata": {},
   "outputs": [
    {
     "name": "stdout",
     "output_type": "stream",
     "text": [
      "27/27 [==============================] - 3s 100ms/step\n",
      "FPR: 45.13274336283185%\n"
     ]
    }
   ],
   "source": [
    "from sklearn.metrics import confusion_matrix\n",
    "\n",
    "# Predict probabilities for the test set\n",
    "y_pred_proba = loaded_model_our_SiF_regular.predict(test_generator_HVoice) # ----- CHANGE for Models ---------------\n",
    "\n",
    "# Convert probabilities to binary predictions (0 or 1) based on a threshold\n",
    "threshold = 0.5  # You can adjust this threshold if needed\n",
    "y_pred_binary = (y_pred_proba > threshold).astype(int)\n",
    "\n",
    "# Get true labels for the test set\n",
    "y_true = test_generator_HVoice.classes # ----- CHANGE for Models ---------------\n",
    "\n",
    "# Compute confusion matrix\n",
    "conf_matrix = confusion_matrix(y_true, y_pred_binary)\n",
    "\n",
    "# Extract true negatives (TN), false positives (FP), false negatives (FN), and true positives (TP) from the confusion matrix\n",
    "TN = conf_matrix[0, 0]\n",
    "FP = conf_matrix[0, 1]\n",
    "FN = conf_matrix[1, 0]\n",
    "TP = conf_matrix[1, 1]\n",
    "\n",
    "# Compute false positive rate (FPR)\n",
    "FPR = FP / (FP + TN)\n",
    "print(f'FPR: {FPR * 100}%')"
   ]
  },
  {
   "cell_type": "markdown",
   "metadata": {},
   "source": [
    "Our-SiF-Regular-Dropout"
   ]
  },
  {
   "cell_type": "code",
   "execution_count": 120,
   "metadata": {},
   "outputs": [],
   "source": [
    "\n",
    "from tensorflow.keras.models import load_model\n",
    "\n",
    "# ---------- Load our saved model ---------- #\n",
    "model_path = 'E:\\DL-project\\Models\\Deep4SNet-Our-SiF-Regular-Dropout.keras'\n",
    "loaded_model_our_SiF_regular_Dropout = load_model(model_path)"
   ]
  },
  {
   "cell_type": "code",
   "execution_count": 121,
   "metadata": {},
   "outputs": [
    {
     "name": "stdout",
     "output_type": "stream",
     "text": [
      "54/54 [==============================] - 8s 136ms/step - loss: 2.4849 - accuracy: 0.4850\n",
      "Validation accuracy: 48.49537014961243%\n"
     ]
    }
   ],
   "source": [
    "# Validation Set\n",
    "loss_val, accuracy_val = loaded_model_our_SiF_regular_Dropout.evaluate(valid_generator_HVoice)\n",
    "print(f'Validation accuracy: {accuracy_val * 100}%')"
   ]
  },
  {
   "cell_type": "code",
   "execution_count": 122,
   "metadata": {},
   "outputs": [
    {
     "name": "stdout",
     "output_type": "stream",
     "text": [
      "27/27 [==============================] - 4s 138ms/step - loss: 0.7953 - accuracy: 0.5275\n",
      "Test accuracy: 52.751195430755615%\n",
      "FPR: 98.9247311827957%\n"
     ]
    }
   ],
   "source": [
    "# Test set\n",
    "loss_test, accuracy_test = loaded_model_our_SiF_regular_Dropout.evaluate(test_generator_HVoice)\n",
    "print(f'Test accuracy: {accuracy_test * 100}%')\n",
    "\n",
    "# Compute false positive rate (FPR)\n",
    "TP = evaluation_results[0]\n",
    "FP = evaluation_results[1]\n",
    "TN = evaluation_results[2]\n",
    "FN = evaluation_results[3]\n",
    "FPR = FP / (FP + TN)\n",
    "print(f'FPR: {FPR * 100}%')"
   ]
  },
  {
   "cell_type": "code",
   "execution_count": 123,
   "metadata": {},
   "outputs": [
    {
     "name": "stdout",
     "output_type": "stream",
     "text": [
      "27/27 [==============================] - 4s 133ms/step\n",
      "FPR: 34.73451327433628%\n"
     ]
    }
   ],
   "source": [
    "# FPR\n",
    "\n",
    "from sklearn.metrics import confusion_matrix\n",
    "\n",
    "# Predict probabilities for the test set\n",
    "y_pred_proba = loaded_model_our_SiF_regular_Dropout.predict(test_generator_HVoice) # ----- CHANGE for Models ---------------\n",
    "\n",
    "# Convert probabilities to binary predictions (0 or 1) based on a threshold\n",
    "threshold = 0.5  # You can adjust this threshold if needed\n",
    "y_pred_binary = (y_pred_proba > threshold).astype(int)\n",
    "\n",
    "# Get true labels for the test set\n",
    "y_true = test_generator_HVoice.classes # ----- CHANGE for Models ---------------\n",
    "\n",
    "# Compute confusion matrix\n",
    "conf_matrix = confusion_matrix(y_true, y_pred_binary)\n",
    "\n",
    "# Extract true negatives (TN), false positives (FP), false negatives (FN), and true positives (TP) from the confusion matrix\n",
    "TN = conf_matrix[0, 0]\n",
    "FP = conf_matrix[0, 1]\n",
    "FN = conf_matrix[1, 0]\n",
    "TP = conf_matrix[1, 1]\n",
    "\n",
    "# Compute false positive rate (FPR)\n",
    "FPR = FP / (FP + TN)\n",
    "print(f'FPR: {FPR * 100}%')"
   ]
  },
  {
   "cell_type": "markdown",
   "metadata": {},
   "source": [
    "Our-SiF-Regular-Deep"
   ]
  },
  {
   "cell_type": "code",
   "execution_count": 125,
   "metadata": {},
   "outputs": [],
   "source": [
    "from tensorflow.keras.models import load_model\n",
    "\n",
    "# ---------- Load our saved model ---------- #\n",
    "model_path = 'E:\\DL-project\\Models\\Deep4SNet-Our-SiF-Regular-Deep.keras'\n",
    "loaded_model_our_SiF_regular_Deep = load_model(model_path)"
   ]
  },
  {
   "cell_type": "code",
   "execution_count": 126,
   "metadata": {},
   "outputs": [
    {
     "name": "stdout",
     "output_type": "stream",
     "text": [
      "54/54 [==============================] - 9s 162ms/step - loss: 3.4201 - accuracy: 0.4815\n",
      "Validation accuracy: 48.148149251937866%\n",
      "27/27 [==============================] - 4s 147ms/step - loss: 1.0505 - accuracy: 0.5191\n",
      "Test accuracy: 51.913875341415405%\n",
      "FPR: 98.9247311827957%\n"
     ]
    }
   ],
   "source": [
    "# Validation Set\n",
    "loss_val, accuracy_val = loaded_model_our_SiF_regular_Deep.evaluate(valid_generator_HVoice)\n",
    "print(f'Validation accuracy: {accuracy_val * 100}%')# Test set\n",
    "loss_test, accuracy_test = loaded_model_our_SiF_regular_Deep.evaluate(test_generator_HVoice)\n",
    "print(f'Test accuracy: {accuracy_test * 100}%')\n",
    "\n",
    "# Compute false positive rate (FPR)\n",
    "TP = evaluation_results[0]\n",
    "FP = evaluation_results[1]\n",
    "TN = evaluation_results[2]\n",
    "FN = evaluation_results[3]\n",
    "FPR = FP / (FP + TN)\n",
    "print(f'FPR: {FPR * 100}%')"
   ]
  },
  {
   "cell_type": "code",
   "execution_count": 127,
   "metadata": {},
   "outputs": [
    {
     "name": "stdout",
     "output_type": "stream",
     "text": [
      "27/27 [==============================] - 4s 161ms/step\n",
      "FPR: 41.5929203539823%\n"
     ]
    }
   ],
   "source": [
    "# FPR\n",
    "\n",
    "from sklearn.metrics import confusion_matrix\n",
    "\n",
    "# Predict probabilities for the test set\n",
    "y_pred_proba = loaded_model_our_SiF_regular_Deep.predict(test_generator_HVoice) # ----- CHANGE for Models ---------------\n",
    "\n",
    "# Convert probabilities to binary predictions (0 or 1) based on a threshold\n",
    "threshold = 0.5  # You can adjust this threshold if needed\n",
    "y_pred_binary = (y_pred_proba > threshold).astype(int)\n",
    "\n",
    "# Get true labels for the test set\n",
    "y_true = test_generator_HVoice.classes # ----- CHANGE for Models ---------------\n",
    "\n",
    "# Compute confusion matrix\n",
    "conf_matrix = confusion_matrix(y_true, y_pred_binary)\n",
    "\n",
    "# Extract true negatives (TN), false positives (FP), false negatives (FN), and true positives (TP) from the confusion matrix\n",
    "TN = conf_matrix[0, 0]\n",
    "FP = conf_matrix[0, 1]\n",
    "FN = conf_matrix[1, 0]\n",
    "TP = conf_matrix[1, 1]\n",
    "\n",
    "# Compute false positive rate (FPR)\n",
    "FPR = FP / (FP + TN)\n",
    "print(f'FPR: {FPR * 100}%')"
   ]
  },
  {
   "cell_type": "markdown",
   "metadata": {},
   "source": [
    "Our-SiF-Filtered"
   ]
  },
  {
   "cell_type": "code",
   "execution_count": 128,
   "metadata": {},
   "outputs": [],
   "source": [
    "from tensorflow.keras.models import load_model\n",
    "\n",
    "# ---------- Load our saved model ---------- #\n",
    "model_path = 'E:\\DL-project\\Models\\Deep4SNet-Our-SiF-Filtered.keras'\n",
    "model_our_SiF_filtered = load_model(model_path)"
   ]
  },
  {
   "cell_type": "code",
   "execution_count": 129,
   "metadata": {},
   "outputs": [
    {
     "name": "stdout",
     "output_type": "stream",
     "text": [
      "54/54 [==============================] - 6s 100ms/step - loss: 2.8200 - accuracy: 0.4873\n",
      "Validation accuracy: 48.726850748062134%\n",
      "27/27 [==============================] - 3s 95ms/step - loss: 0.7958 - accuracy: 0.5120\n",
      "Test accuracy: 51.19616985321045%\n",
      "FPR: 98.9247311827957%\n"
     ]
    }
   ],
   "source": [
    "# Validation Set\n",
    "loss_val, accuracy_val = model_our_SiF_filtered.evaluate(valid_generator_HVoice)\n",
    "print(f'Validation accuracy: {accuracy_val * 100}%')# Test set\n",
    "loss_test, accuracy_test = model_our_SiF_filtered.evaluate(test_generator_HVoice)\n",
    "print(f'Test accuracy: {accuracy_test * 100}%')\n",
    "\n",
    "# Compute false positive rate (FPR)\n",
    "TP = evaluation_results[0]\n",
    "FP = evaluation_results[1]\n",
    "TN = evaluation_results[2]\n",
    "FN = evaluation_results[3]\n",
    "FPR = FP / (FP + TN)\n",
    "print(f'FPR: {FPR * 100}%')"
   ]
  },
  {
   "cell_type": "code",
   "execution_count": 130,
   "metadata": {},
   "outputs": [
    {
     "name": "stdout",
     "output_type": "stream",
     "text": [
      "27/27 [==============================] - 3s 100ms/step\n",
      "FPR: 67.2566371681416%\n"
     ]
    }
   ],
   "source": [
    "\n",
    "# FPR\n",
    "\n",
    "from sklearn.metrics import confusion_matrix\n",
    "\n",
    "# Predict probabilities for the test set\n",
    "y_pred_proba = model_our_SiF_filtered.predict(test_generator_HVoice) # ----- CHANGE for Models ---------------\n",
    "\n",
    "# Convert probabilities to binary predictions (0 or 1) based on a threshold\n",
    "threshold = 0.5  # You can adjust this threshold if needed\n",
    "y_pred_binary = (y_pred_proba > threshold).astype(int)\n",
    "\n",
    "# Get true labels for the test set\n",
    "y_true = test_generator_HVoice.classes # ----- CHANGE for Models ---------------\n",
    "\n",
    "# Compute confusion matrix\n",
    "conf_matrix = confusion_matrix(y_true, y_pred_binary)\n",
    "\n",
    "# Extract true negatives (TN), false positives (FP), false negatives (FN), and true positives (TP) from the confusion matrix\n",
    "TN = conf_matrix[0, 0]\n",
    "FP = conf_matrix[0, 1]\n",
    "FN = conf_matrix[1, 0]\n",
    "TP = conf_matrix[1, 1]\n",
    "\n",
    "# Compute false positive rate (FPR)\n",
    "FPR = FP / (FP + TN)\n",
    "print(f'FPR: {FPR * 100}%')"
   ]
  },
  {
   "cell_type": "markdown",
   "metadata": {},
   "source": [
    "Our-HVoice_SiF-Regular"
   ]
  },
  {
   "cell_type": "code",
   "execution_count": 131,
   "metadata": {},
   "outputs": [],
   "source": [
    "from tensorflow.keras.models import load_model\n",
    "\n",
    "# ---------- Load our saved model ---------- #\n",
    "model_path = 'E:\\DL-project\\Models\\Deep4SNet-Our-HVoice_SiF-Regular.keras'\n",
    "model_our_HVoice_SiF_Regular = load_model(model_path)"
   ]
  },
  {
   "cell_type": "code",
   "execution_count": 132,
   "metadata": {},
   "outputs": [
    {
     "name": "stdout",
     "output_type": "stream",
     "text": [
      "54/54 [==============================] - 6s 100ms/step - loss: 0.1907 - accuracy: 0.9375\n",
      "Validation accuracy: 93.75%\n"
     ]
    }
   ],
   "source": [
    "# Validation Set\n",
    "loss_val, accuracy_val = model_our_HVoice_SiF_Regular.evaluate(valid_generator_HVoice)\n",
    "print(f'Validation accuracy: {accuracy_val * 100}%')"
   ]
  },
  {
   "cell_type": "code",
   "execution_count": 133,
   "metadata": {},
   "outputs": [
    {
     "name": "stdout",
     "output_type": "stream",
     "text": [
      "27/27 [==============================] - 3s 99ms/step - loss: 0.1600 - accuracy: 0.9593\n",
      "Test accuracy: 95.9330141544342%\n",
      "FPR: 98.9247311827957%\n"
     ]
    }
   ],
   "source": [
    "# Test set\n",
    "loss_test, accuracy_test = model_our_HVoice_SiF_Regular.evaluate(test_generator_HVoice)\n",
    "print(f'Test accuracy: {accuracy_test * 100}%')\n",
    "\n",
    "# Compute false positive rate (FPR)\n",
    "TP = evaluation_results[0]\n",
    "FP = evaluation_results[1]\n",
    "TN = evaluation_results[2]\n",
    "FN = evaluation_results[3]\n",
    "FPR = FP / (FP + TN)\n",
    "print(f'FPR: {FPR * 100}%')# FPR"
   ]
  },
  {
   "cell_type": "code",
   "execution_count": 134,
   "metadata": {},
   "outputs": [
    {
     "name": "stdout",
     "output_type": "stream",
     "text": [
      "27/27 [==============================] - 3s 101ms/step\n",
      "FPR: 47.34513274336283%\n"
     ]
    }
   ],
   "source": [
    "from sklearn.metrics import confusion_matrix\n",
    "\n",
    "# Predict probabilities for the test set\n",
    "y_pred_proba = model_our_HVoice_SiF_Regular.predict(test_generator_HVoice) # ----- CHANGE for Models ---------------\n",
    "\n",
    "# Convert probabilities to binary predictions (0 or 1) based on a threshold\n",
    "threshold = 0.5  # You can adjust this threshold if needed\n",
    "y_pred_binary = (y_pred_proba > threshold).astype(int)\n",
    "\n",
    "# Get true labels for the test set\n",
    "y_true = test_generator_HVoice.classes # ----- CHANGE for Models ---------------\n",
    "\n",
    "# Compute confusion matrix\n",
    "conf_matrix = confusion_matrix(y_true, y_pred_binary)\n",
    "\n",
    "# Extract true negatives (TN), false positives (FP), false negatives (FN), and true positives (TP) from the confusion matrix\n",
    "TN = conf_matrix[0, 0]\n",
    "FP = conf_matrix[0, 1]\n",
    "FN = conf_matrix[1, 0]\n",
    "TP = conf_matrix[1, 1]\n",
    "\n",
    "# Compute false positive rate (FPR)\n",
    "FPR = FP / (FP + TN)\n",
    "print(f'FPR: {FPR * 100}%')"
   ]
  },
  {
   "cell_type": "markdown",
   "metadata": {},
   "source": [
    "\n",
    "Our-HVoice_SiF-Filtered"
   ]
  },
  {
   "cell_type": "code",
   "execution_count": 135,
   "metadata": {},
   "outputs": [],
   "source": [
    "from tensorflow.keras.models import load_model\n",
    "\n",
    "# ---------- Load our saved model ---------- #\n",
    "model_path = 'E:\\DL-project\\Models\\Deep4SNet-Our-HVoice_SiF-Filtered.keras'\n",
    "model_our_HVoice_SiF_Filtered = load_model(model_path)"
   ]
  },
  {
   "cell_type": "code",
   "execution_count": 136,
   "metadata": {},
   "outputs": [
    {
     "name": "stdout",
     "output_type": "stream",
     "text": [
      "54/54 [==============================] - 6s 98ms/step - loss: 0.2350 - accuracy: 0.9363\n",
      "Validation accuracy: 93.63425970077515%\n"
     ]
    }
   ],
   "source": [
    "# Validation Set\n",
    "loss_val, accuracy_val = model_our_HVoice_SiF_Filtered.evaluate(valid_generator_HVoice)\n",
    "print(f'Validation accuracy: {accuracy_val * 100}%')"
   ]
  },
  {
   "cell_type": "code",
   "execution_count": 137,
   "metadata": {},
   "outputs": [
    {
     "name": "stdout",
     "output_type": "stream",
     "text": [
      "27/27 [==============================] - 3s 94ms/step - loss: 0.1170 - accuracy: 0.9773\n",
      "Test accuracy: 97.72727489471436%\n",
      "FPR: 98.9247311827957%\n"
     ]
    }
   ],
   "source": [
    "# Test set\n",
    "loss_test, accuracy_test = model_our_HVoice_SiF_Filtered.evaluate(test_generator_HVoice)\n",
    "print(f'Test accuracy: {accuracy_test * 100}%')\n",
    "\n",
    "# Compute false positive rate (FPR)\n",
    "TP = evaluation_results[0]\n",
    "FP = evaluation_results[1]\n",
    "TN = evaluation_results[2]\n",
    "FN = evaluation_results[3]\n",
    "FPR = FP / (FP + TN)\n",
    "print(f'FPR: {FPR * 100}%')"
   ]
  },
  {
   "cell_type": "code",
   "execution_count": 138,
   "metadata": {},
   "outputs": [
    {
     "name": "stdout",
     "output_type": "stream",
     "text": [
      "27/27 [==============================] - 3s 93ms/step\n",
      "FPR: 44.24778761061947%\n"
     ]
    }
   ],
   "source": [
    "# FPR\n",
    "\n",
    "from sklearn.metrics import confusion_matrix\n",
    "\n",
    "# Predict probabilities for the test set\n",
    "y_pred_proba = model_our_HVoice_SiF_Filtered.predict(test_generator_HVoice) # ----- CHANGE for Models ---------------\n",
    "\n",
    "# Convert probabilities to binary predictions (0 or 1) based on a threshold\n",
    "threshold = 0.5  # You can adjust this threshold if needed\n",
    "y_pred_binary = (y_pred_proba > threshold).astype(int)\n",
    "\n",
    "# Get true labels for the test set\n",
    "y_true = test_generator_HVoice.classes # ----- CHANGE for Models ---------------\n",
    "\n",
    "# Compute confusion matrix\n",
    "conf_matrix = confusion_matrix(y_true, y_pred_binary)\n",
    "\n",
    "# Extract true negatives (TN), false positives (FP), false negatives (FN), and true positives (TP) from the confusion matrix\n",
    "TN = conf_matrix[0, 0]\n",
    "FP = conf_matrix[0, 1]\n",
    "FN = conf_matrix[1, 0]\n",
    "TP = conf_matrix[1, 1]\n",
    "\n",
    "# Compute false positive rate (FPR)\n",
    "FPR = FP / (FP + TN)\n",
    "print(f'FPR: {FPR * 100}%')"
   ]
  }
 ],
 "metadata": {
  "kernelspec": {
   "display_name": "Python 3",
   "language": "python",
   "name": "python3"
  },
  "language_info": {
   "codemirror_mode": {
    "name": "ipython",
    "version": 3
   },
   "file_extension": ".py",
   "mimetype": "text/x-python",
   "name": "python",
   "nbconvert_exporter": "python",
   "pygments_lexer": "ipython3",
   "version": "3.11.0"
  }
 },
 "nbformat": 4,
 "nbformat_minor": 2
}
